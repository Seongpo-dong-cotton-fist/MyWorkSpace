{
  "cells": [
    {
      "cell_type": "code",
      "execution_count": 1,
      "metadata": {
        "id": "kPckPwFAohha"
      },
      "outputs": [],
      "source": [
        "from sklearn.model_selection import train_test_split\n",
        "import pandas as pd\n",
        "from sklearn.feature_selection import *\n",
        "from sklearn.decomposition import PCA\n",
        "from lightgbm import LGBMClassifier\n",
        "import matplotlib.pyplot as plt\n",
        "import seaborn as sns\n",
        "from sklearn.metrics import precision_score, recall_score, f1_score, confusion_matrix, precision_recall_curve, accuracy_score,roc_auc_score\n"
      ]
    },
    {
      "cell_type": "code",
      "execution_count": 2,
      "metadata": {
        "colab": {
          "base_uri": "https://localhost:8080/"
        },
        "id": "ZpVrnodKolMa",
        "outputId": "de5a7a64-7205-457b-a002-7d983591c084"
      },
      "outputs": [
        {
          "name": "stdout",
          "output_type": "stream",
          "text": [
            "Drive already mounted at /content/drive; to attempt to forcibly remount, call drive.mount(\"/content/drive\", force_remount=True).\n"
          ]
        }
      ],
      "source": [
        "from google.colab import drive\n",
        "drive.mount('/content/drive')\n",
        "\n",
        "bankruptcy = '/content/drive/MyDrive/data.csv'"
      ]
    },
    {
      "cell_type": "code",
      "execution_count": 3,
      "metadata": {
        "id": "47gjD8bTolfv"
      },
      "outputs": [],
      "source": [
        "# 데이터로드\n",
        "df = pd.read_csv(bankruptcy)\n",
        "df\n",
        "x=df.drop(['budo'],axis=1)\n",
        "y=df['budo']\n",
        "x_train, x_test, y_train, y_test = train_test_split(x,y, test_size=0.3, shuffle=True, stratify=y, random_state=42 )"
      ]
    },
    {
      "cell_type": "code",
      "execution_count": 4,
      "metadata": {
        "colab": {
          "base_uri": "https://localhost:8080/"
        },
        "id": "-oDkVyszqbyH",
        "outputId": "c61d8be3-315f-4be2-90ea-1790e9d0ffa8"
      },
      "outputs": [
        {
          "data": {
            "text/plain": [
              "0    43250\n",
              "1     2623\n",
              "Name: budo, dtype: int64"
            ]
          },
          "execution_count": 4,
          "metadata": {},
          "output_type": "execute_result"
        }
      ],
      "source": [
        "# 클래스 불균형 확인\n",
        "y_train.value_counts()"
      ]
    },
    {
      "cell_type": "markdown",
      "metadata": {
        "id": "RU4e2Wfnrjxv"
      },
      "source": [
        "# UnderSampling"
      ]
    },
    {
      "cell_type": "code",
      "execution_count": 5,
      "metadata": {
        "id": "jwjIvupgp1Dj"
      },
      "outputs": [],
      "source": [
        "from imblearn.under_sampling import NearMiss\n",
        "# 2 는 모든 소수 클래스 샘플까지의 평균 거리 활용\n",
        "\n",
        "NM_model = NearMiss(version = 2)\n",
        "\n",
        "x_train_u, y_train_u = NM_model.fit_resample(x_train, y_train)\n",
        "x_train_u = pd.DataFrame(x_train_u, columns = x.columns)\n",
        "y_train_u = pd.Series(y_train_u)\n",
        "\n",
        "\n",
        "# NM_model = NearMiss(version = 2, sampling_strategy={1:y_train_u.value_counts().iloc[-1], 0:y_train_u.value_counts().iloc[-1]*5})\n",
        "\n",
        "# x_train_u, y_train_u = NM_model.fit_resample(x_train, y_train)\n",
        "# x_train_u = pd.DataFrame(x_train_u, columns = x.columns)\n",
        "# y_train_u = pd.Series(y_train_u)\n"
      ]
    },
    {
      "cell_type": "code",
      "execution_count": 6,
      "metadata": {
        "colab": {
          "base_uri": "https://localhost:8080/"
        },
        "id": "2qnVV3FxrUoo",
        "outputId": "529690c3-ab45-49d3-e6c5-a43cc900c0c9"
      },
      "outputs": [
        {
          "data": {
            "text/plain": [
              "0    2623\n",
              "1    2623\n",
              "Name: budo, dtype: int64"
            ]
          },
          "execution_count": 6,
          "metadata": {},
          "output_type": "execute_result"
        }
      ],
      "source": [
        "y_train_u.value_counts()"
      ]
    },
    {
      "cell_type": "markdown",
      "metadata": {
        "id": "3_WfOxjlowyu"
      },
      "source": [
        "# 스케일링 없이"
      ]
    },
    {
      "cell_type": "code",
      "execution_count": 7,
      "metadata": {
        "colab": {
          "base_uri": "https://localhost:8080/"
        },
        "id": "qJr83x17om6e",
        "outputId": "c38d87c2-20cf-477d-cdcd-bcb1d923da42"
      },
      "outputs": [
        {
          "data": {
            "text/plain": [
              "0.12136317395727365"
            ]
          },
          "execution_count": 7,
          "metadata": {},
          "output_type": "execute_result"
        }
      ],
      "source": [
        "lgb = LGBMClassifier()\n",
        "lgb.fit(x_train_u, y_train_u)\n",
        "lgb.predict(x_test)\n",
        "lgb.score(x_test, y_test)"
      ]
    },
    {
      "cell_type": "markdown",
      "metadata": {
        "id": "g2uGSYUPutt3"
      },
      "source": [
        "precision_score, recall_score, f1_score"
      ]
    },
    {
      "cell_type": "code",
      "execution_count": 8,
      "metadata": {
        "colab": {
          "base_uri": "https://localhost:8080/"
        },
        "id": "FRmqbezxus5w",
        "outputId": "c20da2ed-91fb-4deb-aaf4-758056ee5a6a"
      },
      "outputs": [
        {
          "name": "stdout",
          "output_type": "stream",
          "text": [
            "f1 score : 0.109\n",
            "recall score : 0.940\n",
            "precision score : 0.058\n"
          ]
        }
      ],
      "source": [
        "pred = lgb.predict(x_test)\n",
        "f1 = f1_score(y_test, pred)\n",
        "recall = recall_score(y_test, pred)\n",
        "pre = precision_score(y_test, pred)\n",
        "print(\"f1 score : {:.3f}\".format(f1))\n",
        "print(\"recall score : {:.3f}\".format(recall))\n",
        "print(\"precision score : {:.3f}\".format(pre))"
      ]
    },
    {
      "cell_type": "markdown",
      "metadata": {
        "id": "mGwx28t-wGCG"
      },
      "source": [
        "# MinMax"
      ]
    },
    {
      "cell_type": "code",
      "execution_count": 9,
      "metadata": {
        "id": "iLZ1jmPP4Fmx"
      },
      "outputs": [],
      "source": [
        "# 데이터로드\n",
        "df = pd.read_csv(bankruptcy)\n",
        "df\n",
        "x=df.drop(['budo'],axis=1)\n",
        "y=df['budo']\n",
        "x_train, x_test, y_train, y_test = train_test_split(x,y, test_size=0.3, shuffle=True, stratify=y, random_state=42 )"
      ]
    },
    {
      "cell_type": "code",
      "execution_count": 10,
      "metadata": {
        "id": "vgdQGQgUpfLY"
      },
      "outputs": [],
      "source": [
        "from sklearn.preprocessing import MinMaxScaler\n",
        "\n",
        "scaler = MinMaxScaler()\n",
        "scaler.fit(x_train)\n",
        "x_train_mms = scaler.transform(x_train)\n",
        "x_test_mms = scaler.transform(x_test)\n",
        "\n"
      ]
    },
    {
      "cell_type": "code",
      "execution_count": 11,
      "metadata": {
        "id": "xe5EVC2aymKh"
      },
      "outputs": [],
      "source": [
        "NM_model = NearMiss(version = 2)\n",
        "\n",
        "x_train_u, y_train_u = NM_model.fit_resample(x_train_mms, y_train)\n",
        "x_train_u = pd.DataFrame(x_train_u, columns = x.columns)\n",
        "y_train_u = pd.Series(y_train_u)\n"
      ]
    },
    {
      "cell_type": "code",
      "execution_count": 12,
      "metadata": {
        "colab": {
          "base_uri": "https://localhost:8080/"
        },
        "id": "k_N-NjpCylFt",
        "outputId": "9c12a5a7-dee7-43ee-ff42-02f3f56f1825"
      },
      "outputs": [
        {
          "data": {
            "text/plain": [
              "0.21612410986775177"
            ]
          },
          "execution_count": 12,
          "metadata": {},
          "output_type": "execute_result"
        }
      ],
      "source": [
        "lgb.fit(x_train_u, y_train_u)\n",
        "lgb.predict(x_test_mms)\n",
        "lgb.score(x_test_mms, y_test)"
      ]
    },
    {
      "cell_type": "code",
      "execution_count": 13,
      "metadata": {
        "colab": {
          "base_uri": "https://localhost:8080/"
        },
        "id": "CPUfZkMIxz0i",
        "outputId": "e612fbc7-0363-4d50-cb0a-25b37ce87acb"
      },
      "outputs": [
        {
          "name": "stdout",
          "output_type": "stream",
          "text": [
            "f1 score : 0.114\n",
            "recall score : 0.878\n",
            "precision score : 0.061\n"
          ]
        }
      ],
      "source": [
        "pred = lgb.predict(x_test_mms)\n",
        "f1_MM = f1_score(y_test, pred)\n",
        "recall_MM = recall_score(y_test, pred)\n",
        "pre_MM = precision_score(y_test, pred)\n",
        "print(\"f1 score : {:.3f}\".format(f1_MM))\n",
        "print(\"recall score : {:.3f}\".format(recall_MM))\n",
        "print(\"precision score : {:.3f}\".format(pre_MM))"
      ]
    },
    {
      "cell_type": "markdown",
      "metadata": {
        "id": "y7jbsmY9x-ch"
      },
      "source": [
        "# Standard"
      ]
    },
    {
      "cell_type": "code",
      "execution_count": 14,
      "metadata": {
        "id": "bYlI1Icn4Gpb"
      },
      "outputs": [],
      "source": [
        "# 데이터로드\n",
        "df = pd.read_csv(bankruptcy)\n",
        "df\n",
        "x=df.drop(['budo'],axis=1)\n",
        "y=df['budo']\n",
        "x_train, x_test, y_train, y_test = train_test_split(x,y, test_size=0.3, shuffle=True, stratify=y, random_state=42 )"
      ]
    },
    {
      "cell_type": "code",
      "execution_count": 15,
      "metadata": {
        "id": "DKMnsg0iyBnq"
      },
      "outputs": [],
      "source": [
        "from sklearn.preprocessing import StandardScaler\n",
        "\n",
        "scaler = StandardScaler()\n",
        "scaler.fit(x_train)\n",
        "x_train_st = scaler.transform(x_train)\n",
        "x_test_st = scaler.transform(x_test)\n"
      ]
    },
    {
      "cell_type": "code",
      "execution_count": 16,
      "metadata": {
        "id": "oR9jjzCwz6gg"
      },
      "outputs": [],
      "source": [
        "NM_model = NearMiss(version = 2)\n",
        "\n",
        "x_train_u, y_train_u = NM_model.fit_resample(x_train_st, y_train)\n",
        "x_train_u = pd.DataFrame(x_train_u, columns = x.columns)\n",
        "y_train_u = pd.Series(y_train_u)"
      ]
    },
    {
      "cell_type": "code",
      "execution_count": 17,
      "metadata": {
        "colab": {
          "base_uri": "https://localhost:8080/"
        },
        "id": "pDZc0NUYz57u",
        "outputId": "69004cda-f169-41a8-87f6-2bedacb6441e"
      },
      "outputs": [
        {
          "data": {
            "text/plain": [
              "0.206205493387589"
            ]
          },
          "execution_count": 17,
          "metadata": {},
          "output_type": "execute_result"
        }
      ],
      "source": [
        "lgb.fit(x_train_u, y_train_u)\n",
        "lgb.predict(x_test_st)\n",
        "lgb.score(x_test_st, y_test)"
      ]
    },
    {
      "cell_type": "code",
      "execution_count": 18,
      "metadata": {
        "colab": {
          "base_uri": "https://localhost:8080/"
        },
        "id": "Jx8i-irU0DAS",
        "outputId": "c5fdacd6-8a16-4784-96a1-f79157e5336d"
      },
      "outputs": [
        {
          "name": "stdout",
          "output_type": "stream",
          "text": [
            "f1 score : 0.105\n",
            "recall score : 0.961\n",
            "precision score : 0.056\n"
          ]
        }
      ],
      "source": [
        "pred = lgb.predict(x_test_mms)\n",
        "f1_S = f1_score(y_test, pred)\n",
        "recall_S = recall_score(y_test, pred)\n",
        "pre_S = precision_score(y_test, pred)\n",
        "print(\"f1 score : {:.3f}\".format(f1_S))\n",
        "print(\"recall score : {:.3f}\".format(recall_S))\n",
        "print(\"precision score : {:.3f}\".format(pre_S))"
      ]
    },
    {
      "cell_type": "markdown",
      "metadata": {
        "id": "13P_-CzP0b7-"
      },
      "source": [
        "# Robust"
      ]
    },
    {
      "cell_type": "code",
      "execution_count": 19,
      "metadata": {
        "id": "J508PfEK4HLb"
      },
      "outputs": [],
      "source": [
        "# 데이터로드\n",
        "df = pd.read_csv(bankruptcy)\n",
        "df\n",
        "x=df.drop(['budo'],axis=1)\n",
        "y=df['budo']\n",
        "x_train, x_test, y_train, y_test = train_test_split(x,y, test_size=0.3, shuffle=True, stratify=y, random_state=42 )"
      ]
    },
    {
      "cell_type": "code",
      "execution_count": 20,
      "metadata": {
        "id": "6esNuPyr0gEz"
      },
      "outputs": [],
      "source": [
        "from sklearn.preprocessing import RobustScaler\n",
        "\n",
        "scaler = RobustScaler()\n",
        "scaler.fit(x_train)\n",
        "x_train_rb = scaler.transform(x_train)\n",
        "x_test_rb = scaler.transform(x_test)\n"
      ]
    },
    {
      "cell_type": "code",
      "execution_count": 21,
      "metadata": {
        "id": "VYGbqDMM0p5Q"
      },
      "outputs": [],
      "source": [
        "NM_model = NearMiss(version = 2)\n",
        "\n",
        "x_train_u, y_train_u = NM_model.fit_resample(x_train_rb, y_train)\n",
        "x_train_u = pd.DataFrame(x_train_u, columns = x.columns)\n",
        "y_train_u = pd.Series(y_train_u)"
      ]
    },
    {
      "cell_type": "code",
      "execution_count": 22,
      "metadata": {
        "colab": {
          "base_uri": "https://localhost:8080/"
        },
        "id": "RPBRVOF30tmB",
        "outputId": "0d0c6f52-c49f-42c9-d82a-b222568c4c97"
      },
      "outputs": [
        {
          "data": {
            "text/plain": [
              "0.11414038657171922"
            ]
          },
          "execution_count": 22,
          "metadata": {},
          "output_type": "execute_result"
        }
      ],
      "source": [
        "lgb.fit(x_train_u, y_train_u)\n",
        "lgb.predict(x_test_rb)\n",
        "lgb.score(x_test_rb, y_test)"
      ]
    },
    {
      "cell_type": "code",
      "execution_count": 23,
      "metadata": {
        "colab": {
          "base_uri": "https://localhost:8080/"
        },
        "id": "AZ0CPs250x6D",
        "outputId": "fa74099c-d688-4136-94ff-89917a392e98"
      },
      "outputs": [
        {
          "name": "stdout",
          "output_type": "stream",
          "text": [
            "f1 score : 0.106\n",
            "recall score : 0.919\n",
            "precision score : 0.056\n"
          ]
        }
      ],
      "source": [
        "pred = lgb.predict(x_test_rb)\n",
        "f1_R = f1_score(y_test, pred)\n",
        "recall_R = recall_score(y_test, pred)\n",
        "pre_R = precision_score(y_test, pred)\n",
        "print(\"f1 score : {:.3f}\".format(f1_R))\n",
        "print(\"recall score : {:.3f}\".format(recall_R))\n",
        "print(\"precision score : {:.3f}\".format(pre_R))"
      ]
    },
    {
      "cell_type": "markdown",
      "metadata": {
        "id": "meTe15lU1U_c"
      },
      "source": [
        "# Normalizer"
      ]
    },
    {
      "cell_type": "code",
      "execution_count": 24,
      "metadata": {
        "id": "7frt5dik4Hq6"
      },
      "outputs": [],
      "source": [
        "# 데이터로드\n",
        "df = pd.read_csv(bankruptcy)\n",
        "df\n",
        "x=df.drop(['budo'],axis=1)\n",
        "y=df['budo']\n",
        "x_train, x_test, y_train, y_test = train_test_split(x,y, test_size=0.3, shuffle=True, stratify=y, random_state=42 )"
      ]
    },
    {
      "cell_type": "code",
      "execution_count": 25,
      "metadata": {
        "id": "XF-btRHc1XtM"
      },
      "outputs": [],
      "source": [
        "from sklearn.preprocessing import Normalizer\n",
        "\n",
        "scaler = Normalizer()\n",
        "scaler.fit(x_train)\n",
        "x_train_N = scaler.transform(x_train)\n",
        "x_test_N = scaler.transform(x_test)\n"
      ]
    },
    {
      "cell_type": "code",
      "execution_count": 26,
      "metadata": {
        "id": "vINFdEro1eH8"
      },
      "outputs": [],
      "source": [
        "NM_model = NearMiss(version = 2)\n",
        "\n",
        "x_train_u, y_train_u = NM_model.fit_resample(x_train_N, y_train)\n",
        "x_train_u = pd.DataFrame(x_train_u, columns = x.columns)\n",
        "y_train_u = pd.Series(y_train_u)"
      ]
    },
    {
      "cell_type": "code",
      "execution_count": 27,
      "metadata": {
        "colab": {
          "base_uri": "https://localhost:8080/"
        },
        "id": "d6P3Qt7f1hOk",
        "outputId": "1746f2aa-12d5-4180-8628-9f37c526043a"
      },
      "outputs": [
        {
          "data": {
            "text/plain": [
              "0.14730417090539166"
            ]
          },
          "execution_count": 27,
          "metadata": {},
          "output_type": "execute_result"
        }
      ],
      "source": [
        "lgb.fit(x_train_u, y_train_u)\n",
        "lgb.predict(x_test_N)\n",
        "lgb.score(x_test_N, y_test)"
      ]
    },
    {
      "cell_type": "code",
      "execution_count": 28,
      "metadata": {
        "colab": {
          "base_uri": "https://localhost:8080/"
        },
        "id": "6b_J9xld1kIT",
        "outputId": "677a2d57-b22a-4fb6-cd09-7424277c66e1"
      },
      "outputs": [
        {
          "name": "stdout",
          "output_type": "stream",
          "text": [
            "f1 score : 0.111\n",
            "recall score : 0.931\n",
            "precision score : 0.059\n"
          ]
        }
      ],
      "source": [
        "pred = lgb.predict(x_test_N)\n",
        "f1_N = f1_score(y_test, pred)\n",
        "recall_N = recall_score(y_test, pred)\n",
        "pre_N = precision_score(y_test, pred)\n",
        "print(\"f1 score : {:.3f}\".format(f1_N))\n",
        "print(\"recall score : {:.3f}\".format(recall_N))\n",
        "print(\"precision score : {:.3f}\".format(pre_N))"
      ]
    },
    {
      "cell_type": "markdown",
      "metadata": {
        "id": "_zkUqn1r1xMW"
      },
      "source": [
        "# 총 정리\n"
      ]
    },
    {
      "cell_type": "code",
      "execution_count": 29,
      "metadata": {
        "colab": {
          "base_uri": "https://localhost:8080/"
        },
        "id": "m4vQ5CB31zgz",
        "outputId": "ae0b774f-1eb7-441f-b636-45f07638e5df"
      },
      "outputs": [
        {
          "name": "stdout",
          "output_type": "stream",
          "text": [
            "스케일링 없이\n",
            "f1 score : 0.109\n",
            "recall score : 0.940\n",
            "precision score : 0.058\n",
            "\n",
            "MinMax Scaler\n",
            "f1 score : 0.114\n",
            "recall score : 0.878\n",
            "precision score : 0.061\n",
            "\n",
            "Standard Scaler\n",
            "f1 score : 0.105\n",
            "recall score : 0.961\n",
            "precision score : 0.056\n",
            "\n",
            "Robust Scaler\n",
            "f1 score : 0.106\n",
            "recall score : 0.919\n",
            "precision score : 0.056\n",
            "\n",
            "Normalizer\n",
            "f1 score : 0.111\n",
            "recall score : 0.931\n",
            "precision score : 0.059\n"
          ]
        }
      ],
      "source": [
        "print(\"스케일링 없이\")\n",
        "print(\"f1 score : {:.3f}\".format(f1))\n",
        "print(\"recall score : {:.3f}\".format(recall))\n",
        "print(\"precision score : {:.3f}\".format(pre))\n",
        "print(\"\")\n",
        "print(\"MinMax Scaler\")\n",
        "print(\"f1 score : {:.3f}\".format(f1_MM))\n",
        "print(\"recall score : {:.3f}\".format(recall_MM))\n",
        "print(\"precision score : {:.3f}\".format(pre_MM))\n",
        "print(\"\")\n",
        "print(\"Standard Scaler\")\n",
        "print(\"f1 score : {:.3f}\".format(f1_S))\n",
        "print(\"recall score : {:.3f}\".format(recall_S))\n",
        "print(\"precision score : {:.3f}\".format(pre_S))\n",
        "print(\"\")\n",
        "print(\"Robust Scaler\")\n",
        "print(\"f1 score : {:.3f}\".format(f1_R))\n",
        "print(\"recall score : {:.3f}\".format(recall_R))\n",
        "print(\"precision score : {:.3f}\".format(pre_R))\n",
        "print(\"\")\n",
        "print(\"Normalizer\")\n",
        "print(\"f1 score : {:.3f}\".format(f1_N))\n",
        "print(\"recall score : {:.3f}\".format(recall_N))\n",
        "print(\"precision score : {:.3f}\".format(pre_N))"
      ]
    }
  ],
  "metadata": {
    "colab": {
      "collapsed_sections": [],
      "name": "scaling.ipynb",
      "provenance": []
    },
    "kernelspec": {
      "display_name": "Python 3",
      "name": "python3"
    },
    "language_info": {
      "name": "python",
      "version": "3.10.4"
    }
  },
  "nbformat": 4,
  "nbformat_minor": 0
}
