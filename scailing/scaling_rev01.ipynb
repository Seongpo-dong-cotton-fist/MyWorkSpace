{
  "nbformat": 4,
  "nbformat_minor": 0,
  "metadata": {
    "colab": {
      "name": "scaling_rev01.ipynb",
      "provenance": [],
      "collapsed_sections": [
        "lPz6G2fuL154"
      ]
    },
    "kernelspec": {
      "name": "python3",
      "display_name": "Python 3"
    },
    "language_info": {
      "name": "python"
    }
  },
  "cells": [
    {
      "cell_type": "code",
      "execution_count": 2,
      "metadata": {
        "id": "kPckPwFAohha",
        "colab": {
          "base_uri": "https://localhost:8080/"
        },
        "outputId": "fafa5b19-4053-45bf-b724-4c91f8f2a837"
      },
      "outputs": [
        {
          "output_type": "stream",
          "name": "stdout",
          "text": [
            "Looking in indexes: https://pypi.org/simple, https://us-python.pkg.dev/colab-wheels/public/simple/\n",
            "Collecting mglearn\n",
            "  Downloading mglearn-0.1.9.tar.gz (540 kB)\n",
            "\u001b[K     |████████████████████████████████| 540 kB 5.0 MB/s \n",
            "\u001b[?25hRequirement already satisfied: numpy in /usr/local/lib/python3.7/dist-packages (from mglearn) (1.21.6)\n",
            "Requirement already satisfied: matplotlib in /usr/local/lib/python3.7/dist-packages (from mglearn) (3.2.2)\n",
            "Requirement already satisfied: scikit-learn in /usr/local/lib/python3.7/dist-packages (from mglearn) (1.0.2)\n",
            "Requirement already satisfied: pandas in /usr/local/lib/python3.7/dist-packages (from mglearn) (1.3.5)\n",
            "Requirement already satisfied: pillow in /usr/local/lib/python3.7/dist-packages (from mglearn) (7.1.2)\n",
            "Requirement already satisfied: cycler in /usr/local/lib/python3.7/dist-packages (from mglearn) (0.11.0)\n",
            "Requirement already satisfied: imageio in /usr/local/lib/python3.7/dist-packages (from mglearn) (2.4.1)\n",
            "Requirement already satisfied: joblib in /usr/local/lib/python3.7/dist-packages (from mglearn) (1.1.0)\n",
            "Requirement already satisfied: pyparsing!=2.0.4,!=2.1.2,!=2.1.6,>=2.0.1 in /usr/local/lib/python3.7/dist-packages (from matplotlib->mglearn) (3.0.9)\n",
            "Requirement already satisfied: kiwisolver>=1.0.1 in /usr/local/lib/python3.7/dist-packages (from matplotlib->mglearn) (1.4.2)\n",
            "Requirement already satisfied: python-dateutil>=2.1 in /usr/local/lib/python3.7/dist-packages (from matplotlib->mglearn) (2.8.2)\n",
            "Requirement already satisfied: typing-extensions in /usr/local/lib/python3.7/dist-packages (from kiwisolver>=1.0.1->matplotlib->mglearn) (4.2.0)\n",
            "Requirement already satisfied: six>=1.5 in /usr/local/lib/python3.7/dist-packages (from python-dateutil>=2.1->matplotlib->mglearn) (1.15.0)\n",
            "Requirement already satisfied: pytz>=2017.3 in /usr/local/lib/python3.7/dist-packages (from pandas->mglearn) (2022.1)\n",
            "Requirement already satisfied: threadpoolctl>=2.0.0 in /usr/local/lib/python3.7/dist-packages (from scikit-learn->mglearn) (3.1.0)\n",
            "Requirement already satisfied: scipy>=1.1.0 in /usr/local/lib/python3.7/dist-packages (from scikit-learn->mglearn) (1.4.1)\n",
            "Building wheels for collected packages: mglearn\n",
            "  Building wheel for mglearn (setup.py) ... \u001b[?25l\u001b[?25hdone\n",
            "  Created wheel for mglearn: filename=mglearn-0.1.9-py2.py3-none-any.whl size=582639 sha256=4bf214d67ae420325bb78507a373bc94fee14abbed18277c258875122c750b74\n",
            "  Stored in directory: /root/.cache/pip/wheels/f1/17/e1/1720d6dcd70187b6b6c3750cb3508798f2b1d57c9d3214b08b\n",
            "Successfully built mglearn\n",
            "Installing collected packages: mglearn\n",
            "Successfully installed mglearn-0.1.9\n"
          ]
        }
      ],
      "source": [
        "from sklearn.model_selection import *\n",
        "from sklearn.feature_selection import *\n",
        "from sklearn.preprocessing import *\n",
        "from sklearn.metrics import *\n",
        "\n",
        "import pandas as pd\n",
        "import matplotlib.pyplot as plt\n",
        "import seaborn as sns\n",
        "\n",
        "from imblearn.under_sampling import NearMiss\n",
        "\n",
        "!pip install mglearn\n",
        "import mglearn"
      ]
    },
    {
      "cell_type": "markdown",
      "source": [
        "# Dataset Preparation"
      ],
      "metadata": {
        "id": "nBMVVq4CZTJi"
      }
    },
    {
      "cell_type": "code",
      "source": [
        "from google.colab import drive\n",
        "drive.mount('/content/drive')\n",
        "\n",
        "bankruptcy = '/content/drive/MyDrive/data.csv'"
      ],
      "metadata": {
        "colab": {
          "base_uri": "https://localhost:8080/"
        },
        "id": "ZpVrnodKolMa",
        "outputId": "1d2e802d-f3bf-4b23-ebc4-3bf56c124470"
      },
      "execution_count": 3,
      "outputs": [
        {
          "output_type": "stream",
          "name": "stdout",
          "text": [
            "Mounted at /content/drive\n"
          ]
        }
      ]
    },
    {
      "cell_type": "code",
      "source": [
        "# 데이터로드\n",
        "df = pd.read_csv(bankruptcy)\n",
        "df\n",
        "x=df.drop(['budo'],axis=1)\n",
        "y=df['budo']\n",
        "# x_train, x_test, y_train, y_test = train_test_split(x,y, test_size=0.3, shuffle=True, stratify=y, random_state=0 )"
      ],
      "metadata": {
        "id": "47gjD8bTolfv"
      },
      "execution_count": null,
      "outputs": []
    },
    {
      "cell_type": "code",
      "source": [
        "print(x.shape)\n",
        "print(y.shape)"
      ],
      "metadata": {
        "colab": {
          "base_uri": "https://localhost:8080/"
        },
        "id": "4qhdomwpIxH8",
        "outputId": "cc64457a-bbed-4604-abc2-6b05f57ab52a"
      },
      "execution_count": null,
      "outputs": [
        {
          "output_type": "stream",
          "name": "stdout",
          "text": [
            "(65533, 103)\n",
            "(65533,)\n"
          ]
        }
      ]
    },
    {
      "cell_type": "code",
      "source": [
        "from sklearn.feature_selection import SelectPercentile, f_regression\n",
        "\n",
        "select = SelectPercentile(score_func=f_regression, percentile=5).fit(x, y)\n",
        "x_selected = select.transform(x)\n",
        "\n",
        "print(x_selected)"
      ],
      "metadata": {
        "colab": {
          "base_uri": "https://localhost:8080/"
        },
        "id": "NpW_w718JUGV",
        "outputId": "8d032dfa-a2fb-40cf-c647-67d90811c7e0"
      },
      "execution_count": null,
      "outputs": [
        {
          "output_type": "stream",
          "name": "stdout",
          "text": [
            "[[6.3850e+00 6.3850e+00 0.0000e+00 0.0000e+00 0.0000e+00 0.0000e+00]\n",
            " [6.7340e+00 6.7340e+00 0.0000e+00 0.0000e+00 0.0000e+00 0.0000e+00]\n",
            " [6.0820e+00 6.0820e+00 0.0000e+00 0.0000e+00 0.0000e+00 0.0000e+00]\n",
            " ...\n",
            " [4.8930e+00 4.8930e+00 9.1800e-01 9.1800e-01 1.1278e+07 1.1278e+07]\n",
            " [4.7850e+00 4.7850e+00 1.9370e+00 1.9370e+00 5.5741e+07 5.5741e+07]\n",
            " [4.7740e+00 4.7740e+00 1.5070e+00 1.5070e+00 3.4675e+07 3.4675e+07]]\n"
          ]
        }
      ]
    },
    {
      "cell_type": "markdown",
      "source": [
        "# UnderSampling"
      ],
      "metadata": {
        "id": "RU4e2Wfnrjxv"
      }
    },
    {
      "cell_type": "code",
      "source": [
        "from imblearn.under_sampling import NearMiss\n",
        "# 2 는 모든 소수 클래스 샘플까지의 평균 거리 활용\n",
        "\n",
        "NM_model = NearMiss(version = 2)\n",
        "x_selected = pd.DataFrame(x_selected)\n",
        "\n",
        "x_u, y_u = NM_model.fit_resample(x_selected, y)\n",
        "x_u = pd.DataFrame(x_u, columns = x_selected.columns)\n",
        "y_u = pd.Series(y_u)\n",
        "x_train, x_test, y_train, y_test = train_test_split(x_u,y_u, test_size=0.3, shuffle=True, stratify=y_u, random_state=0 )\n",
        "\n",
        "print(x_u.shape)\n",
        "print(y_u.shape)"
      ],
      "metadata": {
        "id": "jwjIvupgp1Dj",
        "colab": {
          "base_uri": "https://localhost:8080/"
        },
        "outputId": "e73c1c03-4132-497b-f30f-f816f6bcf68f"
      },
      "execution_count": null,
      "outputs": [
        {
          "output_type": "stream",
          "name": "stdout",
          "text": [
            "(7494, 6)\n",
            "(7494,)\n"
          ]
        }
      ]
    },
    {
      "cell_type": "markdown",
      "source": [
        ""
      ],
      "metadata": {
        "id": "S05dMciyIR0C"
      }
    },
    {
      "cell_type": "markdown",
      "source": [
        "# 1.스케일링이 반드시 필요한 모델 (SVC)"
      ],
      "metadata": {
        "id": "lPz6G2fuL154"
      }
    },
    {
      "cell_type": "markdown",
      "source": [
        "### Pipeline with Grid Search"
      ],
      "metadata": {
        "id": "Y80S-dUmS5GV"
      }
    },
    {
      "cell_type": "markdown",
      "source": [
        "### SVC (excluding scaling)"
      ],
      "metadata": {
        "id": "3_WfOxjlowyu"
      }
    },
    {
      "cell_type": "code",
      "source": [
        "from sklearn.pipeline import Pipeline\n",
        "from sklearn.svm import SVC\n",
        "\n",
        "pipe = Pipeline([(\"svm\", SVC())])\n",
        "param_grid = {'svm__C': [0.001, 0.01, 0.1, 1, 10, 100],\n",
        "              'svm__gamma': [0.001, 0.01, 0.1, 1, 10, 100]}\n",
        "grid = GridSearchCV(pipe, param_grid=param_grid, cv=5)\n",
        "grid.fit(x_train, y_train)\n",
        "print(grid.best_score_)\n",
        "print(grid.score(x_test, y_test))\n",
        "print(grid.best_params_)"
      ],
      "metadata": {
        "colab": {
          "base_uri": "https://localhost:8080/"
        },
        "id": "qxNc7khVTQ9u",
        "outputId": "991e2bfc-a492-4f9b-c11e-be38961fbd0e"
      },
      "execution_count": null,
      "outputs": [
        {
          "output_type": "stream",
          "name": "stdout",
          "text": [
            "0.7147759771210677\n",
            "0.740329035126723\n",
            "{'svm__C': 1, 'svm__gamma': 0.001}\n"
          ]
        }
      ]
    },
    {
      "cell_type": "code",
      "source": [
        "from sklearn.metrics import classification_report\n",
        "from sklearn.svm import SVC\n",
        "svc = SVC(kernel='rbf', C = 1, gamma=0.001)\n",
        "svc.fit(x_train, y_train)\n",
        "\n",
        "pred = svc.predict(x_test)"
      ],
      "metadata": {
        "id": "Wv6U-z_b4inp"
      },
      "execution_count": null,
      "outputs": []
    },
    {
      "cell_type": "code",
      "source": [
        "# c : 1, gamma : 0.001에서 최적의 결과값을 보임\n",
        "# 테스트셋에 과소 적합을 보임\n",
        "# Assessment 결과 정밀도는 높으나 재현율은 떨어짐\n",
        "\n",
        "f1_svc = f1_score(y_test, pred)\n",
        "recall_svc = recall_score(y_test, pred)\n",
        "pre_svc = precision_score(y_test, pred)\n",
        "accu_svc = accuracy_score(y_test, pred)\n",
        "print(\"f1 score : {:.3f}\".format(f1_svc))\n",
        "print(\"recall score : {:.3f}\".format(recall_svc))\n",
        "print(\"precision score : {:.3f}\".format(pre_svc))\n",
        "print(\"accuracy score : {:.3f}\".format(accu_svc))"
      ],
      "metadata": {
        "colab": {
          "base_uri": "https://localhost:8080/"
        },
        "id": "LJIe-UXu4lX6",
        "outputId": "833f19be-dc3f-470d-800a-2bccd53553f0"
      },
      "execution_count": null,
      "outputs": [
        {
          "output_type": "stream",
          "name": "stdout",
          "text": [
            "f1 score : 0.656\n",
            "recall score : 0.496\n",
            "precision score : 0.969\n",
            "accuracy score : 0.740\n"
          ]
        }
      ]
    },
    {
      "cell_type": "markdown",
      "source": [
        "### SVC (including MinMax Scaler)"
      ],
      "metadata": {
        "id": "mGwx28t-wGCG"
      }
    },
    {
      "cell_type": "code",
      "source": [
        "pipe = Pipeline([(\"sclaer\", MinMaxScaler()), (\"svm\", SVC())])\n",
        "param_grid = {'svm__C': [0.001, 0.01, 0.1, 1, 10, 100],\n",
        "              'svm__gamma': [0.001, 0.01, 0.1, 1, 10, 100]}\n",
        "grid = GridSearchCV(pipe, param_grid=param_grid, cv=5)\n",
        "grid.fit(x_train, y_train)\n",
        "print(grid.best_score_)\n",
        "print(grid.score(x_test, y_test))\n",
        "print(grid.best_params_)"
      ],
      "metadata": {
        "colab": {
          "base_uri": "https://localhost:8080/"
        },
        "id": "qzs9HEs2RNb5",
        "outputId": "babaab68-49cf-426e-f085-cf01164a2c1e"
      },
      "execution_count": null,
      "outputs": [
        {
          "output_type": "stream",
          "name": "stdout",
          "text": [
            "0.9203050524308866\n",
            "0.9226322810137839\n",
            "{'svm__C': 1, 'svm__gamma': 100}\n"
          ]
        }
      ]
    },
    {
      "cell_type": "code",
      "source": [
        "pred = grid.predict(x_test)\n",
        "\n",
        "f1_mms = f1_score(y_test, pred)\n",
        "recall_mms = recall_score(y_test, pred)\n",
        "pre_mms = precision_score(y_test, pred)\n",
        "accu_mms = accuracy_score(y_test, pred)\n",
        "print(\"f1 score : {:.3f}\".format(f1_mms))\n",
        "print(\"recall score : {:.3f}\".format(recall_mms))\n",
        "print(\"precision score : {:.3f}\".format(pre_mms))\n",
        "print(\"accuracy score : {:.3f}\".format(accu_mms))"
      ],
      "metadata": {
        "colab": {
          "base_uri": "https://localhost:8080/"
        },
        "id": "xmDJ4xZCVfh9",
        "outputId": "56d66a2c-da9a-4619-e5ea-52d2f1af4000"
      },
      "execution_count": null,
      "outputs": [
        {
          "output_type": "stream",
          "name": "stdout",
          "text": [
            "f1 score : 0.918\n",
            "recall score : 0.867\n",
            "precision score : 0.976\n",
            "accuracy score : 0.923\n"
          ]
        }
      ]
    },
    {
      "cell_type": "code",
      "source": [
        "scaler = MinMaxScaler().fit(x_train, x_test)\n",
        "x_train_mms = scaler.transform(x_train)\n",
        "\n",
        "x_train_mms = pd.DataFrame(x_train_mms).to_numpy()"
      ],
      "metadata": {
        "id": "VVWIbTvsdiEN"
      },
      "execution_count": null,
      "outputs": []
    },
    {
      "cell_type": "markdown",
      "source": [
        "### SVC (including Standard Scaler)"
      ],
      "metadata": {
        "id": "nrPK3OKbV_7o"
      }
    },
    {
      "cell_type": "code",
      "source": [
        "# 데이터셋 확인\n",
        "\n",
        "print(x_train.shape)\n",
        "print(x_test.shape)\n",
        "\n",
        "print(5245+2249)"
      ],
      "metadata": {
        "colab": {
          "base_uri": "https://localhost:8080/"
        },
        "id": "uLCAYhPKXayF",
        "outputId": "9ec6386d-b48b-41b9-899b-ac012cfb90c5"
      },
      "execution_count": null,
      "outputs": [
        {
          "output_type": "stream",
          "name": "stdout",
          "text": [
            "(5245, 6)\n",
            "(2249, 6)\n",
            "7494\n"
          ]
        }
      ]
    },
    {
      "cell_type": "code",
      "source": [
        "from sklearn.preprocessing import *\n",
        "\n",
        "pipe = Pipeline([(\"sclaer\", StandardScaler()), (\"svm\", SVC())])\n",
        "param_grid = {'svm__C': [0.001, 0.01, 0.1, 1, 10, 100],\n",
        "              'svm__gamma': [0.001, 0.01, 0.1, 1, 10, 100]}\n",
        "grid = GridSearchCV(pipe, param_grid=param_grid, cv=5)\n",
        "grid.fit(x_train, y_train)\n",
        "print(grid.best_score_)\n",
        "print(grid.score(x_test, y_test))\n",
        "print(grid.best_params_)"
      ],
      "metadata": {
        "colab": {
          "base_uri": "https://localhost:8080/"
        },
        "id": "sCxBNExyV_dq",
        "outputId": "7472f309-2e99-4fd8-c6a5-e519de4e8ec0"
      },
      "execution_count": null,
      "outputs": [
        {
          "output_type": "stream",
          "name": "stdout",
          "text": [
            "0.9206863679694948\n",
            "0.9235215651400622\n",
            "{'svm__C': 1, 'svm__gamma': 1}\n"
          ]
        }
      ]
    },
    {
      "cell_type": "code",
      "source": [
        "pred = grid.predict(x_test)\n",
        "\n",
        "f1_std= f1_score(y_test, pred)\n",
        "recall_std = recall_score(y_test, pred)\n",
        "pre_std = precision_score(y_test, pred)\n",
        "accu_std = accuracy_score(y_test, pred)\n",
        "print(\"f1 score : {:.3f}\".format(f1_std))\n",
        "print(\"recall score : {:.3f}\".format(recall_std))\n",
        "print(\"precision score : {:.3f}\".format(pre_std))\n",
        "print(\"accuracy score : {:.3f}\".format(accu_std))"
      ],
      "metadata": {
        "colab": {
          "base_uri": "https://localhost:8080/"
        },
        "id": "7IHzsmzZV_Pe",
        "outputId": "22f1f961-bd7f-4a17-8d25-457eba02e834"
      },
      "execution_count": null,
      "outputs": [
        {
          "output_type": "stream",
          "name": "stdout",
          "text": [
            "f1 score : 0.918\n",
            "recall score : 0.858\n",
            "precision score : 0.988\n",
            "accuracy score : 0.924\n"
          ]
        }
      ]
    },
    {
      "cell_type": "code",
      "source": [
        "scaler = StandardScaler().fit(x_train, x_test)\n",
        "x_train_std = scaler.transform(x_train)\n",
        "\n",
        "x_train_std = pd.DataFrame(x_train_std).to_numpy()"
      ],
      "metadata": {
        "id": "bXF0vqRyfk8f"
      },
      "execution_count": null,
      "outputs": []
    },
    {
      "cell_type": "markdown",
      "source": [
        "### SVC (including Robust Scaler)"
      ],
      "metadata": {
        "id": "bcG4l5JEjvSC"
      }
    },
    {
      "cell_type": "code",
      "source": [
        "# 데이터셋 확인\n",
        "\n",
        "print(x_train.shape)\n",
        "print(x_test.shape)\n",
        "\n",
        "print(5245+2249)"
      ],
      "metadata": {
        "colab": {
          "base_uri": "https://localhost:8080/"
        },
        "id": "fjKyluDMkHLp",
        "outputId": "e422097d-9801-47f0-80dd-bdf45ac012a5"
      },
      "execution_count": null,
      "outputs": [
        {
          "output_type": "stream",
          "name": "stdout",
          "text": [
            "(5245, 6)\n",
            "(2249, 6)\n",
            "7494\n"
          ]
        }
      ]
    },
    {
      "cell_type": "code",
      "source": [
        "from sklearn.preprocessing import *\n",
        "\n",
        "pipe = Pipeline([(\"sclaer\", RobustScaler()), (\"svm\", SVC())])\n",
        "param_grid = {'svm__C': [0.001, 0.01, 0.1, 1, 10, 100],\n",
        "              'svm__gamma': [0.001, 0.01, 0.1, 1, 10, 100]}\n",
        "grid = GridSearchCV(pipe, param_grid=param_grid, cv=5)\n",
        "grid.fit(x_train, y_train)\n",
        "print(grid.best_score_)\n",
        "print(grid.score(x_test, y_test))\n",
        "print(grid.best_params_)"
      ],
      "metadata": {
        "colab": {
          "base_uri": "https://localhost:8080/"
        },
        "id": "m9mvNhP2jyhv",
        "outputId": "d5d12ab7-9b7d-4190-c017-ac4a0f3ad4f4"
      },
      "execution_count": null,
      "outputs": [
        {
          "output_type": "stream",
          "name": "stdout",
          "text": [
            "0.9096282173498571\n",
            "0.915073365940418\n",
            "{'svm__C': 10, 'svm__gamma': 0.1}\n"
          ]
        }
      ]
    },
    {
      "cell_type": "code",
      "source": [
        "pred = grid.predict(x_test)\n",
        "\n",
        "f1_rbs = f1_score(y_test, pred)\n",
        "recall_rbs = recall_score(y_test, pred)\n",
        "pre_rbs = precision_score(y_test, pred)\n",
        "accu_rbs = accuracy_score(y_test, pred)\n",
        "print(\"f1 score : {:.3f}\".format(f1_rbs))\n",
        "print(\"recall score : {:.3f}\".format(recall_rbs))\n",
        "print(\"precision score : {:.3f}\".format(pre_rbs))\n",
        "print(\"accuracy score : {:.3f}\".format(accu_rbs))"
      ],
      "metadata": {
        "colab": {
          "base_uri": "https://localhost:8080/"
        },
        "id": "oMwaMGYkj5JI",
        "outputId": "85911880-73e8-45e4-f438-5ab8091ce871"
      },
      "execution_count": null,
      "outputs": [
        {
          "output_type": "stream",
          "name": "stdout",
          "text": [
            "f1 score : 0.908\n",
            "recall score : 0.841\n",
            "precision score : 0.987\n",
            "accuracy score : 0.915\n"
          ]
        }
      ]
    },
    {
      "cell_type": "code",
      "source": [
        "scaler = RobustScaler().fit(x_train, x_test)\n",
        "x_train_rbs = scaler.transform(x_train)\n",
        "\n",
        "x_train_rbs = pd.DataFrame(x_train_rbs).to_numpy()"
      ],
      "metadata": {
        "id": "4XuUmTn7kXZL"
      },
      "execution_count": null,
      "outputs": []
    },
    {
      "cell_type": "markdown",
      "source": [
        "### SVC (including Normalize)"
      ],
      "metadata": {
        "id": "D04xgKo7kwfg"
      }
    },
    {
      "cell_type": "code",
      "source": [
        "# 데이터셋 확인\n",
        "\n",
        "print(x_train.shape)\n",
        "print(x_test.shape)\n",
        "\n",
        "print(5245+2249)"
      ],
      "metadata": {
        "colab": {
          "base_uri": "https://localhost:8080/"
        },
        "id": "G-2vrSbDkvYk",
        "outputId": "dea676c0-84a3-4c46-a6ff-82b95afd2f8c"
      },
      "execution_count": null,
      "outputs": [
        {
          "output_type": "stream",
          "name": "stdout",
          "text": [
            "(5245, 6)\n",
            "(2249, 6)\n",
            "7494\n"
          ]
        }
      ]
    },
    {
      "cell_type": "code",
      "source": [
        "from sklearn.preprocessing import *\n",
        "\n",
        "pipe = Pipeline([(\"sclaer\", Normalizer()), (\"svm\", SVC())])\n",
        "param_grid = {'svm__C': [0.001, 0.01, 0.1, 1, 10, 100],\n",
        "              'svm__gamma': [0.001, 0.01, 0.1, 1, 10, 100]}\n",
        "grid = GridSearchCV(pipe, param_grid=param_grid, cv=5)\n",
        "grid.fit(x_train, y_train)\n",
        "print(grid.best_score_)\n",
        "print(grid.score(x_test, y_test))\n",
        "print(grid.best_params_)"
      ],
      "metadata": {
        "colab": {
          "base_uri": "https://localhost:8080/"
        },
        "id": "1R6xnFRXkvTr",
        "outputId": "8c9fbfde-943a-4300-a5f9-942229cffdb4"
      },
      "execution_count": null,
      "outputs": [
        {
          "output_type": "stream",
          "name": "stdout",
          "text": [
            "0.6840800762631079\n",
            "0.6927523343708315\n",
            "{'svm__C': 100, 'svm__gamma': 100}\n"
          ]
        }
      ]
    },
    {
      "cell_type": "code",
      "source": [
        "pred = grid.predict(x_test)\n",
        "\n",
        "f1_nor = f1_score(y_test, pred)\n",
        "recall_nor = recall_score(y_test, pred)\n",
        "pre_nor = precision_score(y_test, pred)\n",
        "accu_nor = accuracy_score(y_test, pred)\n",
        "print(\"f1 score : {:.3f}\".format(f1_nor))\n",
        "print(\"recall score : {:.3f}\".format(recall_nor))\n",
        "print(\"precision score : {:.3f}\".format(pre_nor))\n",
        "print(\"accuracy score : {:.3f}\".format(accu_nor))"
      ],
      "metadata": {
        "colab": {
          "base_uri": "https://localhost:8080/"
        },
        "id": "yfnDin3hkvHN",
        "outputId": "f43715a9-850b-4124-f5f8-9bda07f8698b"
      },
      "execution_count": null,
      "outputs": [
        {
          "output_type": "stream",
          "name": "stdout",
          "text": [
            "f1 score : 0.698\n",
            "recall score : 0.712\n",
            "precision score : 0.686\n",
            "accuracy score : 0.693\n"
          ]
        }
      ]
    },
    {
      "cell_type": "code",
      "source": [
        "scaler = Normalizer().fit(x_train, x_test)\n",
        "x_train_nor = scaler.transform(x_train)\n",
        "\n",
        "x_train_nor = pd.DataFrame(x_train_nor).to_numpy()"
      ],
      "metadata": {
        "id": "E_FnxCfDku2w"
      },
      "execution_count": null,
      "outputs": []
    },
    {
      "cell_type": "markdown",
      "source": [
        "# Logistic Regression"
      ],
      "metadata": {
        "id": "tAP882pE5d1-"
      }
    },
    {
      "cell_type": "code",
      "source": [
        "# 데이터로드\n",
        "df = pd.read_csv(bankruptcy)\n",
        "df\n",
        "x=df.drop(['budo'],axis=1)\n",
        "y=df['budo']\n",
        "# x_train, x_test, y_train, y_test = train_test_split(x,y, test_size=0.3, shuffle=True, stratify=y, random_state=0 )"
      ],
      "metadata": {
        "id": "iyUy-Rbf6DW3"
      },
      "execution_count": 4,
      "outputs": []
    },
    {
      "cell_type": "code",
      "source": [
        "from sklearn.feature_selection import SelectPercentile, f_regression\n",
        "\n",
        "select = SelectPercentile(score_func=f_regression, percentile=5).fit(x, y)\n",
        "x_selected = select.transform(x)"
      ],
      "metadata": {
        "id": "eqaB1rV56L8l"
      },
      "execution_count": 5,
      "outputs": []
    },
    {
      "cell_type": "code",
      "source": [
        "from imblearn.under_sampling import NearMiss\n",
        "# 2 는 모든 소수 클래스 샘플까지의 평균 거리 활용\n",
        "\n",
        "NM_model = NearMiss(version = 2)\n",
        "x_selected = pd.DataFrame(x_selected)\n",
        "\n",
        "x_u, y_u = NM_model.fit_resample(x_selected, y)\n",
        "x_u = pd.DataFrame(x_u, columns = x_selected.columns)\n",
        "y_u = pd.Series(y_u)\n",
        "x_train, x_test, y_train, y_test = train_test_split(x_u,y_u, test_size=0.3, shuffle=True, stratify=y_u, random_state=0 )\n",
        "\n",
        "print(x_u.shape)\n",
        "print(y_u.shape)"
      ],
      "metadata": {
        "colab": {
          "base_uri": "https://localhost:8080/"
        },
        "id": "yZa46-oG6RH7",
        "outputId": "89288826-6c6d-4be3-f99a-e9c860b678c3"
      },
      "execution_count": 6,
      "outputs": [
        {
          "output_type": "stream",
          "name": "stdout",
          "text": [
            "(7494, 6)\n",
            "(7494,)\n"
          ]
        }
      ]
    },
    {
      "cell_type": "markdown",
      "source": [
        "## 스케일링 없이"
      ],
      "metadata": {
        "id": "9kTqhryH7iCY"
      }
    },
    {
      "cell_type": "code",
      "source": [
        "from sklearn.linear_model import LogisticRegression\n",
        "\n",
        "lr = LogisticRegression()\n",
        "lr.fit(x_train, y_train)\n",
        "\n",
        "pred = lr.predict(x_test)"
      ],
      "metadata": {
        "id": "FUZn9T0_5ieK"
      },
      "execution_count": null,
      "outputs": []
    },
    {
      "cell_type": "code",
      "source": [
        "f1_lr = f1_score(y_test, pred)\n",
        "recall_lr = recall_score(y_test, pred)\n",
        "pre_lr = precision_score(y_test, pred)\n",
        "accu_lr = accuracy_score(y_test, pred)\n",
        "print(\"f1 score : {:.3f}\".format(f1_lr))\n",
        "print(\"recall score : {:.3f}\".format(recall_lr))\n",
        "print(\"precision score : {:.3f}\".format(pre_lr))\n",
        "print(\"accuracy score : {:.3f}\".format(accu_lr))"
      ],
      "metadata": {
        "colab": {
          "base_uri": "https://localhost:8080/"
        },
        "id": "zRzBJrNu7x4Y",
        "outputId": "eef16797-0459-4eef-f1a7-b150d2935e12"
      },
      "execution_count": null,
      "outputs": [
        {
          "output_type": "stream",
          "name": "stdout",
          "text": [
            "f1 score : 0.161\n",
            "recall score : 0.088\n",
            "precision score : 0.943\n",
            "accuracy score : 0.542\n"
          ]
        }
      ]
    },
    {
      "cell_type": "markdown",
      "source": [
        "## MinMax Scaler"
      ],
      "metadata": {
        "id": "7HTrZG0A8u2E"
      }
    },
    {
      "cell_type": "code",
      "source": [
        "from sklearn.preprocessing import MinMaxScaler\n",
        "\n",
        "scaler = MinMaxScaler()\n",
        "scaler.fit(x_train)\n",
        "x_train_mms = scaler.transform(x_train)\n",
        "x_test_mms = scaler.transform(x_test)\n"
      ],
      "metadata": {
        "id": "_84VkARY82np"
      },
      "execution_count": null,
      "outputs": []
    },
    {
      "cell_type": "code",
      "source": [
        "from sklearn.linear_model import LogisticRegression\n",
        "\n",
        "lr = LogisticRegression()\n",
        "lr.fit(x_train_mms, y_train)\n",
        "\n",
        "pred = lr.predict(x_test_mms)"
      ],
      "metadata": {
        "id": "JNbtQFXh_Rlf"
      },
      "execution_count": null,
      "outputs": []
    },
    {
      "cell_type": "code",
      "source": [
        "f1_mms_lr = f1_score(y_test, pred)\n",
        "recall_mms_lr = recall_score(y_test, pred)\n",
        "pre_mms_lr = precision_score(y_test, pred)\n",
        "accu_mms_lr = accuracy_score(y_test, pred)\n",
        "print(\"f1 score : {:.3f}\".format(f1_mms_lr))\n",
        "print(\"recall score : {:.3f}\".format(recall_mms_lr))\n",
        "print(\"precision score : {:.3f}\".format(pre_mms_lr))\n",
        "print(\"accuracy score : {:.3f}\".format(accu_mms_lr))"
      ],
      "metadata": {
        "colab": {
          "base_uri": "https://localhost:8080/"
        },
        "id": "tDBVfQpD_Y0D",
        "outputId": "65a21fa0-919b-4e36-a497-a8421a377ac3"
      },
      "execution_count": null,
      "outputs": [
        {
          "output_type": "stream",
          "name": "stdout",
          "text": [
            "f1 score : 0.903\n",
            "recall score : 0.839\n",
            "precision score : 0.977\n",
            "accuracy score : 0.910\n"
          ]
        }
      ]
    },
    {
      "cell_type": "markdown",
      "source": [
        "## Standard"
      ],
      "metadata": {
        "id": "7q6bELlO_rKC"
      }
    },
    {
      "cell_type": "code",
      "source": [
        "from sklearn.preprocessing import StandardScaler\n",
        "\n",
        "scaler = StandardScaler()\n",
        "scaler.fit(x_train)\n",
        "x_train_st = scaler.transform(x_train)\n",
        "x_test_st = scaler.transform(x_test)"
      ],
      "metadata": {
        "id": "Zd_7NfLs_tjv"
      },
      "execution_count": null,
      "outputs": []
    },
    {
      "cell_type": "code",
      "source": [
        "from sklearn.linear_model import LogisticRegression\n",
        "\n",
        "lr = LogisticRegression()\n",
        "lr.fit(x_train_st, y_train)\n",
        "\n",
        "pred = lr.predict(x_test_st)"
      ],
      "metadata": {
        "id": "Vmhn3nxH_xQ8"
      },
      "execution_count": null,
      "outputs": []
    },
    {
      "cell_type": "code",
      "source": [
        "f1_st_lr = f1_score(y_test, pred)\n",
        "recall_st_lr = recall_score(y_test, pred)\n",
        "pre_st_lr = precision_score(y_test, pred)\n",
        "accu_st_lr = accuracy_score(y_test, pred)\n",
        "print(\"f1 score : {:.3f}\".format(f1_st_lr))\n",
        "print(\"recall score : {:.3f}\".format(recall_st_lr))\n",
        "print(\"precision score : {:.3f}\".format(pre_st_lr))\n",
        "print(\"accuracy score : {:.3f}\".format(accu_st_lr))"
      ],
      "metadata": {
        "colab": {
          "base_uri": "https://localhost:8080/"
        },
        "id": "SeDd1SGk_6PL",
        "outputId": "0a210ab6-1fda-4975-c2a4-2f282d435a81"
      },
      "execution_count": null,
      "outputs": [
        {
          "output_type": "stream",
          "name": "stdout",
          "text": [
            "f1 score : 0.903\n",
            "recall score : 0.840\n",
            "precision score : 0.976\n",
            "accuracy score : 0.910\n"
          ]
        }
      ]
    },
    {
      "cell_type": "markdown",
      "source": [
        "## Robust"
      ],
      "metadata": {
        "id": "36TJ4iuxALcw"
      }
    },
    {
      "cell_type": "code",
      "source": [
        "from sklearn.preprocessing import RobustScaler\n",
        "\n",
        "scaler = RobustScaler()\n",
        "scaler.fit(x_train)\n",
        "x_train_rb = scaler.transform(x_train)\n",
        "x_test_rb = scaler.transform(x_test)"
      ],
      "metadata": {
        "id": "0gFiDKrQANGR"
      },
      "execution_count": null,
      "outputs": []
    },
    {
      "cell_type": "code",
      "source": [
        "from sklearn.linear_model import LogisticRegression\n",
        "\n",
        "lr = LogisticRegression()\n",
        "lr.fit(x_train_rb, y_train)\n",
        "\n",
        "pred = lr.predict(x_test_rb)"
      ],
      "metadata": {
        "id": "QrfiW200ARPe"
      },
      "execution_count": null,
      "outputs": []
    },
    {
      "cell_type": "code",
      "source": [
        "f1_rb_lr = f1_score(y_test, pred)\n",
        "recall_rb_lr = recall_score(y_test, pred)\n",
        "pre_rb_lr = precision_score(y_test, pred)\n",
        "accu_rb_lr = accuracy_score(y_test, pred)\n",
        "print(\"f1 score : {:.3f}\".format(f1_rb_lr))\n",
        "print(\"recall score : {:.3f}\".format(recall_rb_lr))\n",
        "print(\"precision score : {:.3f}\".format(pre_rb_lr))\n",
        "print(\"accuracy score : {:.3f}\".format(accu_rb_lr))"
      ],
      "metadata": {
        "colab": {
          "base_uri": "https://localhost:8080/"
        },
        "id": "LZSb1qbgAW7t",
        "outputId": "e4ef2fc2-c203-4895-d5b0-66a894512fa6"
      },
      "execution_count": null,
      "outputs": [
        {
          "output_type": "stream",
          "name": "stdout",
          "text": [
            "f1 score : 0.902\n",
            "recall score : 0.839\n",
            "precision score : 0.974\n",
            "accuracy score : 0.908\n"
          ]
        }
      ]
    },
    {
      "cell_type": "markdown",
      "source": [
        "## Normailzer"
      ],
      "metadata": {
        "id": "A_5ifqXtAexu"
      }
    },
    {
      "cell_type": "code",
      "source": [
        "from sklearn.preprocessing import Normalizer\n",
        "\n",
        "scaler = Normalizer()\n",
        "scaler.fit(x_train)\n",
        "x_train_N = scaler.transform(x_train)\n",
        "x_test_N = scaler.transform(x_test)\n"
      ],
      "metadata": {
        "id": "6IBuXMQoAmYp"
      },
      "execution_count": 7,
      "outputs": []
    },
    {
      "cell_type": "code",
      "source": [
        "from sklearn.linear_model import LogisticRegression\n",
        "\n",
        "lr = LogisticRegression()\n",
        "lr.fit(x_train_N, y_train)\n",
        "\n",
        "pred = lr.predict(x_test_N)"
      ],
      "metadata": {
        "id": "XmNd9E1-Anjn"
      },
      "execution_count": 8,
      "outputs": []
    },
    {
      "cell_type": "code",
      "source": [
        "f1_N_lr = f1_score(y_test, pred)\n",
        "recall_N_lr = recall_score(y_test, pred)\n",
        "pre_N_lr = precision_score(y_test, pred)\n",
        "accu_N_lr = accuracy_score(y_test, pred)\n",
        "print(\"f1 score : {:.3f}\".format(f1_N_lr))\n",
        "print(\"recall score : {:.3f}\".format(recall_N_lr))\n",
        "print(\"precision score : {:.3f}\".format(pre_N_lr))\n",
        "print(\"accuracy score : {:.3f}\".format(accu_N_lr))"
      ],
      "metadata": {
        "colab": {
          "base_uri": "https://localhost:8080/"
        },
        "id": "XN-yayI2ivHm",
        "outputId": "b7d5b7a9-d9a2-48b1-c2a7-088d8086a04c"
      },
      "execution_count": 9,
      "outputs": [
        {
          "output_type": "stream",
          "name": "stdout",
          "text": [
            "f1 score : 0.316\n",
            "recall score : 0.194\n",
            "precision score : 0.848\n",
            "accuracy score : 0.580\n"
          ]
        }
      ]
    },
    {
      "cell_type": "markdown",
      "source": [
        "## 3. Scaler 별 x_data 시각화"
      ],
      "metadata": {
        "id": "q4d2BIOVkYx8"
      }
    },
    {
      "cell_type": "code",
      "source": [
        "# subplots는 축의 scale 조정이 안되네.... 그래서 밑에 일일이 다시 그려봄\n",
        "\n",
        "x_u = pd.DataFrame(x_u).to_numpy()\n",
        "\n",
        "fig, axes = plt.subplots(1,5, figsize=(25,5))\n",
        "axes[0].scatter(x_u[:,0], y_u, c=mglearn.cm2(0), label=\"Non-scaled Data\")\n",
        "axes[0].legend(loc=\"best\")\n",
        "\n",
        "axes[1].scatter(x_train_mms[:,0], y_train, c=mglearn.cm2(0), label=\"Minmax scaler Data\")\n",
        "axes[1].legend(loc=\"best\")\n",
        "\n",
        "axes[2].scatter(x_train_std[:,0], y_train, c=mglearn.cm2(0), label=\"Standard scale Data\")\n",
        "axes[2].legend(loc=\"best\")\n",
        "\n",
        "axes[3].scatter(x_train_rbs[:,0], y_train, c=mglearn.cm2(0), label=\"Robust scaler Data\")\n",
        "axes[3].legend(loc=\"best\")\n",
        "\n",
        "axes[4].scatter(x_train_nor[:,0], y_train, c=mglearn.cm2(0), label=\"Normalizer Data\")\n",
        "axes[4].legend(loc=\"best\")\n",
        "\n",
        "for ax in axes :\n",
        "    ax.set_xlabel(\"Feat01\")\n",
        "    ax.set_ylabel(\"Budo\")"
      ],
      "metadata": {
        "colab": {
          "base_uri": "https://localhost:8080/",
          "height": 312
        },
        "id": "tJPPEobybxcK",
        "outputId": "7b7bb449-9f8b-4bf8-fdd1-42a69b6e8bc0"
      },
      "execution_count": null,
      "outputs": [
        {
          "output_type": "stream",
          "name": "stderr",
          "text": [
            "*c* argument looks like a single numeric RGB or RGBA sequence, which should be avoided as value-mapping will have precedence in case its length matches with *x* & *y*.  Please use the *color* keyword-argument or provide a 2-D array with a single row if you intend to specify the same RGB or RGBA value for all points.\n",
            "*c* argument looks like a single numeric RGB or RGBA sequence, which should be avoided as value-mapping will have precedence in case its length matches with *x* & *y*.  Please use the *color* keyword-argument or provide a 2-D array with a single row if you intend to specify the same RGB or RGBA value for all points.\n",
            "*c* argument looks like a single numeric RGB or RGBA sequence, which should be avoided as value-mapping will have precedence in case its length matches with *x* & *y*.  Please use the *color* keyword-argument or provide a 2-D array with a single row if you intend to specify the same RGB or RGBA value for all points.\n",
            "*c* argument looks like a single numeric RGB or RGBA sequence, which should be avoided as value-mapping will have precedence in case its length matches with *x* & *y*.  Please use the *color* keyword-argument or provide a 2-D array with a single row if you intend to specify the same RGB or RGBA value for all points.\n",
            "*c* argument looks like a single numeric RGB or RGBA sequence, which should be avoided as value-mapping will have precedence in case its length matches with *x* & *y*.  Please use the *color* keyword-argument or provide a 2-D array with a single row if you intend to specify the same RGB or RGBA value for all points.\n"
          ]
        },
        {
          "output_type": "display_data",
          "data": {
            "text/plain": [
              "<Figure size 1800x360 with 5 Axes>"
            ],
            "image/png": "[encoded data removed]"
          },
          "metadata": {
            "needs_background": "light"
          }
        }
      ]
    },
    {
      "cell_type": "code",
      "source": [
        "# Non-scaled\n",
        "\n",
        "import numpy as np\n",
        "import matplotlib.pyplot as plt\n",
        "\n",
        "plt.scatter(x_u[:,0], y_u)\n",
        "plt.xlabel(\"Feature\")\n",
        "plt.ylabel(\"Budo\")\n",
        "plt.show()"
      ],
      "metadata": {
        "colab": {
          "base_uri": "https://localhost:8080/",
          "height": 279
        },
        "id": "6RX_zaKnp1um",
        "outputId": "5099a01f-6e46-4560-8f9e-abd82cf85606"
      },
      "execution_count": null,
      "outputs": [
        {
          "output_type": "display_data",
          "data": {
            "text/plain": [
              "<Figure size 432x288 with 1 Axes>"
            ],
            "image/png": "[encoded data removed]"
          },
          "metadata": {
            "needs_background": "light"
          }
        }
      ]
    },
    {
      "cell_type": "code",
      "source": [
        "# MinMax\n",
        "\n",
        "plt.scatter(x_train_mms[:,0], y_train)\n",
        "plt.xlabel(\"Feature\")\n",
        "plt.ylabel(\"Budo\")\n",
        "plt.xlim((-3,3))\n",
        "plt.show()"
      ],
      "metadata": {
        "colab": {
          "base_uri": "https://localhost:8080/",
          "height": 279
        },
        "id": "ik2htrBQtpz4",
        "outputId": "a4f8d455-ed9f-4213-90c4-e85cd44bcbf7"
      },
      "execution_count": null,
      "outputs": [
        {
          "output_type": "display_data",
          "data": {
            "text/plain": [
              "<Figure size 432x288 with 1 Axes>"
            ],
            "image/png": "[encoded data removed]"
          },
          "metadata": {
            "needs_background": "light"
          }
        }
      ]
    },
    {
      "cell_type": "code",
      "source": [
        "# Standard....-2가 첨도가 가장 높은 위치라고 보면 되겠군...\n",
        "\n",
        "plt.scatter(x_train_std[:,0], y_train)\n",
        "plt.xlabel(\"Feature\")\n",
        "plt.ylabel(\"Budo\")\n",
        "plt.xlim((-10,6))\n",
        "plt.show()"
      ],
      "metadata": {
        "colab": {
          "base_uri": "https://localhost:8080/",
          "height": 279
        },
        "id": "yJns__nIwniN",
        "outputId": "65a3419a-bb94-4966-cb30-7dc169f7e050"
      },
      "execution_count": null,
      "outputs": [
        {
          "output_type": "display_data",
          "data": {
            "text/plain": [
              "<Figure size 432x288 with 1 Axes>"
            ],
            "image/png": "[encoded data removed]"
          },
          "metadata": {
            "needs_background": "light"
          }
        }
      ]
    },
    {
      "cell_type": "code",
      "source": [
        "# Robust....는 scaling 원리를 내가 모름 ~~\n",
        "\n",
        "plt.scatter(x_train_rbs[:,0], y_train)\n",
        "plt.xlabel(\"Feature\")\n",
        "plt.ylabel(\"Budo\")\n",
        "plt.xlim((-40,30))\n",
        "plt.show()"
      ],
      "metadata": {
        "colab": {
          "base_uri": "https://localhost:8080/",
          "height": 279
        },
        "id": "9zE3ywV3wnVX",
        "outputId": "5b6ea9e9-4bd3-49fc-fe25-c9b6ec4619f1"
      },
      "execution_count": null,
      "outputs": [
        {
          "output_type": "display_data",
          "data": {
            "text/plain": [
              "<Figure size 432x288 with 1 Axes>"
            ],
            "image/png": "[encoded data removed]"
          },
          "metadata": {
            "needs_background": "light"
          }
        }
      ]
    },
    {
      "cell_type": "code",
      "source": [
        "# Normalize\n",
        "\n",
        "plt.scatter(x_train_nor[:,0], y_train)\n",
        "plt.xlabel(\"Feature\")\n",
        "plt.ylabel(\"Budo\")\n",
        "plt.xlim((-2,2))\n",
        "plt.show()"
      ],
      "metadata": {
        "colab": {
          "base_uri": "https://localhost:8080/",
          "height": 279
        },
        "id": "kIeKdo_OxWrI",
        "outputId": "d8037a0d-8fa5-4b7d-f4c9-9f87c4187ebe"
      },
      "execution_count": null,
      "outputs": [
        {
          "output_type": "display_data",
          "data": {
            "text/plain": [
              "<Figure size 432x288 with 1 Axes>"
            ],
            "image/png": "[encoded data removed]"
          },
          "metadata": {
            "needs_background": "light"
          }
        }
      ]
    },
    {
      "cell_type": "markdown",
      "source": [
        "# Summary\n"
      ],
      "metadata": {
        "id": "_zkUqn1r1xMW"
      }
    },
    {
      "cell_type": "code",
      "source": [
        "print(\"--------------Non-scaled--------------\")\n",
        "print(\"f1 score : {:.3f}\".format(f1_svc))\n",
        "print(\"recall score : {:.3f}\".format(recall_svc))\n",
        "print(\"precision score : {:.3f}\".format(pre_svc))\n",
        "print(\"accuracy score : {:.3f}\".format(accu_svc))\n",
        "print()\n",
        "print(\"--------------MinMaxScaler--------------\")\n",
        "print(\"f1 score : {:.3f}\".format(f1_mms))\n",
        "print(\"recall score : {:.3f}\".format(recall_mms))\n",
        "print(\"precision score : {:.3f}\".format(pre_mms))\n",
        "print(\"accuracy score : {:.3f}\".format(accu_mms))\n",
        "print()\n",
        "print(\"--------------StandardScaler--------------\")\n",
        "print(\"f1 score : {:.3f}\".format(f1_std))\n",
        "print(\"recall score : {:.3f}\".format(recall_std))\n",
        "print(\"precision score : {:.3f}\".format(pre_std))\n",
        "print(\"accuracy score : {:.3f}\".format(accu_std))\n",
        "print()\n",
        "print(\"--------------RobustScaler--------------\")\n",
        "print(\"f1 score : {:.3f}\".format(f1_rbs))\n",
        "print(\"recall score : {:.3f}\".format(recall_rbs))\n",
        "print(\"precision score : {:.3f}\".format(pre_rbs))\n",
        "print(\"accuracy score : {:.3f}\".format(accu_rbs))\n",
        "print()\n",
        "print(\"--------------Normalizer--------------\")\n",
        "print(\"f1 score : {:.3f}\".format(f1_nor))\n",
        "print(\"recall score : {:.3f}\".format(recall_nor))\n",
        "print(\"precision score : {:.3f}\".format(pre_nor))\n",
        "print(\"accuracy score : {:.3f}\".format(accu_nor))"
      ],
      "metadata": {
        "colab": {
          "base_uri": "https://localhost:8080/"
        },
        "id": "m4vQ5CB31zgz",
        "outputId": "54329b3e-dd2b-4175-d4a6-015d53de249d"
      },
      "execution_count": null,
      "outputs": [
        {
          "output_type": "stream",
          "name": "stdout",
          "text": [
            "--------------Non-scaled--------------\n",
            "f1 score : 0.656\n",
            "recall score : 0.496\n",
            "precision score : 0.969\n",
            "accuracy score : 0.740\n",
            "\n",
            "--------------MinMaxScaler--------------\n",
            "f1 score : 0.918\n",
            "recall score : 0.867\n",
            "precision score : 0.976\n",
            "accuracy score : 0.923\n",
            "\n",
            "--------------StandardScaler--------------\n",
            "f1 score : 0.918\n",
            "recall score : 0.858\n",
            "precision score : 0.988\n",
            "accuracy score : 0.924\n",
            "\n",
            "--------------RobustScaler--------------\n",
            "f1 score : 0.908\n",
            "recall score : 0.841\n",
            "precision score : 0.987\n",
            "accuracy score : 0.915\n",
            "\n",
            "--------------Normalizer--------------\n",
            "f1 score : 0.698\n",
            "recall score : 0.712\n",
            "precision score : 0.686\n",
            "accuracy score : 0.693\n"
          ]
        }
      ]
    }
  ]
}