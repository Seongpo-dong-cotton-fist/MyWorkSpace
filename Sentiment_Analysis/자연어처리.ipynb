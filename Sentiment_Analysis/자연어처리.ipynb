{
 "cells": [
  {
   "cell_type": "code",
   "execution_count": 8,
   "id": "8b54554c",
   "metadata": {},
   "outputs": [
    {
     "name": "stdout",
     "output_type": "stream",
     "text": [
      "Requirement already satisfied: aws-sam-cli in c:\\users\\user\\appdata\\roaming\\python\\python39\\site-packages (1.53.0)\n",
      "Requirement already satisfied: requests==2.25.1 in c:\\users\\user\\appdata\\roaming\\python\\python39\\site-packages (from aws-sam-cli) (2.25.1)\n",
      "Requirement already satisfied: watchdog==2.1.2 in c:\\users\\user\\appdata\\roaming\\python\\python39\\site-packages (from aws-sam-cli) (2.1.2)\n",
      "Requirement already satisfied: docker~=4.2.0 in c:\\users\\user\\appdata\\roaming\\python\\python39\\site-packages (from aws-sam-cli) (4.2.2)\n",
      "Requirement already satisfied: aws-sam-translator==1.46.0 in c:\\users\\user\\appdata\\roaming\\python\\python39\\site-packages (from aws-sam-cli) (1.46.0)\n",
      "Requirement already satisfied: Flask~=1.1.4 in c:\\users\\user\\appdata\\roaming\\python\\python39\\site-packages (from aws-sam-cli) (1.1.4)\n",
      "Requirement already satisfied: cookiecutter~=2.1.1 in c:\\users\\user\\appdata\\roaming\\python\\python39\\site-packages (from aws-sam-cli) (2.1.1)\n",
      "Requirement already satisfied: serverlessrepo==0.1.10 in c:\\users\\user\\appdata\\roaming\\python\\python39\\site-packages (from aws-sam-cli) (0.1.10)\n",
      "Requirement already satisfied: tzlocal==3.0 in c:\\users\\user\\appdata\\roaming\\python\\python39\\site-packages (from aws-sam-cli) (3.0)\n",
      "Requirement already satisfied: jmespath~=0.10.0 in c:\\users\\user\\anaconda3\\lib\\site-packages (from aws-sam-cli) (0.10.0)\n",
      "Requirement already satisfied: typing-extensions==3.10.0.0 in c:\\users\\user\\appdata\\roaming\\python\\python39\\site-packages (from aws-sam-cli) (3.10.0.0)\n",
      "Requirement already satisfied: click~=7.1 in c:\\users\\user\\appdata\\roaming\\python\\python39\\site-packages (from aws-sam-cli) (7.1.2)\n",
      "Requirement already satisfied: boto3==1.*,>=1.19.5 in c:\\users\\user\\anaconda3\\lib\\site-packages (from aws-sam-cli) (1.24.2)\n",
      "Requirement already satisfied: dateparser~=1.0 in c:\\users\\user\\appdata\\roaming\\python\\python39\\site-packages (from aws-sam-cli) (1.1.1)\n",
      "Requirement already satisfied: chevron~=0.12 in c:\\users\\user\\appdata\\roaming\\python\\python39\\site-packages (from aws-sam-cli) (0.14.0)\n",
      "Requirement already satisfied: aws-lambda-builders==1.18.0 in c:\\users\\user\\appdata\\roaming\\python\\python39\\site-packages (from aws-sam-cli) (1.18.0)\n",
      "Requirement already satisfied: PyYAML~=5.3 in c:\\users\\user\\appdata\\roaming\\python\\python39\\site-packages (from aws-sam-cli) (5.4.1)\n",
      "Collecting MarkupSafe==2.0.1\n",
      "  Using cached MarkupSafe-2.0.1-cp39-cp39-win_amd64.whl (14 kB)\n",
      "Requirement already satisfied: regex==2021.9.30 in c:\\users\\user\\appdata\\roaming\\python\\python39\\site-packages (from aws-sam-cli) (2021.9.30)\n",
      "Requirement already satisfied: tomlkit==0.7.2 in c:\\users\\user\\appdata\\roaming\\python\\python39\\site-packages (from aws-sam-cli) (0.7.2)\n",
      "Requirement already satisfied: wheel in c:\\users\\user\\anaconda3\\lib\\site-packages (from aws-lambda-builders==1.18.0->aws-sam-cli) (0.37.1)\n",
      "Requirement already satisfied: setuptools in c:\\users\\user\\anaconda3\\lib\\site-packages (from aws-lambda-builders==1.18.0->aws-sam-cli) (61.2.0)\n",
      "Requirement already satisfied: jsonschema~=3.2 in c:\\users\\user\\appdata\\roaming\\python\\python39\\site-packages (from aws-sam-translator==1.46.0->aws-sam-cli) (3.2.0)\n",
      "Requirement already satisfied: s3transfer<0.7.0,>=0.6.0 in c:\\users\\user\\anaconda3\\lib\\site-packages (from boto3==1.*,>=1.19.5->aws-sam-cli) (0.6.0)\n",
      "Requirement already satisfied: botocore<1.28.0,>=1.27.2 in c:\\users\\user\\anaconda3\\lib\\site-packages (from boto3==1.*,>=1.19.5->aws-sam-cli) (1.27.2)\n",
      "Requirement already satisfied: urllib3<1.27,>=1.21.1 in c:\\users\\user\\anaconda3\\lib\\site-packages (from requests==2.25.1->aws-sam-cli) (1.26.9)\n",
      "Requirement already satisfied: certifi>=2017.4.17 in c:\\users\\user\\anaconda3\\lib\\site-packages (from requests==2.25.1->aws-sam-cli) (2022.6.15)\n",
      "Requirement already satisfied: idna<3,>=2.5 in c:\\users\\user\\appdata\\roaming\\python\\python39\\site-packages (from requests==2.25.1->aws-sam-cli) (2.10)\n",
      "Requirement already satisfied: chardet<5,>=3.0.2 in c:\\users\\user\\anaconda3\\lib\\site-packages (from requests==2.25.1->aws-sam-cli) (4.0.0)\n",
      "Requirement already satisfied: six~=1.11 in c:\\users\\user\\anaconda3\\lib\\site-packages (from serverlessrepo==0.1.10->aws-sam-cli) (1.16.0)\n",
      "Requirement already satisfied: tzdata in c:\\users\\user\\appdata\\roaming\\python\\python39\\site-packages (from tzlocal==3.0->aws-sam-cli) (2022.1)\n",
      "Requirement already satisfied: python-dateutil<3.0.0,>=2.1 in c:\\users\\user\\anaconda3\\lib\\site-packages (from botocore<1.28.0,>=1.27.2->boto3==1.*,>=1.19.5->aws-sam-cli) (2.8.2)\n",
      "Requirement already satisfied: Jinja2<4.0.0,>=2.7 in c:\\users\\user\\anaconda3\\lib\\site-packages (from cookiecutter~=2.1.1->aws-sam-cli) (2.11.3)\n",
      "Requirement already satisfied: python-slugify>=4.0.0 in c:\\users\\user\\anaconda3\\lib\\site-packages (from cookiecutter~=2.1.1->aws-sam-cli) (5.0.2)\n",
      "Requirement already satisfied: binaryornot>=0.4.4 in c:\\users\\user\\anaconda3\\lib\\site-packages (from cookiecutter~=2.1.1->aws-sam-cli) (0.4.4)\n",
      "Requirement already satisfied: jinja2-time>=0.2.0 in c:\\users\\user\\anaconda3\\lib\\site-packages (from cookiecutter~=2.1.1->aws-sam-cli) (0.2.0)\n",
      "Requirement already satisfied: pytz in c:\\users\\user\\anaconda3\\lib\\site-packages (from dateparser~=1.0->aws-sam-cli) (2022.1)\n",
      "Requirement already satisfied: pypiwin32==223 in c:\\users\\user\\appdata\\roaming\\python\\python39\\site-packages (from docker~=4.2.0->aws-sam-cli) (223)\n",
      "Requirement already satisfied: websocket-client>=0.32.0 in c:\\users\\user\\anaconda3\\lib\\site-packages (from docker~=4.2.0->aws-sam-cli) (0.58.0)\n",
      "Requirement already satisfied: pywin32>=223 in c:\\users\\user\\anaconda3\\lib\\site-packages (from pypiwin32==223->docker~=4.2.0->aws-sam-cli) (302)\n",
      "Requirement already satisfied: itsdangerous<2.0,>=0.24 in c:\\users\\user\\appdata\\roaming\\python\\python39\\site-packages (from Flask~=1.1.4->aws-sam-cli) (1.1.0)\n",
      "Requirement already satisfied: Werkzeug<2.0,>=0.15 in c:\\users\\user\\appdata\\roaming\\python\\python39\\site-packages (from Flask~=1.1.4->aws-sam-cli) (1.0.1)\n",
      "Requirement already satisfied: arrow in c:\\users\\user\\anaconda3\\lib\\site-packages (from jinja2-time>=0.2.0->cookiecutter~=2.1.1->aws-sam-cli) (1.2.2)\n",
      "Requirement already satisfied: pyrsistent>=0.14.0 in c:\\users\\user\\anaconda3\\lib\\site-packages (from jsonschema~=3.2->aws-sam-translator==1.46.0->aws-sam-cli) (0.18.0)\n",
      "Requirement already satisfied: attrs>=17.4.0 in c:\\users\\user\\anaconda3\\lib\\site-packages (from jsonschema~=3.2->aws-sam-translator==1.46.0->aws-sam-cli) (21.4.0)\n",
      "Requirement already satisfied: text-unidecode>=1.3 in c:\\users\\user\\anaconda3\\lib\\site-packages (from python-slugify>=4.0.0->cookiecutter~=2.1.1->aws-sam-cli) (1.3)\n",
      "Installing collected packages: MarkupSafe\n",
      "Successfully installed MarkupSafe-2.0.1\n",
      "Note: you may need to restart the kernel to use updated packages.\n"
     ]
    },
    {
     "name": "stderr",
     "output_type": "stream",
     "text": [
      "ERROR: pip's dependency resolver does not currently take into account all the packages that are installed. This behaviour is the source of the following dependency conflicts.\n",
      "anaconda-project 0.10.2 requires ruamel-yaml, which is not installed.\n",
      "pandas-profiling 3.2.0 requires markupsafe~=2.1.1, but you have markupsafe 2.0.1 which is incompatible.\n"
     ]
    }
   ],
   "source": [
    "pip install --user --upgrade aws-sam-cli"
   ]
  },
  {
   "cell_type": "code",
   "execution_count": 9,
   "id": "c671d316",
   "metadata": {},
   "outputs": [
    {
     "name": "stdout",
     "output_type": "stream",
     "text": [
      "Requirement already satisfied: pandas_profiling in c:\\users\\user\\anaconda3\\lib\\site-packages (3.2.0)\n",
      "Requirement already satisfied: phik>=0.11.1 in c:\\users\\user\\anaconda3\\lib\\site-packages (from pandas_profiling) (0.12.2)\n",
      "Requirement already satisfied: matplotlib>=3.2.0 in c:\\users\\user\\anaconda3\\lib\\site-packages (from pandas_profiling) (3.5.1)\n",
      "Requirement already satisfied: tqdm>=4.48.2 in c:\\users\\user\\anaconda3\\lib\\site-packages (from pandas_profiling) (4.64.0)\n",
      "Requirement already satisfied: htmlmin>=0.1.12 in c:\\users\\user\\anaconda3\\lib\\site-packages (from pandas_profiling) (0.1.12)\n",
      "Requirement already satisfied: numpy>=1.16.0 in c:\\users\\user\\anaconda3\\lib\\site-packages (from pandas_profiling) (1.21.5)\n",
      "Requirement already satisfied: tangled-up-in-unicode==0.2.0 in c:\\users\\user\\anaconda3\\lib\\site-packages (from pandas_profiling) (0.2.0)\n",
      "Collecting markupsafe~=2.1.1\n",
      "  Using cached MarkupSafe-2.1.1-cp39-cp39-win_amd64.whl (17 kB)\n",
      "Requirement already satisfied: PyYAML>=5.0.0 in c:\\users\\user\\appdata\\roaming\\python\\python39\\site-packages (from pandas_profiling) (5.4.1)\n",
      "Requirement already satisfied: seaborn>=0.10.1 in c:\\users\\user\\anaconda3\\lib\\site-packages (from pandas_profiling) (0.11.2)\n",
      "Requirement already satisfied: jinja2>=2.11.1 in c:\\users\\user\\anaconda3\\lib\\site-packages (from pandas_profiling) (2.11.3)\n",
      "Requirement already satisfied: requests>=2.24.0 in c:\\users\\user\\appdata\\roaming\\python\\python39\\site-packages (from pandas_profiling) (2.25.1)\n",
      "Requirement already satisfied: visions[type_image_path]==0.7.4 in c:\\users\\user\\anaconda3\\lib\\site-packages (from pandas_profiling) (0.7.4)\n",
      "Requirement already satisfied: scipy>=1.4.1 in c:\\users\\user\\anaconda3\\lib\\site-packages (from pandas_profiling) (1.7.3)\n",
      "Requirement already satisfied: missingno>=0.4.2 in c:\\users\\user\\anaconda3\\lib\\site-packages (from pandas_profiling) (0.5.1)\n",
      "Requirement already satisfied: pandas!=1.0.0,!=1.0.1,!=1.0.2,!=1.1.0,>=0.25.3 in c:\\users\\user\\anaconda3\\lib\\site-packages (from pandas_profiling) (1.4.2)\n",
      "Requirement already satisfied: joblib~=1.1.0 in c:\\users\\user\\anaconda3\\lib\\site-packages (from pandas_profiling) (1.1.0)\n",
      "Requirement already satisfied: pydantic>=1.8.1 in c:\\users\\user\\anaconda3\\lib\\site-packages (from pandas_profiling) (1.9.1)\n",
      "Requirement already satisfied: multimethod>=1.4 in c:\\users\\user\\anaconda3\\lib\\site-packages (from pandas_profiling) (1.8)\n",
      "Requirement already satisfied: attrs>=19.3.0 in c:\\users\\user\\anaconda3\\lib\\site-packages (from visions[type_image_path]==0.7.4->pandas_profiling) (21.4.0)\n",
      "Requirement already satisfied: networkx>=2.4 in c:\\users\\user\\anaconda3\\lib\\site-packages (from visions[type_image_path]==0.7.4->pandas_profiling) (2.7.1)\n",
      "Requirement already satisfied: imagehash in c:\\users\\user\\anaconda3\\lib\\site-packages (from visions[type_image_path]==0.7.4->pandas_profiling) (4.2.1)\n",
      "Requirement already satisfied: Pillow in c:\\users\\user\\anaconda3\\lib\\site-packages (from visions[type_image_path]==0.7.4->pandas_profiling) (9.0.1)\n",
      "Requirement already satisfied: kiwisolver>=1.0.1 in c:\\users\\user\\anaconda3\\lib\\site-packages (from matplotlib>=3.2.0->pandas_profiling) (1.4.2)\n",
      "Requirement already satisfied: packaging>=20.0 in c:\\users\\user\\anaconda3\\lib\\site-packages (from matplotlib>=3.2.0->pandas_profiling) (21.3)\n",
      "Requirement already satisfied: cycler>=0.10 in c:\\users\\user\\anaconda3\\lib\\site-packages (from matplotlib>=3.2.0->pandas_profiling) (0.11.0)\n",
      "Requirement already satisfied: fonttools>=4.22.0 in c:\\users\\user\\anaconda3\\lib\\site-packages (from matplotlib>=3.2.0->pandas_profiling) (4.25.0)\n",
      "Requirement already satisfied: pyparsing>=2.2.1 in c:\\users\\user\\anaconda3\\lib\\site-packages (from matplotlib>=3.2.0->pandas_profiling) (3.0.4)\n",
      "Requirement already satisfied: python-dateutil>=2.7 in c:\\users\\user\\anaconda3\\lib\\site-packages (from matplotlib>=3.2.0->pandas_profiling) (2.8.2)\n",
      "Requirement already satisfied: pytz>=2020.1 in c:\\users\\user\\anaconda3\\lib\\site-packages (from pandas!=1.0.0,!=1.0.1,!=1.0.2,!=1.1.0,>=0.25.3->pandas_profiling) (2022.1)\n",
      "Requirement already satisfied: typing-extensions>=3.7.4.3 in c:\\users\\user\\appdata\\roaming\\python\\python39\\site-packages (from pydantic>=1.8.1->pandas_profiling) (3.10.0.0)\n",
      "Requirement already satisfied: six>=1.5 in c:\\users\\user\\anaconda3\\lib\\site-packages (from python-dateutil>=2.7->matplotlib>=3.2.0->pandas_profiling) (1.16.0)\n",
      "Requirement already satisfied: chardet<5,>=3.0.2 in c:\\users\\user\\anaconda3\\lib\\site-packages (from requests>=2.24.0->pandas_profiling) (4.0.0)\n",
      "Requirement already satisfied: urllib3<1.27,>=1.21.1 in c:\\users\\user\\anaconda3\\lib\\site-packages (from requests>=2.24.0->pandas_profiling) (1.26.9)\n",
      "Requirement already satisfied: idna<3,>=2.5 in c:\\users\\user\\appdata\\roaming\\python\\python39\\site-packages (from requests>=2.24.0->pandas_profiling) (2.10)\n",
      "Requirement already satisfied: certifi>=2017.4.17 in c:\\users\\user\\anaconda3\\lib\\site-packages (from requests>=2.24.0->pandas_profiling) (2022.6.15)\n",
      "Requirement already satisfied: colorama in c:\\users\\user\\anaconda3\\lib\\site-packages (from tqdm>=4.48.2->pandas_profiling) (0.4.4)\n",
      "Requirement already satisfied: PyWavelets in c:\\users\\user\\anaconda3\\lib\\site-packages (from imagehash->visions[type_image_path]==0.7.4->pandas_profiling) (1.3.0)\n",
      "Installing collected packages: markupsafe\n",
      "  Attempting uninstall: markupsafe\n",
      "    Found existing installation: MarkupSafe 2.0.1\n",
      "    Uninstalling MarkupSafe-2.0.1:\n",
      "      Successfully uninstalled MarkupSafe-2.0.1\n",
      "Successfully installed markupsafe-2.1.1\n",
      "Note: you may need to restart the kernel to use updated packages.\n"
     ]
    },
    {
     "name": "stderr",
     "output_type": "stream",
     "text": [
      "ERROR: pip's dependency resolver does not currently take into account all the packages that are installed. This behaviour is the source of the following dependency conflicts.\n",
      "anaconda-project 0.10.2 requires ruamel-yaml, which is not installed.\n",
      "aws-sam-cli 1.53.0 requires MarkupSafe==2.0.1, but you have markupsafe 2.1.1 which is incompatible.\n"
     ]
    }
   ],
   "source": [
    "pip install --user pandas_profiling"
   ]
  },
  {
   "cell_type": "code",
   "execution_count": 10,
   "id": "43875b52",
   "metadata": {
    "id": "43875b52",
    "outputId": "61a13902-86af-449a-872f-34c8688a3bb5"
   },
   "outputs": [
    {
     "ename": "ImportError",
     "evalue": "cannot import name 'soft_unicode' from 'markupsafe' (C:\\Users\\user\\anaconda3\\lib\\site-packages\\markupsafe\\__init__.py)",
     "output_type": "error",
     "traceback": [
      "\u001b[1;31m---------------------------------------------------------------------------\u001b[0m",
      "\u001b[1;31mImportError\u001b[0m                               Traceback (most recent call last)",
      "Input \u001b[1;32mIn [10]\u001b[0m, in \u001b[0;36m<cell line: 3>\u001b[1;34m()\u001b[0m\n\u001b[0;32m      1\u001b[0m \u001b[38;5;28;01mimport\u001b[39;00m \u001b[38;5;21;01mpandas\u001b[39;00m \u001b[38;5;28;01mas\u001b[39;00m \u001b[38;5;21;01mpd\u001b[39;00m\n\u001b[0;32m      2\u001b[0m \u001b[38;5;28;01mimport\u001b[39;00m \u001b[38;5;21;01mnumpy\u001b[39;00m \u001b[38;5;28;01mas\u001b[39;00m \u001b[38;5;21;01mnp\u001b[39;00m\n\u001b[1;32m----> 3\u001b[0m \u001b[38;5;28;01mimport\u001b[39;00m \u001b[38;5;21;01mpandas_profiling\u001b[39;00m\n",
      "File \u001b[1;32m~\\anaconda3\\lib\\site-packages\\pandas_profiling\\__init__.py:6\u001b[0m, in \u001b[0;36m<module>\u001b[1;34m\u001b[0m\n\u001b[0;32m      1\u001b[0m \u001b[38;5;124;03m\"\"\"Main module of pandas-profiling.\u001b[39;00m\n\u001b[0;32m      2\u001b[0m \n\u001b[0;32m      3\u001b[0m \u001b[38;5;124;03m.. include:: ../../README.md\u001b[39;00m\n\u001b[0;32m      4\u001b[0m \u001b[38;5;124;03m\"\"\"\u001b[39;00m\n\u001b[1;32m----> 6\u001b[0m \u001b[38;5;28;01mfrom\u001b[39;00m \u001b[38;5;21;01mpandas_profiling\u001b[39;00m\u001b[38;5;21;01m.\u001b[39;00m\u001b[38;5;21;01mcontroller\u001b[39;00m \u001b[38;5;28;01mimport\u001b[39;00m pandas_decorator\n\u001b[0;32m      7\u001b[0m \u001b[38;5;28;01mfrom\u001b[39;00m \u001b[38;5;21;01mpandas_profiling\u001b[39;00m\u001b[38;5;21;01m.\u001b[39;00m\u001b[38;5;21;01mprofile_report\u001b[39;00m \u001b[38;5;28;01mimport\u001b[39;00m ProfileReport\n\u001b[0;32m      8\u001b[0m \u001b[38;5;28;01mfrom\u001b[39;00m \u001b[38;5;21;01mpandas_profiling\u001b[39;00m\u001b[38;5;21;01m.\u001b[39;00m\u001b[38;5;21;01mversion\u001b[39;00m \u001b[38;5;28;01mimport\u001b[39;00m __version__\n",
      "File \u001b[1;32m~\\anaconda3\\lib\\site-packages\\pandas_profiling\\controller\\pandas_decorator.py:4\u001b[0m, in \u001b[0;36m<module>\u001b[1;34m\u001b[0m\n\u001b[0;32m      1\u001b[0m \u001b[38;5;124;03m\"\"\"This file add the decorator on the DataFrame object.\"\"\"\u001b[39;00m\n\u001b[0;32m      2\u001b[0m \u001b[38;5;28;01mfrom\u001b[39;00m \u001b[38;5;21;01mpandas\u001b[39;00m \u001b[38;5;28;01mimport\u001b[39;00m DataFrame\n\u001b[1;32m----> 4\u001b[0m \u001b[38;5;28;01mfrom\u001b[39;00m \u001b[38;5;21;01mpandas_profiling\u001b[39;00m\u001b[38;5;21;01m.\u001b[39;00m\u001b[38;5;21;01mprofile_report\u001b[39;00m \u001b[38;5;28;01mimport\u001b[39;00m ProfileReport\n\u001b[0;32m      7\u001b[0m \u001b[38;5;28;01mdef\u001b[39;00m \u001b[38;5;21mprofile_report\u001b[39m(df: DataFrame, \u001b[38;5;241m*\u001b[39m\u001b[38;5;241m*\u001b[39mkwargs) \u001b[38;5;241m-\u001b[39m\u001b[38;5;241m>\u001b[39m ProfileReport:\n\u001b[0;32m      8\u001b[0m     \u001b[38;5;124;03m\"\"\"Profile a DataFrame.\u001b[39;00m\n\u001b[0;32m      9\u001b[0m \n\u001b[0;32m     10\u001b[0m \u001b[38;5;124;03m    Args:\u001b[39;00m\n\u001b[1;32m   (...)\u001b[0m\n\u001b[0;32m     15\u001b[0m \u001b[38;5;124;03m        A ProfileReport of the DataFrame.\u001b[39;00m\n\u001b[0;32m     16\u001b[0m \u001b[38;5;124;03m    \"\"\"\u001b[39;00m\n",
      "File \u001b[1;32m~\\anaconda3\\lib\\site-packages\\pandas_profiling\\profile_report.py:27\u001b[0m, in \u001b[0;36m<module>\u001b[1;34m\u001b[0m\n\u001b[0;32m     25\u001b[0m \u001b[38;5;28;01mfrom\u001b[39;00m \u001b[38;5;21;01mpandas_profiling\u001b[39;00m\u001b[38;5;21;01m.\u001b[39;00m\u001b[38;5;21;01mreport\u001b[39;00m\u001b[38;5;21;01m.\u001b[39;00m\u001b[38;5;21;01mpresentation\u001b[39;00m\u001b[38;5;21;01m.\u001b[39;00m\u001b[38;5;21;01mcore\u001b[39;00m \u001b[38;5;28;01mimport\u001b[39;00m Root\n\u001b[0;32m     26\u001b[0m \u001b[38;5;28;01mfrom\u001b[39;00m \u001b[38;5;21;01mpandas_profiling\u001b[39;00m\u001b[38;5;21;01m.\u001b[39;00m\u001b[38;5;21;01mreport\u001b[39;00m\u001b[38;5;21;01m.\u001b[39;00m\u001b[38;5;21;01mpresentation\u001b[39;00m\u001b[38;5;21;01m.\u001b[39;00m\u001b[38;5;21;01mcore\u001b[39;00m\u001b[38;5;21;01m.\u001b[39;00m\u001b[38;5;21;01mrenderable\u001b[39;00m \u001b[38;5;28;01mimport\u001b[39;00m Renderable\n\u001b[1;32m---> 27\u001b[0m \u001b[38;5;28;01mfrom\u001b[39;00m \u001b[38;5;21;01mpandas_profiling\u001b[39;00m\u001b[38;5;21;01m.\u001b[39;00m\u001b[38;5;21;01mreport\u001b[39;00m\u001b[38;5;21;01m.\u001b[39;00m\u001b[38;5;21;01mpresentation\u001b[39;00m\u001b[38;5;21;01m.\u001b[39;00m\u001b[38;5;21;01mflavours\u001b[39;00m\u001b[38;5;21;01m.\u001b[39;00m\u001b[38;5;21;01mhtml\u001b[39;00m\u001b[38;5;21;01m.\u001b[39;00m\u001b[38;5;21;01mtemplates\u001b[39;00m \u001b[38;5;28;01mimport\u001b[39;00m (\n\u001b[0;32m     28\u001b[0m     create_html_assets,\n\u001b[0;32m     29\u001b[0m )\n\u001b[0;32m     30\u001b[0m \u001b[38;5;28;01mfrom\u001b[39;00m \u001b[38;5;21;01mpandas_profiling\u001b[39;00m\u001b[38;5;21;01m.\u001b[39;00m\u001b[38;5;21;01mserialize_report\u001b[39;00m \u001b[38;5;28;01mimport\u001b[39;00m SerializeReport\n\u001b[0;32m     31\u001b[0m \u001b[38;5;28;01mfrom\u001b[39;00m \u001b[38;5;21;01mpandas_profiling\u001b[39;00m\u001b[38;5;21;01m.\u001b[39;00m\u001b[38;5;21;01mutils\u001b[39;00m\u001b[38;5;21;01m.\u001b[39;00m\u001b[38;5;21;01mdataframe\u001b[39;00m \u001b[38;5;28;01mimport\u001b[39;00m hash_dataframe\n",
      "File \u001b[1;32m~\\anaconda3\\lib\\site-packages\\pandas_profiling\\report\\presentation\\flavours\\html\\__init__.py:1\u001b[0m, in \u001b[0;36m<module>\u001b[1;34m\u001b[0m\n\u001b[1;32m----> 1\u001b[0m \u001b[38;5;28;01mfrom\u001b[39;00m \u001b[38;5;21;01mpandas_profiling\u001b[39;00m\u001b[38;5;21;01m.\u001b[39;00m\u001b[38;5;21;01mreport\u001b[39;00m\u001b[38;5;21;01m.\u001b[39;00m\u001b[38;5;21;01mpresentation\u001b[39;00m\u001b[38;5;21;01m.\u001b[39;00m\u001b[38;5;21;01mflavours\u001b[39;00m\u001b[38;5;21;01m.\u001b[39;00m\u001b[38;5;21;01mhtml\u001b[39;00m\u001b[38;5;21;01m.\u001b[39;00m\u001b[38;5;21;01malerts\u001b[39;00m \u001b[38;5;28;01mimport\u001b[39;00m HTMLAlerts\n\u001b[0;32m      2\u001b[0m \u001b[38;5;28;01mfrom\u001b[39;00m \u001b[38;5;21;01mpandas_profiling\u001b[39;00m\u001b[38;5;21;01m.\u001b[39;00m\u001b[38;5;21;01mreport\u001b[39;00m\u001b[38;5;21;01m.\u001b[39;00m\u001b[38;5;21;01mpresentation\u001b[39;00m\u001b[38;5;21;01m.\u001b[39;00m\u001b[38;5;21;01mflavours\u001b[39;00m\u001b[38;5;21;01m.\u001b[39;00m\u001b[38;5;21;01mhtml\u001b[39;00m\u001b[38;5;21;01m.\u001b[39;00m\u001b[38;5;21;01mcollapse\u001b[39;00m \u001b[38;5;28;01mimport\u001b[39;00m HTMLCollapse\n\u001b[0;32m      3\u001b[0m \u001b[38;5;28;01mfrom\u001b[39;00m \u001b[38;5;21;01mpandas_profiling\u001b[39;00m\u001b[38;5;21;01m.\u001b[39;00m\u001b[38;5;21;01mreport\u001b[39;00m\u001b[38;5;21;01m.\u001b[39;00m\u001b[38;5;21;01mpresentation\u001b[39;00m\u001b[38;5;21;01m.\u001b[39;00m\u001b[38;5;21;01mflavours\u001b[39;00m\u001b[38;5;21;01m.\u001b[39;00m\u001b[38;5;21;01mhtml\u001b[39;00m\u001b[38;5;21;01m.\u001b[39;00m\u001b[38;5;21;01mcontainer\u001b[39;00m \u001b[38;5;28;01mimport\u001b[39;00m HTMLContainer\n",
      "File \u001b[1;32m~\\anaconda3\\lib\\site-packages\\pandas_profiling\\report\\presentation\\flavours\\html\\alerts.py:2\u001b[0m, in \u001b[0;36m<module>\u001b[1;34m\u001b[0m\n\u001b[0;32m      1\u001b[0m \u001b[38;5;28;01mfrom\u001b[39;00m \u001b[38;5;21;01mpandas_profiling\u001b[39;00m\u001b[38;5;21;01m.\u001b[39;00m\u001b[38;5;21;01mreport\u001b[39;00m\u001b[38;5;21;01m.\u001b[39;00m\u001b[38;5;21;01mpresentation\u001b[39;00m\u001b[38;5;21;01m.\u001b[39;00m\u001b[38;5;21;01mcore\u001b[39;00m\u001b[38;5;21;01m.\u001b[39;00m\u001b[38;5;21;01malerts\u001b[39;00m \u001b[38;5;28;01mimport\u001b[39;00m Alerts\n\u001b[1;32m----> 2\u001b[0m \u001b[38;5;28;01mfrom\u001b[39;00m \u001b[38;5;21;01mpandas_profiling\u001b[39;00m\u001b[38;5;21;01m.\u001b[39;00m\u001b[38;5;21;01mreport\u001b[39;00m\u001b[38;5;21;01m.\u001b[39;00m\u001b[38;5;21;01mpresentation\u001b[39;00m\u001b[38;5;21;01m.\u001b[39;00m\u001b[38;5;21;01mflavours\u001b[39;00m\u001b[38;5;21;01m.\u001b[39;00m\u001b[38;5;21;01mhtml\u001b[39;00m \u001b[38;5;28;01mimport\u001b[39;00m templates\n\u001b[0;32m      5\u001b[0m \u001b[38;5;28;01mclass\u001b[39;00m \u001b[38;5;21;01mHTMLAlerts\u001b[39;00m(Alerts):\n\u001b[0;32m      6\u001b[0m     \u001b[38;5;28;01mdef\u001b[39;00m \u001b[38;5;21mrender\u001b[39m(\u001b[38;5;28mself\u001b[39m) \u001b[38;5;241m-\u001b[39m\u001b[38;5;241m>\u001b[39m \u001b[38;5;28mstr\u001b[39m:\n",
      "File \u001b[1;32m~\\anaconda3\\lib\\site-packages\\pandas_profiling\\report\\presentation\\flavours\\html\\templates.py:5\u001b[0m, in \u001b[0;36m<module>\u001b[1;34m\u001b[0m\n\u001b[0;32m      2\u001b[0m \u001b[38;5;28;01mimport\u001b[39;00m \u001b[38;5;21;01mshutil\u001b[39;00m\n\u001b[0;32m      3\u001b[0m \u001b[38;5;28;01mfrom\u001b[39;00m \u001b[38;5;21;01mpathlib\u001b[39;00m \u001b[38;5;28;01mimport\u001b[39;00m Path\n\u001b[1;32m----> 5\u001b[0m \u001b[38;5;28;01mimport\u001b[39;00m \u001b[38;5;21;01mjinja2\u001b[39;00m\n\u001b[0;32m      7\u001b[0m \u001b[38;5;28;01mfrom\u001b[39;00m \u001b[38;5;21;01mpandas_profiling\u001b[39;00m\u001b[38;5;21;01m.\u001b[39;00m\u001b[38;5;21;01mconfig\u001b[39;00m \u001b[38;5;28;01mimport\u001b[39;00m Settings, Theme\n\u001b[0;32m      8\u001b[0m \u001b[38;5;28;01mfrom\u001b[39;00m \u001b[38;5;21;01mpandas_profiling\u001b[39;00m\u001b[38;5;21;01m.\u001b[39;00m\u001b[38;5;21;01mreport\u001b[39;00m\u001b[38;5;21;01m.\u001b[39;00m\u001b[38;5;21;01mformatters\u001b[39;00m \u001b[38;5;28;01mimport\u001b[39;00m fmt, fmt_badge, fmt_numeric, fmt_percent\n",
      "File \u001b[1;32m~\\anaconda3\\lib\\site-packages\\jinja2\\__init__.py:12\u001b[0m, in \u001b[0;36m<module>\u001b[1;34m\u001b[0m\n\u001b[0;32m     10\u001b[0m \u001b[38;5;28;01mfrom\u001b[39;00m \u001b[38;5;21;01m.\u001b[39;00m\u001b[38;5;21;01mbccache\u001b[39;00m \u001b[38;5;28;01mimport\u001b[39;00m FileSystemBytecodeCache\n\u001b[0;32m     11\u001b[0m \u001b[38;5;28;01mfrom\u001b[39;00m \u001b[38;5;21;01m.\u001b[39;00m\u001b[38;5;21;01mbccache\u001b[39;00m \u001b[38;5;28;01mimport\u001b[39;00m MemcachedBytecodeCache\n\u001b[1;32m---> 12\u001b[0m \u001b[38;5;28;01mfrom\u001b[39;00m \u001b[38;5;21;01m.\u001b[39;00m\u001b[38;5;21;01menvironment\u001b[39;00m \u001b[38;5;28;01mimport\u001b[39;00m Environment\n\u001b[0;32m     13\u001b[0m \u001b[38;5;28;01mfrom\u001b[39;00m \u001b[38;5;21;01m.\u001b[39;00m\u001b[38;5;21;01menvironment\u001b[39;00m \u001b[38;5;28;01mimport\u001b[39;00m Template\n\u001b[0;32m     14\u001b[0m \u001b[38;5;28;01mfrom\u001b[39;00m \u001b[38;5;21;01m.\u001b[39;00m\u001b[38;5;21;01mexceptions\u001b[39;00m \u001b[38;5;28;01mimport\u001b[39;00m TemplateAssertionError\n",
      "File \u001b[1;32m~\\anaconda3\\lib\\site-packages\\jinja2\\environment.py:25\u001b[0m, in \u001b[0;36m<module>\u001b[1;34m\u001b[0m\n\u001b[0;32m     23\u001b[0m \u001b[38;5;28;01mfrom\u001b[39;00m \u001b[38;5;21;01m.\u001b[39;00m\u001b[38;5;21;01mcompiler\u001b[39;00m \u001b[38;5;28;01mimport\u001b[39;00m CodeGenerator\n\u001b[0;32m     24\u001b[0m \u001b[38;5;28;01mfrom\u001b[39;00m \u001b[38;5;21;01m.\u001b[39;00m\u001b[38;5;21;01mcompiler\u001b[39;00m \u001b[38;5;28;01mimport\u001b[39;00m generate\n\u001b[1;32m---> 25\u001b[0m \u001b[38;5;28;01mfrom\u001b[39;00m \u001b[38;5;21;01m.\u001b[39;00m\u001b[38;5;21;01mdefaults\u001b[39;00m \u001b[38;5;28;01mimport\u001b[39;00m BLOCK_END_STRING\n\u001b[0;32m     26\u001b[0m \u001b[38;5;28;01mfrom\u001b[39;00m \u001b[38;5;21;01m.\u001b[39;00m\u001b[38;5;21;01mdefaults\u001b[39;00m \u001b[38;5;28;01mimport\u001b[39;00m BLOCK_START_STRING\n\u001b[0;32m     27\u001b[0m \u001b[38;5;28;01mfrom\u001b[39;00m \u001b[38;5;21;01m.\u001b[39;00m\u001b[38;5;21;01mdefaults\u001b[39;00m \u001b[38;5;28;01mimport\u001b[39;00m COMMENT_END_STRING\n",
      "File \u001b[1;32m~\\anaconda3\\lib\\site-packages\\jinja2\\defaults.py:3\u001b[0m, in \u001b[0;36m<module>\u001b[1;34m\u001b[0m\n\u001b[0;32m      1\u001b[0m \u001b[38;5;66;03m# -*- coding: utf-8 -*-\u001b[39;00m\n\u001b[0;32m      2\u001b[0m \u001b[38;5;28;01mfrom\u001b[39;00m \u001b[38;5;21;01m.\u001b[39;00m\u001b[38;5;21;01m_compat\u001b[39;00m \u001b[38;5;28;01mimport\u001b[39;00m range_type\n\u001b[1;32m----> 3\u001b[0m \u001b[38;5;28;01mfrom\u001b[39;00m \u001b[38;5;21;01m.\u001b[39;00m\u001b[38;5;21;01mfilters\u001b[39;00m \u001b[38;5;28;01mimport\u001b[39;00m FILTERS \u001b[38;5;28;01mas\u001b[39;00m DEFAULT_FILTERS  \u001b[38;5;66;03m# noqa: F401\u001b[39;00m\n\u001b[0;32m      4\u001b[0m \u001b[38;5;28;01mfrom\u001b[39;00m \u001b[38;5;21;01m.\u001b[39;00m\u001b[38;5;21;01mtests\u001b[39;00m \u001b[38;5;28;01mimport\u001b[39;00m TESTS \u001b[38;5;28;01mas\u001b[39;00m DEFAULT_TESTS  \u001b[38;5;66;03m# noqa: F401\u001b[39;00m\n\u001b[0;32m      5\u001b[0m \u001b[38;5;28;01mfrom\u001b[39;00m \u001b[38;5;21;01m.\u001b[39;00m\u001b[38;5;21;01mutils\u001b[39;00m \u001b[38;5;28;01mimport\u001b[39;00m Cycler\n",
      "File \u001b[1;32m~\\anaconda3\\lib\\site-packages\\jinja2\\filters.py:13\u001b[0m, in \u001b[0;36m<module>\u001b[1;34m\u001b[0m\n\u001b[0;32m     11\u001b[0m \u001b[38;5;28;01mfrom\u001b[39;00m \u001b[38;5;21;01mmarkupsafe\u001b[39;00m \u001b[38;5;28;01mimport\u001b[39;00m escape\n\u001b[0;32m     12\u001b[0m \u001b[38;5;28;01mfrom\u001b[39;00m \u001b[38;5;21;01mmarkupsafe\u001b[39;00m \u001b[38;5;28;01mimport\u001b[39;00m Markup\n\u001b[1;32m---> 13\u001b[0m \u001b[38;5;28;01mfrom\u001b[39;00m \u001b[38;5;21;01mmarkupsafe\u001b[39;00m \u001b[38;5;28;01mimport\u001b[39;00m soft_unicode\n\u001b[0;32m     15\u001b[0m \u001b[38;5;28;01mfrom\u001b[39;00m \u001b[38;5;21;01m.\u001b[39;00m\u001b[38;5;21;01m_compat\u001b[39;00m \u001b[38;5;28;01mimport\u001b[39;00m abc\n\u001b[0;32m     16\u001b[0m \u001b[38;5;28;01mfrom\u001b[39;00m \u001b[38;5;21;01m.\u001b[39;00m\u001b[38;5;21;01m_compat\u001b[39;00m \u001b[38;5;28;01mimport\u001b[39;00m imap\n",
      "\u001b[1;31mImportError\u001b[0m: cannot import name 'soft_unicode' from 'markupsafe' (C:\\Users\\user\\anaconda3\\lib\\site-packages\\markupsafe\\__init__.py)"
     ]
    }
   ],
   "source": [
    "\n",
    "import pandas as pd\n",
    "import numpy as np\n",
    "import pandas_profiling"
   ]
  },
  {
   "cell_type": "code",
   "execution_count": null,
   "id": "2834152d",
   "metadata": {},
   "outputs": [],
   "source": []
  },
  {
   "cell_type": "code",
   "execution_count": 3,
   "id": "2c5ad9a7",
   "metadata": {
    "id": "2c5ad9a7",
    "outputId": "15fa07cc-3ddd-4bc8-9cb4-fbd90597f199"
   },
   "outputs": [
    {
     "name": "stdout",
     "output_type": "stream",
     "text": [
      "시리즈 출력 : \n",
      "---------------\n",
      "피자    17000\n",
      "치킨    18000\n",
      "콜라     1000\n",
      "맥주     5000\n",
      "dtype: int64\n"
     ]
    }
   ],
   "source": [
    "import pandas as pd\n",
    "\n",
    "sr = pd.Series([17000,18000,1000,5000]\n",
    "              , index=[\"피자\",\"치킨\",\"콜라\",\"맥주\"])\n",
    "print('시리즈 출력 : ')\n",
    "print('-'*15)\n",
    "print(sr)"
   ]
  },
  {
   "cell_type": "code",
   "execution_count": null,
   "id": "4c076235",
   "metadata": {
    "id": "4c076235",
    "outputId": "bb181b61-dc94-4089-f386-477a3b5f5ae2"
   },
   "outputs": [],
   "source": [
    "data = {\n",
    "    '학번' : ['1000', '1001', '1002', '1003', '1004', '1005'],\n",
    "    '이름' : [ 'Steve', 'James', 'Doyeon', 'Jane', 'Pilwoong', 'Tony'],\n",
    "    '점수': [90.72, 78.09, 98.43, 64.19, 81.30, 99.14]\n",
    "    }\n",
    "\n",
    "df = pd.DataFrame(data)\n",
    "print(df)"
   ]
  },
  {
   "cell_type": "code",
   "execution_count": null,
   "id": "70149ce8",
   "metadata": {
    "id": "70149ce8",
    "outputId": "f15574ba-9dc7-4be6-cc9d-1715eea0c302"
   },
   "outputs": [],
   "source": [
    "df.head()"
   ]
  },
  {
   "cell_type": "code",
   "execution_count": null,
   "id": "607f7dff",
   "metadata": {
    "id": "607f7dff",
    "outputId": "1b8b0b15-1b46-4aec-85a6-9ca29c8a69fd"
   },
   "outputs": [],
   "source": [
    "print(df['학번'])"
   ]
  },
  {
   "cell_type": "code",
   "execution_count": null,
   "id": "59aa9c94",
   "metadata": {
    "id": "59aa9c94",
    "outputId": "240ae99f-f84a-4312-849a-5a015fc291fc"
   },
   "outputs": [],
   "source": [
    "df.iloc[:,0:2]"
   ]
  },
  {
   "cell_type": "code",
   "execution_count": null,
   "id": "cb07d8f3",
   "metadata": {
    "id": "cb07d8f3"
   },
   "outputs": [],
   "source": [
    "import numpy as np\n",
    "import pandas as pd"
   ]
  },
  {
   "cell_type": "code",
   "execution_count": null,
   "id": "79071913",
   "metadata": {
    "id": "79071913",
    "outputId": "4f4f9699-469d-4cf6-fa1e-d403f1d2a1ae"
   },
   "outputs": [],
   "source": [
    "vec = np.array([1,2,3,4,5])\n",
    "print(vec)"
   ]
  },
  {
   "cell_type": "code",
   "execution_count": null,
   "id": "4daf5373",
   "metadata": {
    "id": "4daf5373",
    "outputId": "3eb95c63-5195-41dd-b1d1-9d98652298ac"
   },
   "outputs": [],
   "source": [
    "random_mat = np.random.random((2,2)) # 임의의 값으로 채워진 배열 생성\n",
    "print(random_mat)"
   ]
  },
  {
   "cell_type": "code",
   "execution_count": null,
   "id": "953e5230",
   "metadata": {
    "id": "953e5230",
    "outputId": "e555bb83-6ab6-4212-f9fb-a8883ac57e48"
   },
   "outputs": [],
   "source": [
    "test = np.array(np.arange(30).reshape((5,6)))\n",
    "print(test)"
   ]
  },
  {
   "cell_type": "code",
   "execution_count": null,
   "id": "8dc43224",
   "metadata": {
    "id": "8dc43224",
    "outputId": "87095049-d3a4-41dd-e952-b0ddd44adaf0"
   },
   "outputs": [],
   "source": [
    "test_mat = test[0, :]\n",
    "print(test_mat)"
   ]
  },
  {
   "cell_type": "code",
   "execution_count": null,
   "id": "e6aa2e46",
   "metadata": {
    "id": "e6aa2e46",
    "outputId": "3e1b33c3-649d-4043-b77a-9bdd0dc09495"
   },
   "outputs": [],
   "source": [
    "mat1 = np.array([[1,2],[3,4]])\n",
    "mat2 = np.array([[5,6],[7,8]])\n",
    "print(mat1)\n",
    "print(mat2)"
   ]
  },
  {
   "cell_type": "code",
   "execution_count": null,
   "id": "d33400f4",
   "metadata": {
    "id": "d33400f4"
   },
   "outputs": [],
   "source": [
    "import matplotlib.pyplot as plt"
   ]
  },
  {
   "cell_type": "code",
   "execution_count": null,
   "id": "8553672b",
   "metadata": {
    "id": "8553672b",
    "outputId": "03f478c1-fec2-4c29-f8c2-04e2f99b3789"
   },
   "outputs": [],
   "source": [
    "plt.title('test')\n",
    "plt.plot([1,2,3,4],[2,4,8,6])\n",
    "plt.show()"
   ]
  },
  {
   "cell_type": "code",
   "execution_count": null,
   "id": "cae774f1",
   "metadata": {
    "id": "cae774f1",
    "outputId": "af912bb0-4422-4bc4-cf96-2da1b2cb243b"
   },
   "outputs": [],
   "source": [
    "plt.title('test')\n",
    "plt.plot([1,2,3,4],[2,4,8,6])\n",
    "plt.xlabel('hours')\n",
    "plt.ylabel('score')\n",
    "plt.show()"
   ]
  },
  {
   "cell_type": "code",
   "execution_count": null,
   "id": "78237fec",
   "metadata": {
    "id": "78237fec"
   },
   "outputs": [],
   "source": [
    "import pandas_profiling\n",
    "data = pd.read_csv('D:\\MyWorkSpace\\spam.csv', encoding='latin1')"
   ]
  },
  {
   "cell_type": "code",
   "execution_count": null,
   "id": "c08865e1",
   "metadata": {
    "id": "c08865e1",
    "outputId": "124930ba-4fdd-4b8a-bca1-616863d3a9ff"
   },
   "outputs": [],
   "source": [
    "data[:5]"
   ]
  },
  {
   "cell_type": "code",
   "execution_count": null,
   "id": "aa3fb5a0",
   "metadata": {
    "id": "aa3fb5a0",
    "outputId": "ce01c7e5-7191-4a8b-fc88-d1568aac0d10"
   },
   "outputs": [],
   "source": [
    "data.head()"
   ]
  },
  {
   "cell_type": "code",
   "execution_count": null,
   "id": "3eb5e728",
   "metadata": {
    "id": "3eb5e728"
   },
   "outputs": [],
   "source": [
    "pr=data.profile_report()"
   ]
  },
  {
   "cell_type": "code",
   "execution_count": null,
   "id": "1f569ee9",
   "metadata": {
    "colab": {
     "referenced_widgets": [
      "0ca63c6cf2d443f4910d81384528de0d",
      "40276304647d4a31a39a3e9dd7ad0f41",
      "2b036db57ee74e31932eb1daa8d780b1",
      "97fce8a8dfdd4f7d99ec1765e3e3c4bd"
     ]
    },
    "id": "1f569ee9",
    "outputId": "fa2ef8a6-c04b-49b0-fa03-fa5e0e5180f4"
   },
   "outputs": [],
   "source": [
    "pr.to_file('./pr_report.html')"
   ]
  },
  {
   "cell_type": "code",
   "execution_count": null,
   "id": "e32ec1bf",
   "metadata": {
    "colab": {
     "referenced_widgets": [
      "d60f91eead8a47c7badda4ce402a588c",
      "eec92778bf4a42e49100fd461445cf5a",
      "660a5b8aed7b4d47a41b9d3344681b06"
     ]
    },
    "id": "e32ec1bf",
    "outputId": "cad7cfce-50c6-4f5a-8a4b-0993b955603f"
   },
   "outputs": [],
   "source": [
    "pr"
   ]
  },
  {
   "cell_type": "code",
   "execution_count": null,
   "id": "80d0317e",
   "metadata": {
    "id": "80d0317e"
   },
   "outputs": [],
   "source": [
    "# 정규표현식 ㅋ\n"
   ]
  },
  {
   "cell_type": "code",
   "execution_count": null,
   "id": "1405cf64",
   "metadata": {
    "id": "1405cf64"
   },
   "outputs": [],
   "source": [
    "import re"
   ]
  },
  {
   "cell_type": "code",
   "execution_count": null,
   "id": "c33a02d3",
   "metadata": {
    "id": "c33a02d3"
   },
   "outputs": [],
   "source": [
    "r = re.compile(\"a.c\")\n",
    "r.search(\"kkk\") # 아무런 결과도 출력되지 않는다."
   ]
  },
  {
   "cell_type": "code",
   "execution_count": null,
   "id": "0ab40bea",
   "metadata": {
    "id": "0ab40bea",
    "outputId": "8e552e0c-5750-4ca2-a9a6-5e329ac0cdcd"
   },
   "outputs": [],
   "source": [
    "r.search(\"abc\")"
   ]
  },
  {
   "cell_type": "code",
   "execution_count": null,
   "id": "08da9b52",
   "metadata": {
    "id": "08da9b52"
   },
   "outputs": [],
   "source": [
    "r = re.compile(\"ab?c\")\n",
    "r.search(\"abbc\") # 아무런 결과도 출력되지 않는다."
   ]
  },
  {
   "cell_type": "code",
   "execution_count": null,
   "id": "175cad8c",
   "metadata": {
    "id": "175cad8c",
    "outputId": "7100eb93-b839-4a0c-ecfd-29801a4a810d"
   },
   "outputs": [],
   "source": [
    "r.search(\"abc\")"
   ]
  },
  {
   "cell_type": "code",
   "execution_count": null,
   "id": "55cdd9b3",
   "metadata": {
    "id": "55cdd9b3"
   },
   "outputs": [],
   "source": [
    "r = re.compile(\"^ab\")"
   ]
  },
  {
   "cell_type": "code",
   "execution_count": null,
   "id": "ad09bf3f",
   "metadata": {
    "id": "ad09bf3f",
    "outputId": "5df830e4-b888-4513-b444-50fedb53a8f7"
   },
   "outputs": [],
   "source": [
    "r.search(\"abz\")"
   ]
  },
  {
   "cell_type": "code",
   "execution_count": null,
   "id": "357eb8ac",
   "metadata": {
    "id": "357eb8ac",
    "outputId": "03980ffc-1a31-4f3c-fe5f-f587c13e3204"
   },
   "outputs": [],
   "source": [
    "# 공백 기준 분리\n",
    "text = \"사과 딸기 수박 메론 바나나\"\n",
    "re.split(\" \", text)"
   ]
  },
  {
   "cell_type": "code",
   "execution_count": null,
   "id": "c957c2e3",
   "metadata": {
    "id": "c957c2e3",
    "outputId": "02eb4c10-1244-4672-fd95-e27111145a85"
   },
   "outputs": [],
   "source": [
    "# 줄바꿈 기준 분리\n",
    "text = \"\"\"사과\n",
    "딸기\n",
    "수박\n",
    "메론\n",
    "바나나\"\"\"\n",
    "\n",
    "re.split(\"\\n\", text)"
   ]
  },
  {
   "cell_type": "code",
   "execution_count": null,
   "id": "d154e115",
   "metadata": {
    "id": "d154e115",
    "outputId": "7489e1cb-8eb5-4035-c788-12cf01922ba1"
   },
   "outputs": [],
   "source": [
    "# '+'를 기준으로 분리\n",
    "text = \"사과+딸기+수박+메론+바나나\"\n",
    "\n",
    "re.split(\"\\+\", text)"
   ]
  },
  {
   "cell_type": "code",
   "execution_count": null,
   "id": "f1ace5d9",
   "metadata": {
    "id": "f1ace5d9",
    "outputId": "240eafab-ee21-41e6-8c5d-8473fcd8430e"
   },
   "outputs": [],
   "source": [
    "text = \"\"\"이름 : 김철수\n",
    "전화번호 : 010 - 1234 - 1234\n",
    "나이 : 30\n",
    "성별 : 남\"\"\"\n",
    "\n",
    "re.findall(\"\\d+\", text)"
   ]
  },
  {
   "cell_type": "code",
   "execution_count": null,
   "id": "2e6ee847",
   "metadata": {
    "id": "2e6ee847"
   },
   "outputs": [],
   "source": [
    "# 정규 표현식 텍스트 전처리 예제\n",
    "text = \"\"\"100 John    PROF\n",
    "101 James   STUD\n",
    "102 Mac   STUD\"\"\""
   ]
  },
  {
   "cell_type": "code",
   "execution_count": null,
   "id": "e9438026",
   "metadata": {
    "id": "e9438026",
    "outputId": "dd886411-565e-4cf7-ac87-80683b63494c"
   },
   "outputs": [],
   "source": [
    "re.split('\\s+', text)  "
   ]
  },
  {
   "cell_type": "code",
   "execution_count": null,
   "id": "88ef9a01",
   "metadata": {
    "colab": {
     "base_uri": "https://localhost:8080/",
     "height": 358
    },
    "executionInfo": {
     "elapsed": 1797,
     "status": "error",
     "timestamp": 1656680585869,
     "user": {
      "displayName": "‍박종현(대학원생-비즈니스IT전공)",
      "userId": "13175100117096290735"
     },
     "user_tz": -540
    },
    "id": "88ef9a01",
    "outputId": "54ae1ce7-a3f0-4002-de9a-118f715ed73f"
   },
   "outputs": [],
   "source": [
    "from nltk.corpus import stopwords\n",
    "from nltk.tokenize import word_tokenize \n",
    "from konlpy.tag import Okt"
   ]
  },
  {
   "cell_type": "code",
   "execution_count": null,
   "id": "b0825ea8",
   "metadata": {
    "id": "b0825ea8"
   },
   "outputs": [],
   "source": [
    "from nltk.tokenize import word_tokenize\n",
    "from nltk.tokenize import WordPunctTokenizer\n",
    "from tensorflow.keras.preprocessing.text import text_to_word_sequence"
   ]
  },
  {
   "cell_type": "code",
   "execution_count": null,
   "id": "00c01a65",
   "metadata": {
    "id": "00c01a65",
    "outputId": "f480f0d9-db9d-4bda-b78e-1251c983b84f"
   },
   "outputs": [],
   "source": [
    "\n",
    "from nltk.tokenize import RegexpTokenizer\n",
    "\n",
    "text = \"Don't be fooled by the dark sounding name, Mr. Jone's Orphanage is as cheery as cheery goes for a pastry shop\"\n",
    "\n",
    "tokenizer1 = RegexpTokenizer(\"[\\w]+\")\n",
    "tokenizer2 = RegexpTokenizer(\"\\s+\", gaps=True)\n",
    "\n",
    "print(tokenizer1.tokenize(text))\n",
    "print(tokenizer2.tokenize(text))"
   ]
  },
  {
   "cell_type": "code",
   "execution_count": null,
   "id": "cf40b104",
   "metadata": {
    "id": "cf40b104"
   },
   "outputs": [],
   "source": [
    "# 정수 인코딩\n",
    "from nltk.tokenize import sent_tokenize\n",
    "from nltk.tokenize import word_tokenize\n",
    "from nltk.corpus import stopwords"
   ]
  },
  {
   "cell_type": "code",
   "execution_count": null,
   "id": "e5805725",
   "metadata": {
    "id": "e5805725"
   },
   "outputs": [],
   "source": [
    "raw_text = \"A barber is a person. a barber is good person. a barber is huge person. he Knew A Secret! The Secret He Kept is huge secret. Huge secret. His barber kept his word. a barber kept his word. His barber kept his secret. But keeping and keeping such a huge secret to himself was driving the barber crazy. the barber went up a huge mountain.\""
   ]
  },
  {
   "cell_type": "code",
   "execution_count": null,
   "id": "e6825b1b",
   "metadata": {
    "id": "e6825b1b",
    "outputId": "4815473e-b8c3-4ba2-f1e4-289a122350b3"
   },
   "outputs": [],
   "source": [
    "# 문장 토큰화\n",
    "sentences = sent_tokenize(raw_text)\n",
    "print(sentences)"
   ]
  },
  {
   "cell_type": "code",
   "execution_count": null,
   "id": "11d0a337",
   "metadata": {
    "id": "11d0a337",
    "outputId": "ca68c8be-232b-4f29-a7a2-024823a5266a"
   },
   "outputs": [],
   "source": [
    "vocab = {}\n",
    "preprocessed_sentences = []\n",
    "stop_words = set(stopwords.words('english'))\n",
    "\n",
    "for sentence in sentences:\n",
    "    # 단어 토큰화\n",
    "    tokenized_sentence = word_tokenize(sentence)\n",
    "    result = []\n",
    "\n",
    "    for word in tokenized_sentence: \n",
    "        word = word.lower() # 모든 단어를 소문자화하여 단어의 개수를 줄인다.\n",
    "        if word not in stop_words: # 단어 토큰화 된 결과에 대해서 불용어를 제거한다.\n",
    "            if len(word) > 2: # 단어 길이가 2이하인 경우에 대하여 추가로 단어를 제거한다.\n",
    "                result.append(word)\n",
    "                if word not in vocab:\n",
    "                    vocab[word] = 0 \n",
    "                vocab[word] += 1\n",
    "    preprocessed_sentences.append(result) \n",
    "print(preprocessed_sentences)"
   ]
  },
  {
   "cell_type": "code",
   "execution_count": null,
   "id": "d84de258",
   "metadata": {
    "id": "d84de258",
    "outputId": "c81349f0-6e7d-47cf-93f5-4e5772449c2d"
   },
   "outputs": [],
   "source": [
    "print('단어 집합 :',vocab)"
   ]
  },
  {
   "cell_type": "code",
   "execution_count": null,
   "id": "4efcbeb0",
   "metadata": {
    "id": "4efcbeb0",
    "outputId": "82ca23a9-6117-48de-ba22-d61a82605939"
   },
   "outputs": [],
   "source": [
    "# 'barber'라는 단어의 빈도수 출력\n",
    "print(vocab[\"barber\"])"
   ]
  },
  {
   "cell_type": "code",
   "execution_count": null,
   "id": "da7ed947",
   "metadata": {
    "id": "da7ed947",
    "outputId": "e25609ed-8c76-40ef-af0f-474615ea5f69"
   },
   "outputs": [],
   "source": [
    "vocab_sorted = sorted(vocab.items(), key = lambda x:x[1], reverse = True)\n",
    "print(vocab_sorted)"
   ]
  },
  {
   "cell_type": "code",
   "execution_count": null,
   "id": "55620ed8",
   "metadata": {
    "id": "55620ed8",
    "outputId": "6880a219-b4e1-4339-aae2-6f175de2281c"
   },
   "outputs": [],
   "source": [
    "word_to_index = {}\n",
    "i = 0\n",
    "for (word, frequency) in vocab_sorted :\n",
    "    if frequency > 1 : # 빈도수가 작은 단어는 제외.\n",
    "        i = i + 1\n",
    "        word_to_index[word] = i\n",
    "\n",
    "print(word_to_index)"
   ]
  },
  {
   "cell_type": "code",
   "execution_count": null,
   "id": "9fb8c228",
   "metadata": {
    "id": "9fb8c228",
    "outputId": "2c036816-fd06-4d1a-f520-aed740bc4abd"
   },
   "outputs": [],
   "source": [
    "vocab_size = 5\n",
    "\n",
    "# 인덱스가 5 초과인 단어 제거\n",
    "words_frequency = [word for word, index in word_to_index.items() if index >= vocab_size + 1]\n",
    "\n",
    "# 해당 단어에 대한 인덱스 정보를 삭제\n",
    "for w in words_frequency:\n",
    "    del word_to_index[w]\n",
    "print(word_to_index)"
   ]
  },
  {
   "cell_type": "code",
   "execution_count": null,
   "id": "b140f4b5",
   "metadata": {
    "id": "b140f4b5",
    "outputId": "7459005e-32bb-4b76-fd2d-335c92dd1965"
   },
   "outputs": [],
   "source": [
    "word_to_index['OOV'] = len(word_to_index) + 1\n",
    "print(word_to_index)"
   ]
  },
  {
   "cell_type": "code",
   "execution_count": null,
   "id": "dccb5d29",
   "metadata": {
    "id": "dccb5d29",
    "outputId": "7ffc4c59-889e-4bc8-a326-6fa6521b633a"
   },
   "outputs": [],
   "source": [
    "encoded_sentences = []\n",
    "for sentence in preprocessed_sentences:\n",
    "    encoded_sentence = []\n",
    "    for word in sentence:\n",
    "        try:\n",
    "            # 단어 집합에 있는 단어라면 해당 단어의 정수를 리턴.\n",
    "            encoded_sentence.append(word_to_index[word])\n",
    "        except KeyError:\n",
    "            # 만약 단어 집합에 없는 단어라면 'OOV'의 정수를 리턴.\n",
    "            encoded_sentence.append(word_to_index['OOV'])\n",
    "    encoded_sentences.append(encoded_sentence)\n",
    "print(encoded_sentences)"
   ]
  },
  {
   "cell_type": "code",
   "execution_count": null,
   "id": "801d522d",
   "metadata": {
    "id": "801d522d"
   },
   "outputs": [],
   "source": [
    "# counter 사용\n",
    "from collections import Counter"
   ]
  },
  {
   "cell_type": "code",
   "execution_count": null,
   "id": "085af1b4",
   "metadata": {
    "id": "085af1b4",
    "outputId": "9227c813-e4bb-48b6-e589-a93627717680"
   },
   "outputs": [],
   "source": [
    "print(preprocessed_sentences)"
   ]
  },
  {
   "cell_type": "code",
   "execution_count": null,
   "id": "d4d529bb",
   "metadata": {
    "id": "d4d529bb",
    "outputId": "78e8f0dc-55eb-448b-ab3b-4dc2ebb8435e"
   },
   "outputs": [],
   "source": [
    "# words = np.hstack(preprocessed_sentences)으로도 수행 가능.\n",
    "all_words_list = sum(preprocessed_sentences, [])\n",
    "print(all_words_list)"
   ]
  },
  {
   "cell_type": "code",
   "execution_count": null,
   "id": "67884978",
   "metadata": {
    "id": "67884978",
    "outputId": "32bf2b0e-1df8-4937-b4ae-8ab176965efa"
   },
   "outputs": [],
   "source": [
    "vocab = Counter(all_words_list)\n",
    "print(vocab)"
   ]
  },
  {
   "cell_type": "code",
   "execution_count": null,
   "id": "e4b7626f",
   "metadata": {
    "id": "e4b7626f",
    "outputId": "b373d135-a449-4f7b-94bd-431eb1488a46"
   },
   "outputs": [],
   "source": [
    "vocab_size = 5\n",
    "vocab = vocab.most_common(vocab_size) # 등장 빈도수가 높은 상위 5개의 단어만 저장\n",
    "vocab"
   ]
  },
  {
   "cell_type": "code",
   "execution_count": null,
   "id": "baf551b6",
   "metadata": {
    "id": "baf551b6",
    "outputId": "de05453c-8257-4c72-ae15-64ff2f3031e1"
   },
   "outputs": [],
   "source": [
    "word_to_index = {}\n",
    "i = 0\n",
    "for (word, frequency) in vocab :\n",
    "    i = i + 1\n",
    "    word_to_index[word] = i\n",
    "\n",
    "print(word_to_index)"
   ]
  },
  {
   "cell_type": "code",
   "execution_count": null,
   "id": "4bed82ed",
   "metadata": {
    "id": "4bed82ed"
   },
   "outputs": [],
   "source": [
    "# nltk의 freqdist(빈도계산 도구=counter)\n",
    "from nltk import FreqDist\n",
    "import numpy as np"
   ]
  },
  {
   "cell_type": "code",
   "execution_count": null,
   "id": "71d1b056",
   "metadata": {
    "id": "71d1b056"
   },
   "outputs": [],
   "source": [
    "# np.hstack으로 문장 구분을 제거\n",
    "vocab = FreqDist(np.hstack(preprocessed_sentences))"
   ]
  },
  {
   "cell_type": "code",
   "execution_count": null,
   "id": "3b008488",
   "metadata": {
    "id": "3b008488",
    "outputId": "8703dc4a-32d4-4365-e8e7-d1aed1ed467a"
   },
   "outputs": [],
   "source": [
    "vocab_size = 5\n",
    "vocab = vocab.most_common(vocab_size) # 등장 빈도수가 높은 상위 5개의 단어만 저장\n",
    "print(vocab)"
   ]
  },
  {
   "cell_type": "code",
   "execution_count": null,
   "id": "59bc0898",
   "metadata": {
    "id": "59bc0898",
    "outputId": "ff9f8b86-b8d8-4258-87d8-f581fc2f3099"
   },
   "outputs": [],
   "source": [
    "word_to_index = {word[0] : index + 1 for index, word in enumerate(vocab)}\n",
    "print(word_to_index)"
   ]
  },
  {
   "cell_type": "code",
   "execution_count": null,
   "id": "22b8550d",
   "metadata": {
    "id": "22b8550d",
    "outputId": "e1897ec4-8c6e-4b29-aa2c-cf0761a2e8af"
   },
   "outputs": [],
   "source": [
    "#  enumerate\n",
    "test_input = ['a', 'b', 'c', 'd', 'e']\n",
    "for index, value in enumerate(test_input): # 입력의 순서대로 0부터 인덱스를 부여함.\n",
    "  print(\"value : {}, index: {}\".format(value, index))"
   ]
  },
  {
   "cell_type": "code",
   "execution_count": null,
   "id": "efa9c865",
   "metadata": {
    "id": "efa9c865"
   },
   "outputs": [],
   "source": [
    "from tensorflow.keras.preprocessing.text import Tokenizer"
   ]
  },
  {
   "cell_type": "code",
   "execution_count": null,
   "id": "8043da33",
   "metadata": {
    "id": "8043da33"
   },
   "outputs": [],
   "source": [
    "preprocessed_sentences = [['barber', 'person'], ['barber', 'good', 'person'], ['barber', 'huge', 'person'], ['knew', 'secret'], ['secret', 'kept', 'huge', 'secret'], ['huge', 'secret'], ['barber', 'kept', 'word'], ['barber', 'kept', 'word'], ['barber', 'kept', 'secret'], ['keeping', 'keeping', 'huge', 'secret', 'driving', 'barber', 'crazy'], ['barber', 'went', 'huge', 'mountain']]"
   ]
  },
  {
   "cell_type": "code",
   "execution_count": null,
   "id": "40fe4f1e",
   "metadata": {
    "id": "40fe4f1e"
   },
   "outputs": [],
   "source": [
    "tokenizer = Tokenizer()\n",
    "\n",
    "# fit_on_texts()안에 코퍼스를 입력으로 하면 빈도수를 기준으로 단어 집합을 생성.\n",
    "tokenizer.fit_on_texts(preprocessed_sentences) "
   ]
  },
  {
   "cell_type": "code",
   "execution_count": null,
   "id": "c205f18f",
   "metadata": {
    "id": "c205f18f",
    "outputId": "1e1c3e8d-8e1c-4166-fdfa-b894d6806bbd"
   },
   "outputs": [],
   "source": [
    "print(tokenizer.word_index)"
   ]
  },
  {
   "cell_type": "code",
   "execution_count": null,
   "id": "65ee09c6",
   "metadata": {
    "id": "65ee09c6",
    "outputId": "95a74a07-f5b8-43c0-ac27-33e45e7c7892"
   },
   "outputs": [],
   "source": [
    "print(tokenizer.word_counts)"
   ]
  },
  {
   "cell_type": "code",
   "execution_count": null,
   "id": "06aaee78",
   "metadata": {
    "id": "06aaee78",
    "outputId": "51b270b2-9114-41bc-cc9c-92b6ccfb04e7"
   },
   "outputs": [],
   "source": [
    "print(tokenizer.texts_to_sequences(preprocessed_sentences))"
   ]
  },
  {
   "cell_type": "code",
   "execution_count": null,
   "id": "cdbf13a5",
   "metadata": {
    "id": "cdbf13a5"
   },
   "outputs": [],
   "source": [
    "vocab_size = 5\n",
    "tokenizer = Tokenizer(num_words = vocab_size + 1) # 상위 5개 단어만 사용\n",
    "tokenizer.fit_on_texts(preprocessed_sentences)"
   ]
  },
  {
   "cell_type": "code",
   "execution_count": null,
   "id": "ab62232f",
   "metadata": {
    "id": "ab62232f",
    "outputId": "dcf7b55d-a1e7-42d7-e767-29b57458b0ed"
   },
   "outputs": [],
   "source": [
    "print(tokenizer.word_index)"
   ]
  },
  {
   "cell_type": "code",
   "execution_count": null,
   "id": "b700da3d",
   "metadata": {
    "id": "b700da3d",
    "outputId": "c9da3524-041e-464f-8a45-4a49605f67f5"
   },
   "outputs": [],
   "source": [
    "print(tokenizer.word_counts)"
   ]
  },
  {
   "cell_type": "code",
   "execution_count": null,
   "id": "a0783be5",
   "metadata": {
    "id": "a0783be5",
    "outputId": "4e16192f-67eb-420e-ed48-34bb65701b4f"
   },
   "outputs": [],
   "source": [
    "print(tokenizer.texts_to_sequences(preprocessed_sentences))"
   ]
  },
  {
   "cell_type": "code",
   "execution_count": null,
   "id": "1a4317c6",
   "metadata": {
    "id": "1a4317c6"
   },
   "outputs": [],
   "source": [
    "tokenizer = Tokenizer()\n",
    "tokenizer.fit_on_texts(preprocessed_sentences)"
   ]
  },
  {
   "cell_type": "code",
   "execution_count": null,
   "id": "6ed4499e",
   "metadata": {
    "id": "6ed4499e",
    "outputId": "a5fae71f-946f-474a-c368-bb6cd4c948f6"
   },
   "outputs": [],
   "source": [
    "vocab_size = 5\n",
    "words_frequency = [word for word, index in tokenizer.word_index.items() if index >= vocab_size + 1] \n",
    "\n",
    "# 인덱스가 5 초과인 단어 제거\n",
    "for word in words_frequency:\n",
    "    del tokenizer.word_index[word] # 해당 단어에 대한 인덱스 정보를 삭제\n",
    "    del tokenizer.word_counts[word] # 해당 단어에 대한 카운트 정보를 삭제\n",
    "\n",
    "print(tokenizer.word_index)\n",
    "print(tokenizer.word_counts)\n",
    "print(tokenizer.texts_to_sequences(preprocessed_sentences))"
   ]
  },
  {
   "cell_type": "code",
   "execution_count": null,
   "id": "2fbda7e2",
   "metadata": {
    "id": "2fbda7e2"
   },
   "outputs": [],
   "source": [
    "#  패딩\n",
    "import numpy as np\n",
    "from tensorflow.keras.preprocessing.text import Tokenizer"
   ]
  },
  {
   "cell_type": "code",
   "execution_count": null,
   "id": "cf03834f",
   "metadata": {
    "id": "cf03834f"
   },
   "outputs": [],
   "source": [
    "preprocessed_sentences = [['barber', 'person'], ['barber', 'good', 'person'], ['barber', 'huge', 'person'], ['knew', 'secret'], ['secret', 'kept', 'huge', 'secret'], ['huge', 'secret'], ['barber', 'kept', 'word'], ['barber', 'kept', 'word'], ['barber', 'kept', 'secret'], ['keeping', 'keeping', 'huge', 'secret', 'driving', 'barber', 'crazy'], ['barber', 'went', 'huge', 'mountain']]"
   ]
  },
  {
   "cell_type": "code",
   "execution_count": null,
   "id": "e1cc4410",
   "metadata": {
    "id": "e1cc4410",
    "outputId": "db6821ba-4ad0-4236-9f6f-a21a70c363a6"
   },
   "outputs": [],
   "source": [
    "tokenizer = Tokenizer()\n",
    "tokenizer.fit_on_texts(preprocessed_sentences)\n",
    "encoded = tokenizer.texts_to_sequences(preprocessed_sentences)\n",
    "print(encoded)"
   ]
  },
  {
   "cell_type": "code",
   "execution_count": null,
   "id": "768d28b5",
   "metadata": {
    "id": "768d28b5",
    "outputId": "b3a23cb3-202a-44d8-aa69-77e12a34d018"
   },
   "outputs": [],
   "source": [
    "max_len = max(len(item) for item in encoded)\n",
    "print('최대 길이 :',max_len)"
   ]
  },
  {
   "cell_type": "code",
   "execution_count": null,
   "id": "b9d7dced",
   "metadata": {
    "id": "b9d7dced",
    "outputId": "9674d97b-be32-4a53-9ebd-321b93137c7b"
   },
   "outputs": [],
   "source": [
    "# 제로패딩\n",
    "for sentence in encoded:\n",
    "    while len(sentence) < max_len:\n",
    "        sentence.append(0)\n",
    "\n",
    "padded_np = np.array(encoded)\n",
    "padded_np"
   ]
  },
  {
   "cell_type": "code",
   "execution_count": null,
   "id": "d0e98ad9",
   "metadata": {
    "id": "d0e98ad9"
   },
   "outputs": [],
   "source": [
    "# 케라스로 제로패딩\n",
    "from tensorflow.keras.preprocessing.sequence import pad_sequences"
   ]
  },
  {
   "cell_type": "code",
   "execution_count": null,
   "id": "c9cceaf7",
   "metadata": {
    "id": "c9cceaf7",
    "outputId": "4fd0defa-811a-4b09-dd2d-c49fb5eaff86"
   },
   "outputs": [],
   "source": [
    "encoded = tokenizer.texts_to_sequences(preprocessed_sentences)\n",
    "print(encoded)"
   ]
  },
  {
   "cell_type": "code",
   "execution_count": null,
   "id": "d51ce4a7",
   "metadata": {
    "id": "d51ce4a7",
    "outputId": "c63ef428-cc40-46ea-b39e-0936d9928093"
   },
   "outputs": [],
   "source": [
    "padded = pad_sequences(encoded)\n",
    "padded"
   ]
  },
  {
   "cell_type": "code",
   "execution_count": null,
   "id": "35230b9f",
   "metadata": {
    "id": "35230b9f",
    "outputId": "e60becf8-3781-48dc-b825-415c3add796c"
   },
   "outputs": [],
   "source": [
    "padded = pad_sequences(encoded, padding='post')\n",
    "padded"
   ]
  },
  {
   "cell_type": "code",
   "execution_count": null,
   "id": "bffd13ee",
   "metadata": {
    "id": "bffd13ee",
    "outputId": "faabefaa-c6d2-4a6a-af62-ff2cd53e290f"
   },
   "outputs": [],
   "source": [
    "(padded == padded_np).all()"
   ]
  },
  {
   "cell_type": "code",
   "execution_count": null,
   "id": "fc1ddccc",
   "metadata": {
    "id": "fc1ddccc",
    "outputId": "4cfd6db6-d7c1-4643-f47f-953cc29616ac"
   },
   "outputs": [],
   "source": [
    "padded = pad_sequences(encoded, padding='post', maxlen=5)\n",
    "padded"
   ]
  },
  {
   "cell_type": "code",
   "execution_count": null,
   "id": "8f2c3d26",
   "metadata": {
    "id": "8f2c3d26",
    "outputId": "ff341454-48eb-452b-ce38-56ce05e944af"
   },
   "outputs": [],
   "source": [
    "padded = pad_sequences(encoded, padding='post', truncating='post', maxlen=5)\n",
    "padded"
   ]
  },
  {
   "cell_type": "code",
   "execution_count": null,
   "id": "4143e64a",
   "metadata": {
    "id": "4143e64a",
    "outputId": "d00c5e8c-d36b-4efd-a45f-e90e501b569e"
   },
   "outputs": [],
   "source": [
    "last_value = len(tokenizer.word_index) + 1 # 단어 집합의 크기보다 1 큰 숫자를 사용\n",
    "print(last_value)"
   ]
  },
  {
   "cell_type": "code",
   "execution_count": null,
   "id": "4fdd2875",
   "metadata": {
    "id": "4fdd2875",
    "outputId": "a0e431b4-de3b-4f7b-cd39-af7cb54f8d1d"
   },
   "outputs": [],
   "source": [
    "padded = pad_sequences(encoded, padding='post', value=last_value)\n",
    "padded\n"
   ]
  },
  {
   "cell_type": "code",
   "execution_count": null,
   "id": "a0712895",
   "metadata": {
    "id": "a0712895",
    "outputId": "45ded3ef-145a-4f51-989d-08be6057070e"
   },
   "outputs": [],
   "source": [
    "# 원핫인코딩\n",
    "from konlpy.tag import Okt  \n",
    "\n",
    "okt = Okt()  \n",
    "tokens = okt.morphs(\"나는 자연어 처리를 배운다\")  \n",
    "print(tokens)"
   ]
  },
  {
   "cell_type": "code",
   "execution_count": null,
   "id": "1ededf04",
   "metadata": {
    "id": "1ededf04",
    "outputId": "bd0a7217-ff84-4912-851c-c4a2699fdd17"
   },
   "outputs": [],
   "source": [
    "word_to_index = {word : index for index, word in enumerate(tokens)}\n",
    "print('단어 집합 :',word_to_index)"
   ]
  },
  {
   "cell_type": "code",
   "execution_count": null,
   "id": "d27a21b5",
   "metadata": {
    "id": "d27a21b5"
   },
   "outputs": [],
   "source": [
    "def one_hot_encoding(word, word_to_index):\n",
    "  one_hot_vector = [0]*(len(word_to_index))\n",
    "  index = word_to_index[word]\n",
    "  one_hot_vector[index] = 1\n",
    "  return one_hot_vector"
   ]
  },
  {
   "cell_type": "code",
   "execution_count": null,
   "id": "8515e07a",
   "metadata": {
    "id": "8515e07a",
    "outputId": "0bbf6a76-588a-4fc4-c96a-33cf5848f0c5"
   },
   "outputs": [],
   "source": [
    "one_hot_encoding(\"자연어\", word_to_index)"
   ]
  },
  {
   "cell_type": "code",
   "execution_count": null,
   "id": "260ebbbe",
   "metadata": {
    "id": "260ebbbe"
   },
   "outputs": [],
   "source": [
    "# 케라스를 이용한 원핫인코딩\n",
    "text = \"나랑 점심 먹으러 갈래 점심 메뉴는 햄버거 갈래 갈래 햄버거 최고야\""
   ]
  },
  {
   "cell_type": "code",
   "execution_count": null,
   "id": "c8785dbc",
   "metadata": {
    "id": "c8785dbc",
    "outputId": "6ef35992-14cf-4d56-9643-6cd3fa11d6f8"
   },
   "outputs": [],
   "source": [
    "from tensorflow.keras.preprocessing.text import Tokenizer\n",
    "from tensorflow.keras.utils import to_categorical\n",
    "\n",
    "text = \"나랑 점심 먹으러 갈래 점심 메뉴는 햄버거 갈래 갈래 햄버거 최고야\"\n",
    "\n",
    "tokenizer = Tokenizer()\n",
    "tokenizer.fit_on_texts([text])\n",
    "print('단어 집합 :',tokenizer.word_index)"
   ]
  },
  {
   "cell_type": "code",
   "execution_count": null,
   "id": "53b7f623",
   "metadata": {
    "id": "53b7f623",
    "outputId": "d2a6823d-535a-4c68-aa60-350b275b60ee"
   },
   "outputs": [],
   "source": [
    "sub_text = \"점심 먹으러 갈래 메뉴는 햄버거 최고야\"\n",
    "encoded = tokenizer.texts_to_sequences([sub_text])[0]\n",
    "print(encoded)"
   ]
  },
  {
   "cell_type": "code",
   "execution_count": null,
   "id": "fc139ab1",
   "metadata": {
    "id": "fc139ab1",
    "outputId": "31196c2f-a295-4340-9f86-6996f76d8621"
   },
   "outputs": [],
   "source": [
    "one_hot = to_categorical(encoded)\n",
    "print(one_hot)"
   ]
  },
  {
   "cell_type": "code",
   "execution_count": null,
   "id": "7c493426",
   "metadata": {
    "id": "7c493426"
   },
   "outputs": [],
   "source": [
    "# 데이터 분리\n",
    "import pandas as pd\n",
    "import numpy as np\n",
    "from sklearn.model_selection import train_test_split"
   ]
  },
  {
   "cell_type": "code",
   "execution_count": null,
   "id": "9ce8bf36",
   "metadata": {
    "id": "9ce8bf36",
    "outputId": "0cdae38c-40b3-4a45-df24-1795ea1c0a43"
   },
   "outputs": [],
   "source": [
    "X, y = zip(['a', 1], ['b', 2], ['c', 3])\n",
    "print('X 데이터 :',X)\n",
    "print('y 데이터 :',y)"
   ]
  },
  {
   "cell_type": "code",
   "execution_count": null,
   "id": "f4449a6b",
   "metadata": {
    "id": "f4449a6b",
    "outputId": "b12a1e91-783e-434c-d046-4016746f9433"
   },
   "outputs": [],
   "source": [
    "# 리스트의 리스트 또는 행렬 또는 뒤에서 배울 개념인 2D 텐서.\n",
    "sequences = [['a', 1], ['b', 2], ['c', 3]]\n",
    "X, y = zip(*sequences)\n",
    "print('X 데이터 :',X)\n",
    "print('y 데이터 :',y)"
   ]
  },
  {
   "cell_type": "code",
   "execution_count": null,
   "id": "7c2daa8b",
   "metadata": {
    "id": "7c2daa8b",
    "outputId": "6d804cbb-cfa5-45f3-b7ea-9d09fc4c64b5"
   },
   "outputs": [],
   "source": [
    "values = [['당신에게 드리는 마지막 혜택!', 1],\n",
    "['내일 뵐 수 있을지 확인 부탁드...', 0],\n",
    "['도연씨. 잘 지내시죠? 오랜만입...', 0],\n",
    "['(광고) AI로 주가를 예측할 수 있다!', 1]]\n",
    "columns = ['메일 본문', '스팸 메일 유무']\n",
    "\n",
    "df = pd.DataFrame(values, columns=columns)\n",
    "df"
   ]
  },
  {
   "cell_type": "code",
   "execution_count": null,
   "id": "d99c791f",
   "metadata": {
    "id": "d99c791f"
   },
   "outputs": [],
   "source": [
    "X = df['메일 본문']\n",
    "y = df['스팸 메일 유무']"
   ]
  },
  {
   "cell_type": "code",
   "execution_count": null,
   "id": "bd912f8c",
   "metadata": {
    "id": "bd912f8c",
    "outputId": "729750bd-4f18-415e-9b81-38c509531ea3"
   },
   "outputs": [],
   "source": [
    "print('X 데이터 :',X.to_list())\n",
    "print('y 데이터 :',y.to_list())"
   ]
  },
  {
   "cell_type": "code",
   "execution_count": null,
   "id": "dfc3fa9d",
   "metadata": {
    "id": "dfc3fa9d",
    "outputId": "04133037-92f6-460f-b92f-a658bf4d8cbb"
   },
   "outputs": [],
   "source": [
    "np_array = np.arange(0,16).reshape((4,4))\n",
    "print('전체 데이터 :')\n",
    "print(np_array)"
   ]
  },
  {
   "cell_type": "code",
   "execution_count": null,
   "id": "77932282",
   "metadata": {
    "id": "77932282",
    "outputId": "66c2b746-8f39-4c23-c72e-bf251ed50571"
   },
   "outputs": [],
   "source": [
    "X = np_array[:, :3]\n",
    "y = np_array[:,3]\n",
    "\n",
    "print('X 데이터 :')\n",
    "print(X)\n",
    "print('y 데이터 :',y)"
   ]
  },
  {
   "cell_type": "code",
   "execution_count": null,
   "id": "90b5e441",
   "metadata": {
    "id": "90b5e441"
   },
   "outputs": [],
   "source": [
    "X_train, X_test, y_train, y_test = train_test_split(X, y, test_size= 0.2, random_state=1234)"
   ]
  },
  {
   "cell_type": "code",
   "execution_count": null,
   "id": "4b837961",
   "metadata": {
    "id": "4b837961",
    "outputId": "003f7a30-7ace-4a09-a669-8c4f4f56b1a3"
   },
   "outputs": [],
   "source": [
    "# 임의로 X와 y 데이터를 생성\n",
    "X, y = np.arange(10).reshape((5, 2)), range(5)\n",
    "\n",
    "print('X 전체 데이터 :')\n",
    "print(X)\n",
    "print('y 전체 데이터 :')\n",
    "print(list(y))"
   ]
  },
  {
   "cell_type": "code",
   "execution_count": null,
   "id": "ed026a3c",
   "metadata": {
    "id": "ed026a3c"
   },
   "outputs": [],
   "source": [
    "X_train, X_test, y_train, y_test = train_test_split(X, y, test_size=0.3, random_state=1234)"
   ]
  },
  {
   "cell_type": "code",
   "execution_count": null,
   "id": "f44a2327",
   "metadata": {
    "id": "f44a2327",
    "outputId": "cb189f77-3eca-437f-eda6-4ae46016f002"
   },
   "outputs": [],
   "source": [
    "print('X 훈련 데이터 :')\n",
    "print(X_train)\n",
    "print('X 테스트 데이터 :')\n",
    "print(X_test)"
   ]
  },
  {
   "cell_type": "code",
   "execution_count": null,
   "id": "d9eb0c5c",
   "metadata": {
    "id": "d9eb0c5c",
    "outputId": "c75d37b9-4659-4f6a-bdc6-830d6861a4b1"
   },
   "outputs": [],
   "source": [
    "print('y 훈련 데이터 :')\n",
    "print(y_train)\n",
    "print('y 테스트 데이터 :')\n",
    "print(y_test)"
   ]
  },
  {
   "cell_type": "code",
   "execution_count": null,
   "id": "dab7c403",
   "metadata": {
    "id": "dab7c403",
    "outputId": "37264b54-4366-4183-8e84-1fa1170d7e3e"
   },
   "outputs": [],
   "source": [
    "# random_state의 값을 변경\n",
    "X_train, X_test, y_train, y_test = train_test_split(X, y, test_size=0.3, random_state=1)\n",
    "\n",
    "print('y 훈련 데이터 :')\n",
    "print(y_train)\n",
    "print('y 테스트 데이터 :')\n",
    "print(y_test)"
   ]
  },
  {
   "cell_type": "code",
   "execution_count": null,
   "id": "f10a384b",
   "metadata": {
    "id": "f10a384b",
    "outputId": "7e742730-6a17-4563-f50c-65c39cadb02a"
   },
   "outputs": [],
   "source": [
    "# random_state을 이전의 값이었던 1234로 변경\n",
    "X_train, X_test, y_train, y_test = train_test_split(X, y, test_size=0.3, random_state=1234)\n",
    "\n",
    "print('y 훈련 데이터 :')\n",
    "print(y_train)\n",
    "print('y 테스트 데이터 :')\n",
    "print(y_test)\n"
   ]
  },
  {
   "cell_type": "code",
   "execution_count": null,
   "id": "bbfc5568",
   "metadata": {
    "id": "bbfc5568",
    "outputId": "c74e5e64-a182-4be5-9617-7f989d8228e2"
   },
   "outputs": [],
   "source": [
    "# 실습을 위해 임의로 X와 y가 이미 분리 된 데이터를 생성(수동 분리)\n",
    "X, y = np.arange(0,24).reshape((12,2)), range(12)\n",
    "\n",
    "print('X 전체 데이터 :')\n",
    "print(X)\n",
    "print('y 전체 데이터 :')\n",
    "print(list(y))\n"
   ]
  },
  {
   "cell_type": "code",
   "execution_count": null,
   "id": "6deadc7b",
   "metadata": {
    "id": "6deadc7b",
    "outputId": "4018855a-4e71-4592-f316-6d7696f1aa40"
   },
   "outputs": [],
   "source": [
    "num_of_train = int(len(X) * 0.8) # 데이터의 전체 길이의 80%에 해당하는 길이값을 구한다.\n",
    "num_of_test = int(len(X) - num_of_train) # 전체 길이에서 80%에 해당하는 길이를 뺀다.\n",
    "print('훈련 데이터의 크기 :',num_of_train)\n",
    "print('테스트 데이터의 크기 :',num_of_test)"
   ]
  },
  {
   "cell_type": "code",
   "execution_count": null,
   "id": "478230e6",
   "metadata": {
    "id": "478230e6"
   },
   "outputs": [],
   "source": [
    "X_test = X[num_of_train:] # 전체 데이터 중에서 20%만큼 뒤의 데이터 저장\n",
    "y_test = y[num_of_train:] # 전체 데이터 중에서 20%만큼 뒤의 데이터 저장\n",
    "X_train = X[:num_of_train] # 전체 데이터 중에서 80%만큼 앞의 데이터 저장\n",
    "y_train = y[:num_of_train] # 전체 데이터 중에서 80%만큼 앞의 데이터 저장"
   ]
  },
  {
   "cell_type": "code",
   "execution_count": null,
   "id": "51ac7101",
   "metadata": {
    "id": "51ac7101",
    "outputId": "c2a3a451-0fb9-4dce-b7e6-bda0a6df8ba3"
   },
   "outputs": [],
   "source": [
    "print('X 테스트 데이터 :')\n",
    "print(X_test)\n",
    "print('y 테스트 데이터 :')\n",
    "print(list(y_test))"
   ]
  },
  {
   "cell_type": "code",
   "execution_count": null,
   "id": "UYDF1iCQxnWM",
   "metadata": {
    "id": "UYDF1iCQxnWM"
   },
   "outputs": [],
   "source": [
    "# 한국어 전처리 패키지"
   ]
  },
  {
   "cell_type": "code",
   "execution_count": null,
   "id": "47cf9422",
   "metadata": {
    "colab": {
     "base_uri": "https://localhost:8080/",
     "height": 1000
    },
    "executionInfo": {
     "elapsed": 10306,
     "status": "ok",
     "timestamp": 1656679275832,
     "user": {
      "displayName": "‍박종현(대학원생-비즈니스IT전공)",
      "userId": "13175100117096290735"
     },
     "user_tz": -540
    },
    "id": "47cf9422",
    "outputId": "4c82c445-a9c9-4e8a-eb9c-fc93bd494d42"
   },
   "outputs": [],
   "source": [
    "pip install git+https://github.com/haven-jeon/PyKoSpacing.git"
   ]
  },
  {
   "cell_type": "code",
   "execution_count": null,
   "id": "3LLjVEgnwzmZ",
   "metadata": {
    "executionInfo": {
     "elapsed": 471,
     "status": "ok",
     "timestamp": 1656679284507,
     "user": {
      "displayName": "‍박종현(대학원생-비즈니스IT전공)",
      "userId": "13175100117096290735"
     },
     "user_tz": -540
    },
    "id": "3LLjVEgnwzmZ"
   },
   "outputs": [],
   "source": [
    "sent = '김철수는 극중 두 인격의 사나이 이광수 역을 맡았다. 철수는 한국 유일의 태권도 전승자를 가리는 결전의 날을 앞두고 10년간 함께 훈련한 사형인 유연재(김광수 분)를 찾으러 속세로 내려온 인물이다.'"
   ]
  },
  {
   "cell_type": "code",
   "execution_count": null,
   "id": "Je0inE5ux7q4",
   "metadata": {
    "colab": {
     "base_uri": "https://localhost:8080/"
    },
    "executionInfo": {
     "elapsed": 481,
     "status": "ok",
     "timestamp": 1656679289914,
     "user": {
      "displayName": "‍박종현(대학원생-비즈니스IT전공)",
      "userId": "13175100117096290735"
     },
     "user_tz": -540
    },
    "id": "Je0inE5ux7q4",
    "outputId": "29b993a1-923a-452e-a51b-ce4d8734f3c8"
   },
   "outputs": [],
   "source": [
    "new_sent = sent.replace(\" \", '') # 띄어쓰기가 없는 문장 임의로 만들기\n",
    "print(new_sent)"
   ]
  },
  {
   "cell_type": "code",
   "execution_count": null,
   "id": "1VYWucekx8-P",
   "metadata": {
    "colab": {
     "base_uri": "https://localhost:8080/"
    },
    "executionInfo": {
     "elapsed": 20802,
     "status": "ok",
     "timestamp": 1656679315686,
     "user": {
      "displayName": "‍박종현(대학원생-비즈니스IT전공)",
      "userId": "13175100117096290735"
     },
     "user_tz": -540
    },
    "id": "1VYWucekx8-P",
    "outputId": "0682a3aa-e315-4c87-8ddc-af074db1e24b"
   },
   "outputs": [],
   "source": [
    "from pykospacing import Spacing\n",
    "spacing = Spacing()\n",
    "kospacing_sent = spacing(new_sent) \n",
    "\n",
    "print(sent)\n",
    "print(kospacing_sent)"
   ]
  },
  {
   "cell_type": "code",
   "execution_count": null,
   "id": "cTDCDKFlyIll",
   "metadata": {
    "id": "cTDCDKFlyIll"
   },
   "outputs": [],
   "source": [
    "# 한글 맞춤법 검사기 파이썬"
   ]
  },
  {
   "cell_type": "code",
   "execution_count": null,
   "id": "Bfv88__Ex-SY",
   "metadata": {
    "colab": {
     "base_uri": "https://localhost:8080/"
    },
    "executionInfo": {
     "elapsed": 5163,
     "status": "ok",
     "timestamp": 1656679332542,
     "user": {
      "displayName": "‍박종현(대학원생-비즈니스IT전공)",
      "userId": "13175100117096290735"
     },
     "user_tz": -540
    },
    "id": "Bfv88__Ex-SY",
    "outputId": "e5ee8bfa-91d6-4129-a595-e27acbce17c9"
   },
   "outputs": [],
   "source": [
    "pip install git+https://github.com/ssut/py-hanspell.git"
   ]
  },
  {
   "cell_type": "code",
   "execution_count": null,
   "id": "w1yc07mzyDul",
   "metadata": {
    "colab": {
     "base_uri": "https://localhost:8080/"
    },
    "executionInfo": {
     "elapsed": 1154,
     "status": "ok",
     "timestamp": 1656679436890,
     "user": {
      "displayName": "‍박종현(대학원생-비즈니스IT전공)",
      "userId": "13175100117096290735"
     },
     "user_tz": -540
    },
    "id": "w1yc07mzyDul",
    "outputId": "af79091f-2dea-46c0-827f-6b8d1af2c2c1"
   },
   "outputs": [],
   "source": [
    "from hanspell import spell_checker\n",
    "\n",
    "sent = \"맞춤법 틀리면 외 않되? 쓰고싶은대로쓰면돼지 \"\n",
    "spelled_sent = spell_checker.check(sent)\n",
    "\n",
    "hanspell_sent = spelled_sent.checked\n",
    "print(hanspell_sent)"
   ]
  },
  {
   "cell_type": "code",
   "execution_count": null,
   "id": "jyS3xy6vygk7",
   "metadata": {
    "colab": {
     "base_uri": "https://localhost:8080/"
    },
    "executionInfo": {
     "elapsed": 488,
     "status": "ok",
     "timestamp": 1656679448242,
     "user": {
      "displayName": "‍박종현(대학원생-비즈니스IT전공)",
      "userId": "13175100117096290735"
     },
     "user_tz": -540
    },
    "id": "jyS3xy6vygk7",
    "outputId": "1e0f2def-0479-49d0-f0dd-299dae8eba17"
   },
   "outputs": [],
   "source": [
    "spelled_sent = spell_checker.check(new_sent)\n",
    "\n",
    "hanspell_sent = spelled_sent.checked\n",
    "print(hanspell_sent)\n",
    "print(kospacing_sent) # 앞서 사용한 kospacing 패키지에서 얻은 결과"
   ]
  },
  {
   "cell_type": "code",
   "execution_count": null,
   "id": "xKMqN2uGyoOj",
   "metadata": {
    "executionInfo": {
     "elapsed": 1,
     "status": "ok",
     "timestamp": 1656679479261,
     "user": {
      "displayName": "‍박종현(대학원생-비즈니스IT전공)",
      "userId": "13175100117096290735"
     },
     "user_tz": -540
    },
    "id": "xKMqN2uGyoOj"
   },
   "outputs": [],
   "source": [
    "# soynlp 를 사용한 단어 토큰화(학습기반 형태소 분석기)"
   ]
  },
  {
   "cell_type": "code",
   "execution_count": 11,
   "id": "iq7icESKyjTV",
   "metadata": {
    "colab": {
     "base_uri": "https://localhost:8080/"
    },
    "executionInfo": {
     "elapsed": 3986,
     "status": "ok",
     "timestamp": 1656679483905,
     "user": {
      "displayName": "‍박종현(대학원생-비즈니스IT전공)",
      "userId": "13175100117096290735"
     },
     "user_tz": -540
    },
    "id": "iq7icESKyjTV",
    "outputId": "b32410c0-f022-4ac8-f8c7-a7cd725f66d5"
   },
   "outputs": [
    {
     "name": "stdout",
     "output_type": "stream",
     "text": [
      "Requirement already satisfied: soynlp in c:\\users\\user\\anaconda3\\lib\\site-packages (0.0.493)\n",
      "Requirement already satisfied: scipy>=1.1.0 in c:\\users\\user\\anaconda3\\lib\\site-packages (from soynlp) (1.7.3)\n",
      "Requirement already satisfied: psutil>=5.0.1 in c:\\users\\user\\anaconda3\\lib\\site-packages (from soynlp) (5.8.0)\n",
      "Requirement already satisfied: numpy>=1.12.1 in c:\\users\\user\\anaconda3\\lib\\site-packages (from soynlp) (1.21.5)\n",
      "Requirement already satisfied: scikit-learn>=0.20.0 in c:\\users\\user\\anaconda3\\lib\\site-packages (from soynlp) (1.0.2)\n",
      "Requirement already satisfied: joblib>=0.11 in c:\\users\\user\\anaconda3\\lib\\site-packages (from scikit-learn>=0.20.0->soynlp) (1.1.0)\n",
      "Requirement already satisfied: threadpoolctl>=2.0.0 in c:\\users\\user\\anaconda3\\lib\\site-packages (from scikit-learn>=0.20.0->soynlp) (2.2.0)\n",
      "Note: you may need to restart the kernel to use updated packages.\n"
     ]
    }
   ],
   "source": [
    "pip install soynlp"
   ]
  },
  {
   "cell_type": "code",
   "execution_count": 12,
   "id": "U6Mx2C502_l3",
   "metadata": {
    "colab": {
     "base_uri": "https://localhost:8080/"
    },
    "executionInfo": {
     "elapsed": 6941,
     "status": "ok",
     "timestamp": 1656680623784,
     "user": {
      "displayName": "‍박종현(대학원생-비즈니스IT전공)",
      "userId": "13175100117096290735"
     },
     "user_tz": -540
    },
    "id": "U6Mx2C502_l3",
    "outputId": "ce894000-3dae-4aab-a5a2-6f4cf6168cc8"
   },
   "outputs": [
    {
     "name": "stdout",
     "output_type": "stream",
     "text": [
      "Requirement already satisfied: konlpy in c:\\users\\user\\anaconda3\\lib\\site-packages (0.6.0)\n",
      "Requirement already satisfied: JPype1>=0.7.0 in c:\\users\\user\\anaconda3\\lib\\site-packages (from konlpy) (1.4.0)\n",
      "Requirement already satisfied: numpy>=1.6 in c:\\users\\user\\anaconda3\\lib\\site-packages (from konlpy) (1.21.5)\n",
      "Requirement already satisfied: lxml>=4.1.0 in c:\\users\\user\\anaconda3\\lib\\site-packages (from konlpy) (4.8.0)\n",
      "Note: you may need to restart the kernel to use updated packages.\n"
     ]
    }
   ],
   "source": [
    "pip install konlpy"
   ]
  },
  {
   "cell_type": "code",
   "execution_count": 13,
   "id": "d9phBkqHyrQV",
   "metadata": {
    "colab": {
     "base_uri": "https://localhost:8080/"
    },
    "executionInfo": {
     "elapsed": 6493,
     "status": "ok",
     "timestamp": 1656680697723,
     "user": {
      "displayName": "‍박종현(대학원생-비즈니스IT전공)",
      "userId": "13175100117096290735"
     },
     "user_tz": -540
    },
    "id": "d9phBkqHyrQV",
    "outputId": "72415db5-e581-4bfa-c61f-9bb8ceef8cce"
   },
   "outputs": [
    {
     "name": "stdout",
     "output_type": "stream",
     "text": [
      "['에이', '비식스', '이대', '휘', '1월', '최애', '돌', '기부', '요정']\n"
     ]
    }
   ],
   "source": [
    "from konlpy.tag import Okt\n",
    "\n",
    "tokenizer = Okt()\n",
    "print(tokenizer.morphs('에이비식스 이대휘 1월 최애돌 기부 요정'))"
   ]
  },
  {
   "cell_type": "code",
   "execution_count": 14,
   "id": "qa1FSMNL2vqo",
   "metadata": {
    "executionInfo": {
     "elapsed": 988,
     "status": "ok",
     "timestamp": 1656680732553,
     "user": {
      "displayName": "‍박종현(대학원생-비즈니스IT전공)",
      "userId": "13175100117096290735"
     },
     "user_tz": -540
    },
    "id": "qa1FSMNL2vqo"
   },
   "outputs": [],
   "source": [
    "import urllib.request\n",
    "from soynlp import DoublespaceLineCorpus\n",
    "from soynlp.word import WordExtractor"
   ]
  },
  {
   "cell_type": "code",
   "execution_count": 15,
   "id": "cFZqL22T3c1-",
   "metadata": {
    "colab": {
     "base_uri": "https://localhost:8080/"
    },
    "executionInfo": {
     "elapsed": 3862,
     "status": "ok",
     "timestamp": 1656680742534,
     "user": {
      "displayName": "‍박종현(대학원생-비즈니스IT전공)",
      "userId": "13175100117096290735"
     },
     "user_tz": -540
    },
    "id": "cFZqL22T3c1-",
    "outputId": "37884cda-a65e-4ec3-daf3-e515e99b0d5e"
   },
   "outputs": [
    {
     "data": {
      "text/plain": [
       "('2016-10-20.txt', <http.client.HTTPMessage at 0x2043ed8d490>)"
      ]
     },
     "execution_count": 15,
     "metadata": {},
     "output_type": "execute_result"
    }
   ],
   "source": [
    "urllib.request.urlretrieve(\"https://raw.githubusercontent.com/lovit/soynlp/master/tutorials/2016-10-20.txt\", filename=\"2016-10-20.txt\")"
   ]
  },
  {
   "cell_type": "code",
   "execution_count": 16,
   "id": "LlN0jpZP3ese",
   "metadata": {
    "colab": {
     "base_uri": "https://localhost:8080/"
    },
    "executionInfo": {
     "elapsed": 1982,
     "status": "ok",
     "timestamp": 1656680751466,
     "user": {
      "displayName": "‍박종현(대학원생-비즈니스IT전공)",
      "userId": "13175100117096290735"
     },
     "user_tz": -540
    },
    "id": "LlN0jpZP3ese",
    "outputId": "cd59087f-e957-4218-d6e4-28e206dbe108"
   },
   "outputs": [
    {
     "data": {
      "text/plain": [
       "30091"
      ]
     },
     "execution_count": 16,
     "metadata": {},
     "output_type": "execute_result"
    }
   ],
   "source": [
    "corpus = DoublespaceLineCorpus(\"2016-10-20.txt\")\n",
    "len(corpus)"
   ]
  },
  {
   "cell_type": "code",
   "execution_count": 17,
   "id": "HkdT954c3hTz",
   "metadata": {
    "colab": {
     "base_uri": "https://localhost:8080/"
    },
    "executionInfo": {
     "elapsed": 536,
     "status": "ok",
     "timestamp": 1656680760220,
     "user": {
      "displayName": "‍박종현(대학원생-비즈니스IT전공)",
      "userId": "13175100117096290735"
     },
     "user_tz": -540
    },
    "id": "HkdT954c3hTz",
    "outputId": "8c5b8f93-cbc2-48f0-e643-b85f107fafa1"
   },
   "outputs": [
    {
     "name": "stdout",
     "output_type": "stream",
     "text": [
      "19  1990  52 1 22\n",
      "오패산터널 총격전 용의자 검거 서울 연합뉴스 경찰 관계자들이 19일 오후 서울 강북구 오패산 터널 인근에서 사제 총기를 발사해 경찰을 살해한 용의자 성모씨를 검거하고 있다 성씨는 검거 당시 서바이벌 게임에서 쓰는 방탄조끼에 헬멧까지 착용한 상태였다 독자제공 영상 캡처 연합뉴스  서울 연합뉴스 김은경 기자 사제 총기로 경찰을 살해한 범인 성모 46 씨는 주도면밀했다  경찰에 따르면 성씨는 19일 오후 강북경찰서 인근 부동산 업소 밖에서 부동산업자 이모 67 씨가 나오기를 기다렸다 이씨와는 평소에도 말다툼을 자주 한 것으로 알려졌다  이씨가 나와 걷기 시작하자 성씨는 따라가면서 미리 준비해온 사제 총기를 이씨에게 발사했다 총알이 빗나가면서 이씨는 도망갔다 그 빗나간 총알은 지나가던 행인 71 씨의 배를 스쳤다  성씨는 강북서 인근 치킨집까지 이씨 뒤를 쫓으며 실랑이하다 쓰러뜨린 후 총기와 함께 가져온 망치로 이씨 머리를 때렸다  이 과정에서 오후 6시 20분께 강북구 번동 길 위에서 사람들이 싸우고 있다 총소리가 났다 는 등의 신고가 여러건 들어왔다  5분 후에 성씨의 전자발찌가 훼손됐다는 신고가 보호관찰소 시스템을 통해 들어왔다 성범죄자로 전자발찌를 차고 있던 성씨는 부엌칼로 직접 자신의 발찌를 끊었다  용의자 소지 사제총기 2정 서울 연합뉴스 임헌정 기자 서울 시내에서 폭행 용의자가 현장 조사를 벌이던 경찰관에게 사제총기를 발사해 경찰관이 숨졌다 19일 오후 6시28분 강북구 번동에서 둔기로 맞았다 는 폭행 피해 신고가 접수돼 현장에서 조사하던 강북경찰서 번동파출소 소속 김모 54 경위가 폭행 용의자 성모 45 씨가 쏜 사제총기에 맞고 쓰러진 뒤 병원에 옮겨졌으나 숨졌다 사진은 용의자가 소지한 사제총기  신고를 받고 번동파출소에서 김창호 54 경위 등 경찰들이 오후 6시 29분께 현장으로 출동했다 성씨는 그사이 부동산 앞에 놓아뒀던 가방을 챙겨 오패산 쪽으로 도망간 후였다  김 경위는 오패산 터널 입구 오른쪽의 급경사에서 성씨에게 접근하다가 오후 6시 33분께 풀숲에 숨은 성씨가 허공에 난사한 10여발의 총알 중 일부를 왼쪽 어깨 뒷부분에 맞고 쓰러졌다  김 경위는 구급차가 도착했을 때 이미 의식이 없었고 심폐소생술을 하며 병원으로 옮겨졌으나 총알이 폐를 훼손해 오후 7시 40분께 사망했다  김 경위는 외근용 조끼를 입고 있었으나 총알을 막기에는 역부족이었다  머리에 부상을 입은 이씨도 함께 병원으로 이송됐으나 생명에는 지장이 없는 것으로 알려졌다  성씨는 오패산 터널 밑쪽 숲에서 오후 6시 45분께 잡혔다  총격현장 수색하는 경찰들 서울 연합뉴스 이효석 기자 19일 오후 서울 강북구 오패산 터널 인근에서 경찰들이 폭행 용의자가 사제총기를 발사해 경찰관이 사망한 사건을 조사 하고 있다  총 때문에 쫓던 경관들과 민간인들이 몸을 숨겼는데 인근 신발가게 직원 이모씨가 다가가 성씨를 덮쳤고 이어 현장에 있던 다른 상인들과 경찰이 가세해 체포했다  성씨는 경찰에 붙잡힌 직후 나 자살하려고 한 거다 맞아 죽어도 괜찮다 고 말한 것으로 전해졌다  성씨 자신도 경찰이 발사한 공포탄 1발 실탄 3발 중 실탄 1발을 배에 맞았으나 방탄조끼를 입은 상태여서 부상하지는 않았다  경찰은 인근을 수색해 성씨가 만든 사제총 16정과 칼 7개를 압수했다 실제 폭발할지는 알 수 없는 요구르트병에 무언가를 채워두고 심지를 꽂은 사제 폭탄도 발견됐다  일부는 숲에서 발견됐고 일부는 성씨가 소지한 가방 안에 있었다\n",
      "테헤란 연합뉴스 강훈상 특파원 이용 승객수 기준 세계 최대 공항인 아랍에미리트 두바이국제공항은 19일 현지시간 이 공항을 이륙하는 모든 항공기의 탑승객은 삼성전자의 갤럭시노트7을 휴대하면 안 된다고 밝혔다  두바이국제공항은 여러 항공 관련 기구의 권고에 따라 안전성에 우려가 있는 스마트폰 갤럭시노트7을 휴대하고 비행기를 타면 안 된다 며 탑승 전 검색 중 발견되면 압수할 계획 이라고 발표했다  공항 측은 갤럭시노트7의 배터리가 폭발 우려가 제기된 만큼 이 제품을 갖고 공항 안으로 들어오지 말라고 이용객에 당부했다  이런 조치는 두바이국제공항 뿐 아니라 신공항인 두바이월드센터에도 적용된다  배터리 폭발문제로 회수된 갤럭시노트7 연합뉴스자료사진\n"
     ]
    }
   ],
   "source": [
    "i = 0\n",
    "for document in corpus:\n",
    "  if len(document) > 0:\n",
    "    print(document)\n",
    "    i = i+1\n",
    "  if i == 3:\n",
    "    break"
   ]
  },
  {
   "cell_type": "code",
   "execution_count": 18,
   "id": "bujcGJ5I3j0b",
   "metadata": {
    "colab": {
     "base_uri": "https://localhost:8080/"
    },
    "executionInfo": {
     "elapsed": 64390,
     "status": "ok",
     "timestamp": 1656680840622,
     "user": {
      "displayName": "‍박종현(대학원생-비즈니스IT전공)",
      "userId": "13175100117096290735"
     },
     "user_tz": -540
    },
    "id": "bujcGJ5I3j0b",
    "outputId": "1579d44b-1b48-49ca-8457-d9846b484a91"
   },
   "outputs": [
    {
     "name": "stdout",
     "output_type": "stream",
     "text": [
      "training was done. used memory 1.013 Gb\n",
      "all cohesion probabilities was computed. # words = 223348\n",
      "all branching entropies was computed # words = 361598\n",
      "all accessor variety was computed # words = 361598\n"
     ]
    }
   ],
   "source": [
    "word_extractor = WordExtractor()\n",
    "word_extractor.train(corpus)\n",
    "word_score_table = word_extractor.extract()"
   ]
  },
  {
   "cell_type": "code",
   "execution_count": 19,
   "id": "a7_4lJq-3n3N",
   "metadata": {
    "colab": {
     "base_uri": "https://localhost:8080/"
    },
    "executionInfo": {
     "elapsed": 495,
     "status": "ok",
     "timestamp": 1656681468343,
     "user": {
      "displayName": "‍박종현(대학원생-비즈니스IT전공)",
      "userId": "13175100117096290735"
     },
     "user_tz": -540
    },
    "id": "a7_4lJq-3n3N",
    "outputId": "5e5c19ab-f88c-4dc5-ea97-9a949cf25201"
   },
   "outputs": [
    {
     "data": {
      "text/plain": [
       "0.08838002913645132"
      ]
     },
     "execution_count": 19,
     "metadata": {},
     "output_type": "execute_result"
    }
   ],
   "source": [
    "# 응집도를 통한 최적화 분석\n",
    "word_score_table[\"반포한\"].cohesion_forward"
   ]
  },
  {
   "cell_type": "code",
   "execution_count": 20,
   "id": "tNEPgfso6QwX",
   "metadata": {
    "colab": {
     "base_uri": "https://localhost:8080/"
    },
    "executionInfo": {
     "elapsed": 475,
     "status": "ok",
     "timestamp": 1656681478915,
     "user": {
      "displayName": "‍박종현(대학원생-비즈니스IT전공)",
      "userId": "13175100117096290735"
     },
     "user_tz": -540
    },
    "id": "tNEPgfso6QwX",
    "outputId": "015a88e2-9e89-4c9f-b838-80edf46be4af"
   },
   "outputs": [
    {
     "data": {
      "text/plain": [
       "0.19841268168224552"
      ]
     },
     "execution_count": 20,
     "metadata": {},
     "output_type": "execute_result"
    }
   ],
   "source": [
    "word_score_table[\"반포한강\"].cohesion_forward"
   ]
  },
  {
   "cell_type": "code",
   "execution_count": 21,
   "id": "LqSYb66H6TSy",
   "metadata": {
    "colab": {
     "base_uri": "https://localhost:8080/"
    },
    "executionInfo": {
     "elapsed": 501,
     "status": "ok",
     "timestamp": 1656681484597,
     "user": {
      "displayName": "‍박종현(대학원생-비즈니스IT전공)",
      "userId": "13175100117096290735"
     },
     "user_tz": -540
    },
    "id": "LqSYb66H6TSy",
    "outputId": "8168200a-6242-4fec-f71b-84820f6119d6"
   },
   "outputs": [
    {
     "data": {
      "text/plain": [
       "0.2972877884078849"
      ]
     },
     "execution_count": 21,
     "metadata": {},
     "output_type": "execute_result"
    }
   ],
   "source": [
    "word_score_table[\"반포한강공\"].cohesion_forward"
   ]
  },
  {
   "cell_type": "code",
   "execution_count": 22,
   "id": "N18mT-2o6Uxv",
   "metadata": {
    "colab": {
     "base_uri": "https://localhost:8080/"
    },
    "executionInfo": {
     "elapsed": 1522,
     "status": "ok",
     "timestamp": 1656681492110,
     "user": {
      "displayName": "‍박종현(대학원생-비즈니스IT전공)",
      "userId": "13175100117096290735"
     },
     "user_tz": -540
    },
    "id": "N18mT-2o6Uxv",
    "outputId": "15318944-2dca-45c4-d710-69f60e9a732e"
   },
   "outputs": [
    {
     "data": {
      "text/plain": [
       "0.37891487632839754"
      ]
     },
     "execution_count": 22,
     "metadata": {},
     "output_type": "execute_result"
    }
   ],
   "source": [
    "word_score_table[\"반포한강공원\"].cohesion_forward"
   ]
  },
  {
   "cell_type": "code",
   "execution_count": 23,
   "id": "1rr_slXo6WQS",
   "metadata": {
    "colab": {
     "base_uri": "https://localhost:8080/"
    },
    "executionInfo": {
     "elapsed": 477,
     "status": "ok",
     "timestamp": 1656681495487,
     "user": {
      "displayName": "‍박종현(대학원생-비즈니스IT전공)",
      "userId": "13175100117096290735"
     },
     "user_tz": -540
    },
    "id": "1rr_slXo6WQS",
    "outputId": "104ee4f1-d7bb-4e1e-c13c-d766a44ee117"
   },
   "outputs": [
    {
     "data": {
      "text/plain": [
       "0.33492963377557666"
      ]
     },
     "execution_count": 23,
     "metadata": {},
     "output_type": "execute_result"
    }
   ],
   "source": [
    "word_score_table[\"반포한강공원에\"].cohesion_forward"
   ]
  },
  {
   "cell_type": "code",
   "execution_count": 24,
   "id": "0BwZlKRG6XUK",
   "metadata": {
    "executionInfo": {
     "elapsed": 496,
     "status": "ok",
     "timestamp": 1656681525147,
     "user": {
      "displayName": "‍박종현(대학원생-비즈니스IT전공)",
      "userId": "13175100117096290735"
     },
     "user_tz": -540
    },
    "id": "0BwZlKRG6XUK"
   },
   "outputs": [],
   "source": [
    "#  soynlp 브랜칭 엔트로피 (다음에 오는 값이 많을까? 에 대해 숫자가 커지고 작아짐)"
   ]
  },
  {
   "cell_type": "code",
   "execution_count": 25,
   "id": "gzJz-7yh6elS",
   "metadata": {
    "colab": {
     "base_uri": "https://localhost:8080/"
    },
    "executionInfo": {
     "elapsed": 511,
     "status": "ok",
     "timestamp": 1656681549440,
     "user": {
      "displayName": "‍박종현(대학원생-비즈니스IT전공)",
      "userId": "13175100117096290735"
     },
     "user_tz": -540
    },
    "id": "gzJz-7yh6elS",
    "outputId": "147bcc31-9434-4caa-8276-059fec5c49d6"
   },
   "outputs": [
    {
     "data": {
      "text/plain": [
       "1.6371694761537934"
      ]
     },
     "execution_count": 25,
     "metadata": {},
     "output_type": "execute_result"
    }
   ],
   "source": [
    "word_score_table[\"디스\"].right_branching_entropy"
   ]
  },
  {
   "cell_type": "code",
   "execution_count": 26,
   "id": "DqVR0vNk6kfO",
   "metadata": {
    "colab": {
     "base_uri": "https://localhost:8080/"
    },
    "executionInfo": {
     "elapsed": 465,
     "status": "ok",
     "timestamp": 1656681561197,
     "user": {
      "displayName": "‍박종현(대학원생-비즈니스IT전공)",
      "userId": "13175100117096290735"
     },
     "user_tz": -540
    },
    "id": "DqVR0vNk6kfO",
    "outputId": "8287b9a1-ef7a-4463-a04a-3e0c76d87c3c"
   },
   "outputs": [
    {
     "data": {
      "text/plain": [
       "-0.0"
      ]
     },
     "execution_count": 26,
     "metadata": {},
     "output_type": "execute_result"
    }
   ],
   "source": [
    "word_score_table[\"디스플\"].right_branching_entropy"
   ]
  },
  {
   "cell_type": "code",
   "execution_count": 27,
   "id": "Bbdrgzrv6nZJ",
   "metadata": {
    "colab": {
     "base_uri": "https://localhost:8080/"
    },
    "executionInfo": {
     "elapsed": 583,
     "status": "ok",
     "timestamp": 1656681569445,
     "user": {
      "displayName": "‍박종현(대학원생-비즈니스IT전공)",
      "userId": "13175100117096290735"
     },
     "user_tz": -540
    },
    "id": "Bbdrgzrv6nZJ",
    "outputId": "fd717280-87be-4360-f7a9-f116e1112495"
   },
   "outputs": [
    {
     "data": {
      "text/plain": [
       "-0.0"
      ]
     },
     "execution_count": 27,
     "metadata": {},
     "output_type": "execute_result"
    }
   ],
   "source": [
    "word_score_table[\"디스플레\"].right_branching_entropy"
   ]
  },
  {
   "cell_type": "code",
   "execution_count": 28,
   "id": "3tC2m6NC6pd1",
   "metadata": {
    "colab": {
     "base_uri": "https://localhost:8080/"
    },
    "executionInfo": {
     "elapsed": 482,
     "status": "ok",
     "timestamp": 1656681574399,
     "user": {
      "displayName": "‍박종현(대학원생-비즈니스IT전공)",
      "userId": "13175100117096290735"
     },
     "user_tz": -540
    },
    "id": "3tC2m6NC6pd1",
    "outputId": "7f2f6959-50e9-49ed-dba1-ce8707fad9f6"
   },
   "outputs": [
    {
     "data": {
      "text/plain": [
       "3.1400392861792916"
      ]
     },
     "execution_count": 28,
     "metadata": {},
     "output_type": "execute_result"
    }
   ],
   "source": [
    "word_score_table[\"디스플레이\"].right_branching_entropy"
   ]
  },
  {
   "cell_type": "code",
   "execution_count": 29,
   "id": "cs1VGNKc6qnS",
   "metadata": {
    "executionInfo": {
     "elapsed": 486,
     "status": "ok",
     "timestamp": 1656681601292,
     "user": {
      "displayName": "‍박종현(대학원생-비즈니스IT전공)",
      "userId": "13175100117096290735"
     },
     "user_tz": -540
    },
    "id": "cs1VGNKc6qnS"
   },
   "outputs": [],
   "source": [
    "#  SOYNLP의 L tokenizer"
   ]
  },
  {
   "cell_type": "code",
   "execution_count": 30,
   "id": "Ho4OQF296xLM",
   "metadata": {
    "colab": {
     "base_uri": "https://localhost:8080/"
    },
    "executionInfo": {
     "elapsed": 470,
     "status": "ok",
     "timestamp": 1656681613457,
     "user": {
      "displayName": "‍박종현(대학원생-비즈니스IT전공)",
      "userId": "13175100117096290735"
     },
     "user_tz": -540
    },
    "id": "Ho4OQF296xLM",
    "outputId": "705cd7ce-d1a0-4089-a062-1b97318c814a"
   },
   "outputs": [
    {
     "data": {
      "text/plain": [
       "[('국제사회', '와'), ('우리', '의'), ('노력', '들로'), ('범죄', '를'), ('척결', '하자')]"
      ]
     },
     "execution_count": 30,
     "metadata": {},
     "output_type": "execute_result"
    }
   ],
   "source": [
    "from soynlp.tokenizer import LTokenizer\n",
    "\n",
    "scores = {word:score.cohesion_forward for word, score in word_score_table.items()}\n",
    "l_tokenizer = LTokenizer(scores=scores)\n",
    "l_tokenizer.tokenize(\"국제사회와 우리의 노력들로 범죄를 척결하자\", flatten=False)"
   ]
  },
  {
   "cell_type": "code",
   "execution_count": 31,
   "id": "aEz3siCh60Jw",
   "metadata": {
    "executionInfo": {
     "elapsed": 462,
     "status": "ok",
     "timestamp": 1656681629876,
     "user": {
      "displayName": "‍박종현(대학원생-비즈니스IT전공)",
      "userId": "13175100117096290735"
     },
     "user_tz": -540
    },
    "id": "aEz3siCh60Jw"
   },
   "outputs": [],
   "source": [
    "#  최대점수 토크나이저"
   ]
  },
  {
   "cell_type": "code",
   "execution_count": 32,
   "id": "DpqTfhUl64KH",
   "metadata": {
    "colab": {
     "base_uri": "https://localhost:8080/"
    },
    "executionInfo": {
     "elapsed": 475,
     "status": "ok",
     "timestamp": 1656681635187,
     "user": {
      "displayName": "‍박종현(대학원생-비즈니스IT전공)",
      "userId": "13175100117096290735"
     },
     "user_tz": -540
    },
    "id": "DpqTfhUl64KH",
    "outputId": "07491cdf-63fe-45cf-ab24-eaff4db3e88d"
   },
   "outputs": [
    {
     "data": {
      "text/plain": [
       "['국제사회', '와', '우리', '의', '노력', '들로', '범죄', '를', '척결', '하자']"
      ]
     },
     "execution_count": 32,
     "metadata": {},
     "output_type": "execute_result"
    }
   ],
   "source": [
    "from soynlp.tokenizer import MaxScoreTokenizer\n",
    "\n",
    "maxscore_tokenizer = MaxScoreTokenizer(scores=scores)\n",
    "maxscore_tokenizer.tokenize(\"국제사회와우리의노력들로범죄를척결하자\")"
   ]
  },
  {
   "cell_type": "code",
   "execution_count": 33,
   "id": "DizxAFRs65ci",
   "metadata": {
    "executionInfo": {
     "elapsed": 487,
     "status": "ok",
     "timestamp": 1656681657946,
     "user": {
      "displayName": "‍박종현(대학원생-비즈니스IT전공)",
      "userId": "13175100117096290735"
     },
     "user_tz": -540
    },
    "id": "DizxAFRs65ci"
   },
   "outputs": [],
   "source": [
    "# SOYNLP를 이용한 반복되는 문자 정제"
   ]
  },
  {
   "cell_type": "code",
   "execution_count": 34,
   "id": "xCvp-SIU6_Hs",
   "metadata": {
    "executionInfo": {
     "elapsed": 524,
     "status": "ok",
     "timestamp": 1656681661537,
     "user": {
      "displayName": "‍박종현(대학원생-비즈니스IT전공)",
      "userId": "13175100117096290735"
     },
     "user_tz": -540
    },
    "id": "xCvp-SIU6_Hs"
   },
   "outputs": [],
   "source": [
    "from soynlp.normalizer import *"
   ]
  },
  {
   "cell_type": "code",
   "execution_count": 35,
   "id": "tB7SkNTZ6_-E",
   "metadata": {
    "colab": {
     "base_uri": "https://localhost:8080/"
    },
    "executionInfo": {
     "elapsed": 483,
     "status": "ok",
     "timestamp": 1656681667841,
     "user": {
      "displayName": "‍박종현(대학원생-비즈니스IT전공)",
      "userId": "13175100117096290735"
     },
     "user_tz": -540
    },
    "id": "tB7SkNTZ6_-E",
    "outputId": "b9ce04ed-ab23-4f79-9a43-b0ce5cc387c7"
   },
   "outputs": [
    {
     "name": "stdout",
     "output_type": "stream",
     "text": [
      "아ㅋㅋ영화존잼쓰ㅠㅠ\n",
      "아ㅋㅋ영화존잼쓰ㅠㅠ\n",
      "아ㅋㅋ영화존잼쓰ㅠㅠ\n",
      "아ㅋㅋ영화존잼쓰ㅠㅠ\n"
     ]
    }
   ],
   "source": [
    "print(emoticon_normalize('앜ㅋㅋㅋㅋ이영화존잼쓰ㅠㅠㅠㅠㅠ', num_repeats=2))\n",
    "print(emoticon_normalize('앜ㅋㅋㅋㅋㅋㅋㅋㅋㅋ이영화존잼쓰ㅠㅠㅠㅠ', num_repeats=2))\n",
    "print(emoticon_normalize('앜ㅋㅋㅋㅋㅋㅋㅋㅋㅋㅋㅋㅋ이영화존잼쓰ㅠㅠㅠㅠㅠㅠ', num_repeats=2))\n",
    "print(emoticon_normalize('앜ㅋㅋㅋㅋㅋㅋㅋㅋㅋㅋㅋㅋㅋㅋㅋㅋㅋ이영화존잼쓰ㅠㅠㅠㅠㅠㅠㅠㅠ', num_repeats=2))"
   ]
  },
  {
   "cell_type": "code",
   "execution_count": 36,
   "id": "UnkpOuju7BhA",
   "metadata": {
    "colab": {
     "base_uri": "https://localhost:8080/"
    },
    "executionInfo": {
     "elapsed": 468,
     "status": "ok",
     "timestamp": 1656681675795,
     "user": {
      "displayName": "‍박종현(대학원생-비즈니스IT전공)",
      "userId": "13175100117096290735"
     },
     "user_tz": -540
    },
    "id": "UnkpOuju7BhA",
    "outputId": "7838fec5-f766-4386-cb7f-73ca667d46d9"
   },
   "outputs": [
    {
     "name": "stdout",
     "output_type": "stream",
     "text": [
      "와하하핫\n",
      "와하하핫\n",
      "와하하핫\n"
     ]
    }
   ],
   "source": [
    "print(repeat_normalize('와하하하하하하하하하핫', num_repeats=2))\n",
    "print(repeat_normalize('와하하하하하하핫', num_repeats=2))\n",
    "print(repeat_normalize('와하하하하핫', num_repeats=2))"
   ]
  },
  {
   "cell_type": "code",
   "execution_count": 37,
   "id": "jbXLC-4a7DX3",
   "metadata": {
    "colab": {
     "base_uri": "https://localhost:8080/"
    },
    "executionInfo": {
     "elapsed": 480,
     "status": "ok",
     "timestamp": 1656681699974,
     "user": {
      "displayName": "‍박종현(대학원생-비즈니스IT전공)",
      "userId": "13175100117096290735"
     },
     "user_tz": -540
    },
    "id": "jbXLC-4a7DX3",
    "outputId": "ee0705ff-831f-48ff-b29f-c8816cc233f5"
   },
   "outputs": [
    {
     "name": "stdout",
     "output_type": "stream",
     "text": [
      "끼룩께룩끼룩께룩끼끼꼐꼐꼐꼒꼐꾸룩께꾸룩겍딱꾸룩꼑\n"
     ]
    }
   ],
   "source": [
    "print(repeat_normalize('끼룩께룩끼룩께룩끼끼끼끼꼐꼐꼐꼒꼐꾸룩께꾸룩겍딱꾸룩꼑', num_repeats=2))"
   ]
  },
  {
   "cell_type": "code",
   "execution_count": 38,
   "id": "flzV5pyO7JVW",
   "metadata": {
    "colab": {
     "base_uri": "https://localhost:8080/"
    },
    "executionInfo": {
     "elapsed": 674,
     "status": "ok",
     "timestamp": 1656681715247,
     "user": {
      "displayName": "‍박종현(대학원생-비즈니스IT전공)",
      "userId": "13175100117096290735"
     },
     "user_tz": -540
    },
    "id": "flzV5pyO7JVW",
    "outputId": "42e5b4d0-1859-417d-bab3-ca75edc0f809"
   },
   "outputs": [
    {
     "name": "stdout",
     "output_type": "stream",
     "text": [
      "꼐꼐\n"
     ]
    }
   ],
   "source": [
    "print(repeat_normalize('꼐꼐꼐꼐꼐꼐꼐꼐꼐꼐', num_repeats=2))"
   ]
  },
  {
   "cell_type": "code",
   "execution_count": 39,
   "id": "4tdEXdb77NBz",
   "metadata": {
    "executionInfo": {
     "elapsed": 540,
     "status": "ok",
     "timestamp": 1656681742057,
     "user": {
      "displayName": "‍박종현(대학원생-비즈니스IT전공)",
      "userId": "13175100117096290735"
     },
     "user_tz": -540
    },
    "id": "4tdEXdb77NBz"
   },
   "outputs": [],
   "source": [
    "# Customized KoNLPy"
   ]
  },
  {
   "cell_type": "code",
   "execution_count": 40,
   "id": "XYVUArtQ7ToF",
   "metadata": {
    "colab": {
     "base_uri": "https://localhost:8080/"
    },
    "executionInfo": {
     "elapsed": 4948,
     "status": "ok",
     "timestamp": 1656681761693,
     "user": {
      "displayName": "‍박종현(대학원생-비즈니스IT전공)",
      "userId": "13175100117096290735"
     },
     "user_tz": -540
    },
    "id": "XYVUArtQ7ToF",
    "outputId": "c9d56a5f-12d5-4a39-c1e3-96c632a03f4a"
   },
   "outputs": [
    {
     "name": "stdout",
     "output_type": "stream",
     "text": [
      "Collecting customized_konlpy\n",
      "  Downloading customized_konlpy-0.0.64-py3-none-any.whl (881 kB)\n",
      "Requirement already satisfied: Jpype1>=0.6.1 in c:\\users\\user\\anaconda3\\lib\\site-packages (from customized_konlpy) (1.4.0)\n",
      "Requirement already satisfied: konlpy>=0.4.4 in c:\\users\\user\\anaconda3\\lib\\site-packages (from customized_konlpy) (0.6.0)\n",
      "Requirement already satisfied: numpy>=1.6 in c:\\users\\user\\anaconda3\\lib\\site-packages (from konlpy>=0.4.4->customized_konlpy) (1.21.5)\n",
      "Requirement already satisfied: lxml>=4.1.0 in c:\\users\\user\\anaconda3\\lib\\site-packages (from konlpy>=0.4.4->customized_konlpy) (4.8.0)\n",
      "Installing collected packages: customized-konlpy\n",
      "Successfully installed customized-konlpy-0.0.64\n",
      "Note: you may need to restart the kernel to use updated packages.\n"
     ]
    }
   ],
   "source": [
    "pip install customized_konlpy"
   ]
  },
  {
   "cell_type": "code",
   "execution_count": 41,
   "id": "XsUcomxG7XP_",
   "metadata": {
    "colab": {
     "base_uri": "https://localhost:8080/"
    },
    "executionInfo": {
     "elapsed": 1746,
     "status": "ok",
     "timestamp": 1656684036831,
     "user": {
      "displayName": "‍박종현(대학원생-비즈니스IT전공)",
      "userId": "13175100117096290735"
     },
     "user_tz": -540
    },
    "id": "XsUcomxG7XP_",
    "outputId": "d9fe9f7d-2e40-4dca-e6ee-172267d68cfb"
   },
   "outputs": [
    {
     "name": "stderr",
     "output_type": "stream",
     "text": [
      "C:\\Users\\user\\anaconda3\\lib\\site-packages\\konlpy\\tag\\_okt.py:17: UserWarning: \"Twitter\" has changed to \"Okt\" since KoNLPy v0.4.5.\n",
      "  warn('\"Twitter\" has changed to \"Okt\" since KoNLPy v0.4.5.')\n"
     ]
    },
    {
     "data": {
      "text/plain": [
       "['은', '경이', '는', '사무실', '로', '갔습니다', '.']"
      ]
     },
     "execution_count": 41,
     "metadata": {},
     "output_type": "execute_result"
    }
   ],
   "source": [
    "from ckonlpy.tag import Twitter\n",
    "twitter = Twitter()\n",
    "twitter.morphs('은경이는 사무실로 갔습니다.')"
   ]
  },
  {
   "cell_type": "code",
   "execution_count": 42,
   "id": "-cJ9BVma7a3P",
   "metadata": {
    "executionInfo": {
     "elapsed": 582,
     "status": "ok",
     "timestamp": 1656684039450,
     "user": {
      "displayName": "‍박종현(대학원생-비즈니스IT전공)",
      "userId": "13175100117096290735"
     },
     "user_tz": -540
    },
    "id": "-cJ9BVma7a3P"
   },
   "outputs": [],
   "source": [
    "twitter.add_dictionary('은경이', 'Noun')"
   ]
  },
  {
   "cell_type": "code",
   "execution_count": 43,
   "id": "HbXdIFuD7cjC",
   "metadata": {
    "colab": {
     "base_uri": "https://localhost:8080/"
    },
    "executionInfo": {
     "elapsed": 4,
     "status": "ok",
     "timestamp": 1656684040139,
     "user": {
      "displayName": "‍박종현(대학원생-비즈니스IT전공)",
      "userId": "13175100117096290735"
     },
     "user_tz": -540
    },
    "id": "HbXdIFuD7cjC",
    "outputId": "50bebeec-cce0-41ce-ddde-099478705ddc"
   },
   "outputs": [
    {
     "data": {
      "text/plain": [
       "['은경이', '는', '사무실', '로', '갔습니다', '.']"
      ]
     },
     "execution_count": 43,
     "metadata": {},
     "output_type": "execute_result"
    }
   ],
   "source": [
    "twitter.morphs('은경이는 사무실로 갔습니다.')"
   ]
  },
  {
   "cell_type": "code",
   "execution_count": null,
   "id": "JS2AXxIz7dj8",
   "metadata": {
    "executionInfo": {
     "elapsed": 4,
     "status": "ok",
     "timestamp": 1656684042001,
     "user": {
      "displayName": "‍박종현(대학원생-비즈니스IT전공)",
      "userId": "13175100117096290735"
     },
     "user_tz": -540
    },
    "id": "JS2AXxIz7dj8"
   },
   "outputs": [],
   "source": [
    "# 3. 언어모델"
   ]
  },
  {
   "cell_type": "code",
   "execution_count": null,
   "id": "ZwGPjEsh7hgB",
   "metadata": {
    "id": "ZwGPjEsh7hgB"
   },
   "outputs": [],
   "source": []
  }
 ],
 "metadata": {
  "accelerator": "GPU",
  "colab": {
   "collapsed_sections": [],
   "name": "자연어처리.ipynb",
   "provenance": []
  },
  "gpuClass": "standard",
  "interpreter": {
   "hash": "fbe58ca63fe33f9eeae9e71d10368d2b4a57f2b1b395836210cc60d362c66949"
  },
  "kernelspec": {
   "display_name": "Python 3 (ipykernel)",
   "language": "python",
   "name": "python3"
  },
  "language_info": {
   "codemirror_mode": {
    "name": "ipython",
    "version": 3
   },
   "file_extension": ".py",
   "mimetype": "text/x-python",
   "name": "python",
   "nbconvert_exporter": "python",
   "pygments_lexer": "ipython3",
   "version": "3.9.12"
  },
  "vscode": {
   "interpreter": {
    "hash": "fbe58ca63fe33f9eeae9e71d10368d2b4a57f2b1b395836210cc60d362c66949"
   }
  }
 },
 "nbformat": 4,
 "nbformat_minor": 5
}
